{
 "cells": [
  {
   "cell_type": "markdown",
   "metadata": {
    "colab_type": "text",
    "id": "axdULAHQf8q0"
   },
   "source": [
    "![embedding_mapping.png](https://github.com/yandexdataschool/nlp_course/raw/master/resources/embedding_mapping.png)"
   ]
  },
  {
   "cell_type": "markdown",
   "metadata": {
    "colab_type": "text",
    "id": "8Ic4DVDDf8q2"
   },
   "source": [
    "## Homework: Un(semi)-supervised word translation learning"
   ]
  },
  {
   "cell_type": "markdown",
   "metadata": {
    "colab_type": "text",
    "id": "XJqPFxikf8q4"
   },
   "source": [
    "Homework based on [Conneau et al. 2018](https://arxiv.org/abs/1710.04087) article.\n",
    "\n",
    "In the homework we offer you to train a mapping between Ukrainian word vectors and Russian word vectors just like in the first homework of the NLP course. But unlike the first homework this mapping will be build (almost) unsupervised: without parallel data (pairs of corresponding words in Ukrainian and Russian)."
   ]
  },
  {
   "cell_type": "code",
   "execution_count": 1,
   "metadata": {},
   "outputs": [
    {
     "name": "stdout",
     "output_type": "stream",
     "text": [
      "env: CUDA_VISIBLE_DEVICES=5\n"
     ]
    }
   ],
   "source": [
    "!export CUDA_VISIBLE_DEVICES=5\n",
    "%env CUDA_VISIBLE_DEVICES=5"
   ]
  },
  {
   "cell_type": "code",
   "execution_count": 2,
   "metadata": {
    "colab": {
     "base_uri": "https://localhost:8080/",
     "height": 68
    },
    "colab_type": "code",
    "id": "USNiiJiqf8q6",
    "outputId": "f3fb2fe0-d025-4238-ad00-bab8c8e4d1c5"
   },
   "outputs": [
    {
     "name": "stdout",
     "output_type": "stream",
     "text": [
      "env: KERAS_BACKEND=tensorflow\n"
     ]
    },
    {
     "name": "stderr",
     "output_type": "stream",
     "text": [
      "Using TensorFlow backend.\n"
     ]
    }
   ],
   "source": [
    "%env KERAS_BACKEND=tensorflow\n",
    "%load_ext autoreload\n",
    "%autoreload 2\n",
    "\n",
    "import tensorflow as tf\n",
    "import keras\n",
    "from keras.models import Sequential\n",
    "from keras import layers as L\n",
    "import numpy as np\n",
    "import gensim\n",
    "\n",
    "from IPython import display\n",
    "from tqdm import tnrange\n",
    "import matplotlib.pyplot as plt\n",
    "%matplotlib inline"
   ]
  },
  {
   "cell_type": "code",
   "execution_count": 3,
   "metadata": {},
   "outputs": [
    {
     "data": {
      "text/plain": [
       "['/job:localhost/replica:0/task:0/device:GPU:0']"
      ]
     },
     "execution_count": 3,
     "metadata": {},
     "output_type": "execute_result"
    }
   ],
   "source": [
    "keras.backend.tensorflow_backend._get_available_gpus()"
   ]
  },
  {
   "cell_type": "code",
   "execution_count": 4,
   "metadata": {
    "colab": {},
    "colab_type": "code",
    "id": "cbbcKpGrf8rD"
   },
   "outputs": [],
   "source": [
    "ru_embs = gensim.models.KeyedVectors.load_word2vec_format(\"ru.w2v.bin\", binary=True)\n",
    "uk_embs = gensim.models.KeyedVectors.load_word2vec_format(\"uk.w2v.bin\", binary=True)"
   ]
  },
  {
   "cell_type": "code",
   "execution_count": 5,
   "metadata": {
    "colab": {},
    "colab_type": "code",
    "id": "dSQtC4nOf8rG"
   },
   "outputs": [],
   "source": [
    "x = uk_embs.vectors[:50000]\n",
    "y = ru_embs.vectors[:50000]"
   ]
  },
  {
   "cell_type": "code",
   "execution_count": 6,
   "metadata": {
    "colab": {},
    "colab_type": "code",
    "id": "XoC0IPYVf8rL"
   },
   "outputs": [],
   "source": [
    "def precision(pairs, uk_vectors, topn=1):\n",
    "    \"\"\" TODO maybe insert docstring \"\"\"\n",
    "    assert len(pairs) == len(uk_vectors)\n",
    "    num_matches = 0\n",
    "    for i, (uk, ru) in enumerate(pairs):\n",
    "        num_matches += ru in set(w[0] for w in ru_embs.most_similar([uk_vectors[i]], topn=topn))\n",
    "    return num_matches / len(pairs)\n",
    "\n",
    "def load_word_pairs(filename):\n",
    "    uk_ru_pairs = []\n",
    "    uk_vectors = []\n",
    "    ru_vectors = []\n",
    "    with open(filename, \"r\") as inpf:\n",
    "        for line in inpf:\n",
    "            uk, ru = line.rstrip().split(\"\\t\")\n",
    "            if uk not in uk_embs or ru not in ru_embs:\n",
    "                continue\n",
    "            uk_ru_pairs.append((uk, ru))\n",
    "            uk_vectors.append(uk_embs[uk])\n",
    "            ru_vectors.append(ru_embs[ru])\n",
    "    return uk_ru_pairs, np.array(uk_vectors), np.array(ru_vectors)"
   ]
  },
  {
   "cell_type": "code",
   "execution_count": 7,
   "metadata": {
    "colab": {},
    "colab_type": "code",
    "id": "6yQaz29-f8rP"
   },
   "outputs": [],
   "source": [
    "uk_ru_test, x_test, y_test = load_word_pairs(\"ukr_rus.test.txt\")\n",
    "uk_ru_train, x_train, y_train = load_word_pairs(\"ukr_rus.train.txt\")"
   ]
  },
  {
   "cell_type": "code",
   "execution_count": 8,
   "metadata": {
    "colab": {
     "base_uri": "https://localhost:8080/",
     "height": 131
    },
    "colab_type": "code",
    "id": "S3PzuYQjf8rT",
    "outputId": "9664c5a5-3e9f-441e-83ec-f79007a018dc"
   },
   "outputs": [
    {
     "data": {
      "text/plain": [
       "1.0"
      ]
     },
     "execution_count": 8,
     "metadata": {},
     "output_type": "execute_result"
    }
   ],
   "source": [
    "precision(uk_ru_test, y_test, 5)"
   ]
  },
  {
   "cell_type": "markdown",
   "metadata": {
    "colab_type": "text",
    "id": "iX9Cmw46f8rV"
   },
   "source": [
    "## Reminder"
   ]
  },
  {
   "cell_type": "markdown",
   "metadata": {
    "colab_type": "text",
    "id": "ah_ZQ_Bcf8rW"
   },
   "source": [
    "### Embedding space mapping"
   ]
  },
  {
   "cell_type": "markdown",
   "metadata": {
    "colab_type": "text",
    "id": "ZbbloHF3f8rX"
   },
   "source": [
    "Let $x_i \\in \\mathrm{R}^d$ be the distributed representation of word $i$ in the source language, and $y_i \\in \\mathrm{R}^d$ is the vector representation of its translation. Our purpose is to learn such linear transform $W$ that minimizes euclidian distance between $Wx_i$ and $y_i$ for some subset of word embeddings. Thus we can formulate so-called Procrustes problem:\n",
    "\n",
    "$$W^*= \\arg\\min_W \\sum_{i=1}^n||Wx_i - y_i||_2$$\n",
    "or\n",
    "$$W^*= \\arg\\min_W ||WX - Y||_F$$\n",
    "\n",
    "where $||*||_F$ - Frobenius norm.\n",
    "\n",
    "In Greek mythology, Procrustes or \"the stretcher\" was a rogue smith and bandit from Attica who attacked people by stretching them or cutting off their legs, so as to force them to fit the size of an iron bed. We make same bad things with source embedding space. Our Procrustean bed is target embedding space."
   ]
  },
  {
   "cell_type": "markdown",
   "metadata": {
    "colab_type": "text",
    "id": "sey6gIf3f8rY"
   },
   "source": [
    "But wait...$W^*= \\arg\\min_W \\sum_{i=1}^n||Wx_i - y_i||_2$ looks like simple multiple linear regression (without intercept fit). So let's code."
   ]
  },
  {
   "cell_type": "markdown",
   "metadata": {
    "colab_type": "text",
    "id": "6xICLRgEf8rZ"
   },
   "source": [
    "### Orthogonal Procrustean Problem"
   ]
  },
  {
   "cell_type": "markdown",
   "metadata": {
    "colab_type": "text",
    "id": "I_Ln73lPf8ra"
   },
   "source": [
    "It can be shown (see original paper) that a self-consistent linear mapping between semantic spaces should be orthogonal. TODO simplify phrases\n",
    "We can restrict transform $W$ to be orthogonal. Then we will solve next problem:\n",
    "\n",
    "$$W^*= \\arg\\min_W ||WX - Y||_F \\text{, where: } W^TW = I$$\n",
    "\n",
    "$$I \\text{- identity matrix}$$\n",
    "\n",
    "Instead of making yet another regression problem we can find optimal orthogonal transformation using singular value decomposition. It turns out that optimal transformation $W^*$ can be expressed via SVD components:\n",
    "$$X^TY=U\\Sigma V^T\\text{, singular value decompostion}$$\n",
    "$$W^*=UV^T$$"
   ]
  },
  {
   "cell_type": "markdown",
   "metadata": {
    "colab_type": "text",
    "id": "gDkUbdHVf8rc"
   },
   "source": [
    "## Word translation learning using GAN (8 points)"
   ]
  },
  {
   "cell_type": "markdown",
   "metadata": {
    "colab_type": "text",
    "id": "YLesLo3Pf8rd"
   },
   "source": [
    "### Generator"
   ]
  },
  {
   "cell_type": "markdown",
   "metadata": {
    "colab_type": "text",
    "id": "73mUMXSQf8re"
   },
   "source": [
    "If $\\mathcal{X}=\\{x_1,...,x_n\\} \\subset \\mathrm{R}^d$ - source embedding set, and $\\mathcal{Y}=\\{y_1,...,y_m\\} \\subset \\mathrm{R}^d$ - target embedding set, then discriminator is simply orthogonal mapping that can be defined as square matrix: $W\\in O_d(\\mathrm{R})$.\n",
    "\n",
    "In terms of neural network, generator is a network with single linear layer with orthogonality constraint and without nonlinearity after it.\n",
    "\n",
    "The generator input is a source embedding $x_i$, the generator output is a mapped source embedding $Wx_i$"
   ]
  },
  {
   "cell_type": "code",
   "execution_count": 9,
   "metadata": {
    "colab": {},
    "colab_type": "code",
    "id": "dpgXkG7Ff8re"
   },
   "outputs": [],
   "source": [
    "EMB_SIZE = 300"
   ]
  },
  {
   "cell_type": "code",
   "execution_count": 10,
   "metadata": {
    "colab": {},
    "colab_type": "code",
    "id": "0chi6g6bf8rg"
   },
   "outputs": [],
   "source": [
    "import keras, keras.layers as L\n",
    "\n",
    "def build_generator(emb_size):\n",
    "    model = Sequential()\n",
    "    model.add(L.InputLayer(input_shape=[emb_size]))\n",
    "    model.add(L.Dense(emb_size, use_bias=False, kernel_initializer=keras.initializers.Identity()))\n",
    "    \n",
    "    return model"
   ]
  },
  {
   "cell_type": "code",
   "execution_count": 11,
   "metadata": {
    "colab": {},
    "colab_type": "code",
    "id": "eSbzDNXbf8ri"
   },
   "outputs": [],
   "source": [
    "generator = build_generator(EMB_SIZE)"
   ]
  },
  {
   "cell_type": "markdown",
   "metadata": {
    "colab_type": "text",
    "id": "UMu1AcIpf8rk"
   },
   "source": [
    "### Discriminator"
   ]
  },
  {
   "cell_type": "markdown",
   "metadata": {
    "colab_type": "text",
    "id": "EE_tJyyLf8rk"
   },
   "source": [
    "Discriminator is a neural network that should discriminate between objects from $W\\mathcal{X}$ (mapped source embeddings) and objects from $\\mathcal{Y}$ (target embeddings).\n",
    "\n",
    "Just like in original article for discriminator we will use a multilayer perceptron with two hidden layers of size 2048, and Leaky-ReLU activation functions. The input to the discriminator is corrupted with dropout noise\n",
    "with a rate of 0.1.\n",
    "\n",
    "The discriminator input is either mapped source embedding $Wx_i$ or target embedding $y_j$, the discriminator output is a probability of input to be from source distribution $p_D=p_D(source=1)$\n",
    "\n"
   ]
  },
  {
   "cell_type": "code",
   "execution_count": 12,
   "metadata": {
    "colab": {},
    "colab_type": "code",
    "id": "YEqfqj94f8rl"
   },
   "outputs": [],
   "source": [
    "def build_discriminator(emb_size):\n",
    "    model = Sequential()\n",
    "    model.add(L.InputLayer([emb_size]))\n",
    "    model.add(L.Dropout(0.1))\n",
    "    model.add(L.Dense(2048))\n",
    "    model.add(L.LeakyReLU())\n",
    "    model.add(L.Dense(2048))  \n",
    "    model.add(L.LeakyReLU())\n",
    "    model.add(L.Dense(1))\n",
    "    \n",
    "    return model"
   ]
  },
  {
   "cell_type": "code",
   "execution_count": 13,
   "metadata": {
    "colab": {},
    "colab_type": "code",
    "id": "fcQGsVd2f8rm"
   },
   "outputs": [],
   "source": [
    "discriminator = build_discriminator(EMB_SIZE)"
   ]
  },
  {
   "cell_type": "markdown",
   "metadata": {
    "colab_type": "text",
    "id": "xKJWF8uRf8ro"
   },
   "source": [
    "### Discriminator loss"
   ]
  },
  {
   "cell_type": "markdown",
   "metadata": {
    "colab_type": "text",
    "id": "-DJwKrBDf8rp"
   },
   "source": [
    "The purpose of discriminator is to maximize output probability for mapped source embeddings $p_D(source=1|Wx_i)$ and minimize probability for target embeddings $p_D(source=1|y_j)$. The last is equivalent to maximization of  $p_D(source=0|y_j)$. Thus, we can train this classifier with standard cross-entropy loss:"
   ]
  },
  {
   "cell_type": "markdown",
   "metadata": {
    "colab_type": "text",
    "id": "LuDShBdif8rq"
   },
   "source": [
    "$$\\mathcal{L}_D(\\theta_D|W)=-\\frac{1}{n}\\sum_{i=1}^n\\log p_D(source=1|Wx_i)-\\frac{1}{m}\\sum_{i=1}^m\\log p_D(source=0|y_i)$$\n",
    "Equivalent:\n",
    "$$\\mathcal{L}_D(\\theta_D|W)=-\\frac{1}{n}\\sum_{i=1}^n\\log p_D(source=1|Wx_i)-\\frac{1}{m}\\sum_{i=1}^m\\log (1-p_D(source=1|y_i))$$\n",
    "\n",
    "**NB:** We minimize $\\mathcal{L}_D(\\theta_D|W)$ with respect discriminator parameters $\\theta_D$. The matrix $W$ is fixed."
   ]
  },
  {
   "cell_type": "code",
   "execution_count": 14,
   "metadata": {
    "colab": {},
    "colab_type": "code",
    "id": "abiZpHnWf8rq"
   },
   "outputs": [],
   "source": [
    "X = tf.placeholder(tf.float32, [None, EMB_SIZE])\n",
    "Y = tf.placeholder(tf.float32, [None, EMB_SIZE])\n",
    "W = generator.weights[0]\n",
    "WX = generator(X)\n",
    "\n",
    "logp_wx_is_real = tf.log_sigmoid(discriminator(WX))\n",
    "logp_wx_is_fake = tf.log_sigmoid(-discriminator(WX))\n",
    "logp_y_is_real = tf.log_sigmoid(discriminator(Y))\n",
    "\n",
    "L_d = -(tf.reduce_mean(logp_wx_is_fake) + tf.reduce_mean(logp_y_is_real))"
   ]
  },
  {
   "cell_type": "markdown",
   "metadata": {
    "colab_type": "text",
    "id": "NQBusorXf8rs"
   },
   "source": [
    "As suggested Goodfellow (2016) it is useful to use soft targets instead hard ones. In case label smoothing:\n",
    "$$\\mathcal{L}_D(\\theta_D|W)=\\mathcal{L}_{D_1}+\\mathcal{L}_{D_2}$$\n",
    "\n",
    "Where:\n",
    "$$\\mathcal{L}_{D_1}=\\frac{1}{n}\\sum_{i=1}^n[(1-\\alpha)\\log p_D(source=1|Wx_i) + \\alpha\\log p_D(source=0|Wx_i)]$$\n",
    "\n",
    "$$\\mathcal{L}_{D_2}=\\frac{1}{m}\\sum_{i=1}^n[(1-\\alpha)\\log p_D(source=0|Wx_i) + \\alpha\\log p_D(source=1|Wx_i)]$$"
   ]
  },
  {
   "cell_type": "code",
   "execution_count": 15,
   "metadata": {
    "colab": {},
    "colab_type": "code",
    "id": "nmzxoIKkf8rs"
   },
   "outputs": [],
   "source": [
    "# YOUR CODE HERE IF YOU REALLY WANT TO USE LABEL SMOOTHING"
   ]
  },
  {
   "cell_type": "markdown",
   "metadata": {
    "colab_type": "text",
    "id": "3-sCH47rf8ru"
   },
   "source": [
    "### Generator loss"
   ]
  },
  {
   "cell_type": "markdown",
   "metadata": {
    "colab_type": "text",
    "id": "swbKl6zgf8rv"
   },
   "source": [
    "The purpose of generator is to fool discriminator, i.e. to produce mapping $W\\mathcal{X}$ indistinguishable from $\\mathcal{Y}$. Therefore we should turn over discriminator loss, minimize output probability for mapped source embeddings $p_D(source=1|Wx_i)$ and minimize probability for target embeddings $p_D(source=0|y_j)$.\n",
    "\n",
    "$$\\mathcal{L}_G(W|\\theta_D)=-\\frac{1}{n}\\sum_{i=1}^n\\log (1-p_D(source=1|Wx_i))-\\frac{1}{m}\\sum_{i=1}^m\\log p_D(source=1|y_i)$$\n",
    "\n",
    "**NB:** We minimize $\\mathcal{L}_G(W|\\theta_D)$ with respect matrix $W$ coefficients. Disciminator parameters $\\theta_D$ is fixed."
   ]
  },
  {
   "cell_type": "markdown",
   "metadata": {
    "colab_type": "text",
    "id": "7YXs_xBlf8rv"
   },
   "source": [
    "Because gradients do not flow through generator for target samples:\n",
    "\n",
    "$$\\mathcal{L}_G(W|\\theta_D)=-\\frac{1}{n}\\sum_{i=1}^n\\log (1-p_D(source=1|Wx_i))$$"
   ]
  },
  {
   "cell_type": "markdown",
   "metadata": {
    "colab_type": "text",
    "id": "DuJkubEif8rw"
   },
   "source": [
    "In contrast with original article to be more stable we allow you to add a supervised component of loss - MSE for small number of fixed pairs vectors from $\\mathcal{X}$ and $\\mathcal{Y}$.\n",
    "\n",
    "$$\\mathcal{L}_G(W|\\theta_D)=-\\frac{1}{n}\\sum_{i=1}^n\\log (1-p_D(source=1|Wx_i))+\\gamma \\frac{1}{N}\\sum_{k}^N(Wx_k-y_k)^2$$"
   ]
  },
  {
   "cell_type": "code",
   "execution_count": 16,
   "metadata": {
    "colab": {},
    "colab_type": "code",
    "id": "Nnklhqe3f8rw"
   },
   "outputs": [],
   "source": [
    "X_pair = tf.placeholder('float32', [None, EMB_SIZE])\n",
    "Y_pair = tf.placeholder('float32', [None, EMB_SIZE])\n",
    "\n",
    "L_q_source = -tf.reduce_mean(logp_wx_is_real)\n",
    "L_mse = tf.losses.mean_squared_error(Y_pair, generator(X_pair))\n",
    "\n",
    "L_g = L_mse * 100 + L_q_source"
   ]
  },
  {
   "cell_type": "markdown",
   "metadata": {
    "colab_type": "text",
    "id": "mMu09_83f8ry"
   },
   "source": [
    "### Orthogonality constraint\n",
    "Conneau et al. propose to use a simple update step to ensure that the matrix $W$ stays close to an\n",
    "orthogonal matrix during training:\n",
    "\n",
    "$$W \\gets (1+\\beta)W-\\beta(WW^T)W$$"
   ]
  },
  {
   "cell_type": "code",
   "execution_count": 17,
   "metadata": {
    "colab": {},
    "colab_type": "code",
    "id": "bBqOweV1f8ry"
   },
   "outputs": [],
   "source": [
    "BETA = tf.constant(0.1)\n",
    "\n",
    "orthogonolize = tf.assign(W, W * (1 + BETA) - BETA * tf.matmul(tf.matmul(W, W, transpose_b=True), W))"
   ]
  },
  {
   "cell_type": "markdown",
   "metadata": {
    "colab_type": "text",
    "id": "XNgan4rkf8r0"
   },
   "source": [
    "### Training"
   ]
  },
  {
   "cell_type": "code",
   "execution_count": 18,
   "metadata": {
    "colab": {},
    "colab_type": "code",
    "id": "Tcy0oJ5xf8r0"
   },
   "outputs": [],
   "source": [
    "LEARNING_RATE = 0.1\n",
    "\n",
    "gen_optim = tf.train.GradientDescentOptimizer(LEARNING_RATE).minimize(L_g, var_list=generator.trainable_weights)\n",
    "dis_optim = tf.train.GradientDescentOptimizer(LEARNING_RATE).minimize(L_d, var_list=discriminator.trainable_weights)"
   ]
  },
  {
   "cell_type": "code",
   "execution_count": 19,
   "metadata": {
    "colab": {},
    "colab_type": "code",
    "id": "o6cp9VJ-f8r1"
   },
   "outputs": [],
   "source": [
    "BATCH_SIZE = 32\n",
    "\n",
    "def sample_batch(bsize):\n",
    "    x_batch = x[np.random.choice(np.arange(x.shape[0]), size=bsize)]\n",
    "    y_batch = y[np.random.choice(np.arange(y.shape[0]), size=bsize)]\n",
    "    return x_batch, y_batch"
   ]
  },
  {
   "cell_type": "code",
   "execution_count": 20,
   "metadata": {
    "colab": {},
    "colab_type": "code",
    "id": "02GWKoQ5f8r2"
   },
   "outputs": [],
   "source": [
    "def discriminator_step():\n",
    "    feed_dict = {\n",
    "        X: x_batch,\n",
    "        Y: y_batch\n",
    "    }\n",
    "    sess.run(dis_optim, feed_dict)\n",
    "    \n",
    "def generator_step():\n",
    "    feed_dict = {\n",
    "        X: x_batch,\n",
    "        X_pair: x_train[:50],\n",
    "        Y_pair: y_train[:50]\n",
    "    }\n",
    "    \n",
    "    sess.run(gen_optim, feed_dict)\n",
    "\n",
    "def orthogonolize_step():\n",
    "    sess.run(orthogonolize)\n"
   ]
  },
  {
   "cell_type": "code",
   "execution_count": 21,
   "metadata": {
    "colab": {},
    "colab_type": "code",
    "id": "rJdIwDSnf8r4"
   },
   "outputs": [],
   "source": [
    "def get_metrics():\n",
    "    feed_dict = {\n",
    "        X: x_test,\n",
    "        Y: y_test,\n",
    "        X_pair: x_train[:50],\n",
    "        Y_pair: y_train[:50]\n",
    "    }\n",
    "    loss_g, loss_d, logp_x, logp_y, wx = sess.run([L_g, L_d, logp_wx_is_real, logp_y_is_real, WX], feed_dict)\n",
    "    return loss_g, loss_d, np.exp(logp_x), np.exp(logp_y), wx"
   ]
  },
  {
   "cell_type": "code",
   "execution_count": 25,
   "metadata": {
    "colab": {},
    "colab_type": "code",
    "id": "z6f1YRP7f8r5"
   },
   "outputs": [],
   "source": [
    "sess = keras.backend.get_session()\n",
    "sess.run(tf.global_variables_initializer())"
   ]
  },
  {
   "cell_type": "code",
   "execution_count": 27,
   "metadata": {
    "colab": {
     "base_uri": "https://localhost:8080/",
     "height": 1031
    },
    "colab_type": "code",
    "id": "CIBpF3C5f8r7",
    "outputId": "14cff13c-de7f-4c86-b35d-7eb3ed4079b6",
    "scrolled": false
   },
   "outputs": [
    {
     "data": {
      "image/png": "[encoded data removed]",
      "text/plain": [
       "<Figure size 1080x1080 with 3 Axes>"
      ]
     },
     "metadata": {},
     "output_type": "display_data"
    },
    {
     "ename": "KeyboardInterrupt",
     "evalue": "",
     "output_type": "error",
     "traceback": [
      "\u001b[0;31m---------------------------------------------------------------------------\u001b[0m",
      "\u001b[0;31mKeyboardInterrupt\u001b[0m                         Traceback (most recent call last)",
      "\u001b[0;32m<ipython-input-27-db0afac37723>\u001b[0m in \u001b[0;36m<module>\u001b[0;34m()\u001b[0m\n\u001b[1;32m     18\u001b[0m         \u001b[0;32mfor\u001b[0m \u001b[0m_\u001b[0m \u001b[0;32min\u001b[0m \u001b[0mrange\u001b[0m\u001b[0;34m(\u001b[0m\u001b[0mGEN_STEPS\u001b[0m\u001b[0;34m)\u001b[0m\u001b[0;34m:\u001b[0m\u001b[0;34m\u001b[0m\u001b[0;34m\u001b[0m\u001b[0m\n\u001b[1;32m     19\u001b[0m             \u001b[0mx_batch\u001b[0m\u001b[0;34m,\u001b[0m \u001b[0my_batch\u001b[0m \u001b[0;34m=\u001b[0m \u001b[0msample_batch\u001b[0m\u001b[0;34m(\u001b[0m\u001b[0mBATCH_SIZE\u001b[0m\u001b[0;34m)\u001b[0m\u001b[0;34m\u001b[0m\u001b[0;34m\u001b[0m\u001b[0m\n\u001b[0;32m---> 20\u001b[0;31m             \u001b[0mgenerator_step\u001b[0m\u001b[0;34m(\u001b[0m\u001b[0;34m)\u001b[0m\u001b[0;34m\u001b[0m\u001b[0;34m\u001b[0m\u001b[0m\n\u001b[0m\u001b[1;32m     21\u001b[0m             \u001b[0morthogonolize_step\u001b[0m\u001b[0;34m(\u001b[0m\u001b[0;34m)\u001b[0m\u001b[0;34m\u001b[0m\u001b[0;34m\u001b[0m\u001b[0m\n\u001b[1;32m     22\u001b[0m \u001b[0;34m\u001b[0m\u001b[0m\n",
      "\u001b[0;32m<ipython-input-20-2b879cffd0b5>\u001b[0m in \u001b[0;36mgenerator_step\u001b[0;34m()\u001b[0m\n\u001b[1;32m     13\u001b[0m     }\n\u001b[1;32m     14\u001b[0m \u001b[0;34m\u001b[0m\u001b[0m\n\u001b[0;32m---> 15\u001b[0;31m     \u001b[0msess\u001b[0m\u001b[0;34m.\u001b[0m\u001b[0mrun\u001b[0m\u001b[0;34m(\u001b[0m\u001b[0mgen_optim\u001b[0m\u001b[0;34m,\u001b[0m \u001b[0mfeed_dict\u001b[0m\u001b[0;34m)\u001b[0m\u001b[0;34m\u001b[0m\u001b[0;34m\u001b[0m\u001b[0m\n\u001b[0m\u001b[1;32m     16\u001b[0m \u001b[0;34m\u001b[0m\u001b[0m\n\u001b[1;32m     17\u001b[0m \u001b[0;32mdef\u001b[0m \u001b[0morthogonolize_step\u001b[0m\u001b[0;34m(\u001b[0m\u001b[0;34m)\u001b[0m\u001b[0;34m:\u001b[0m\u001b[0;34m\u001b[0m\u001b[0;34m\u001b[0m\u001b[0m\n",
      "\u001b[0;32m/cephfs/home/vasilkovsky/ds_basic/lib/python3.6/site-packages/tensorflow/python/client/session.py\u001b[0m in \u001b[0;36mrun\u001b[0;34m(self, fetches, feed_dict, options, run_metadata)\u001b[0m\n\u001b[1;32m    898\u001b[0m     \u001b[0;32mtry\u001b[0m\u001b[0;34m:\u001b[0m\u001b[0;34m\u001b[0m\u001b[0;34m\u001b[0m\u001b[0m\n\u001b[1;32m    899\u001b[0m       result = self._run(None, fetches, feed_dict, options_ptr,\n\u001b[0;32m--> 900\u001b[0;31m                          run_metadata_ptr)\n\u001b[0m\u001b[1;32m    901\u001b[0m       \u001b[0;32mif\u001b[0m \u001b[0mrun_metadata\u001b[0m\u001b[0;34m:\u001b[0m\u001b[0;34m\u001b[0m\u001b[0;34m\u001b[0m\u001b[0m\n\u001b[1;32m    902\u001b[0m         \u001b[0mproto_data\u001b[0m \u001b[0;34m=\u001b[0m \u001b[0mtf_session\u001b[0m\u001b[0;34m.\u001b[0m\u001b[0mTF_GetBuffer\u001b[0m\u001b[0;34m(\u001b[0m\u001b[0mrun_metadata_ptr\u001b[0m\u001b[0;34m)\u001b[0m\u001b[0;34m\u001b[0m\u001b[0;34m\u001b[0m\u001b[0m\n",
      "\u001b[0;32m/cephfs/home/vasilkovsky/ds_basic/lib/python3.6/site-packages/tensorflow/python/client/session.py\u001b[0m in \u001b[0;36m_run\u001b[0;34m(self, handle, fetches, feed_dict, options, run_metadata)\u001b[0m\n\u001b[1;32m   1133\u001b[0m     \u001b[0;32mif\u001b[0m \u001b[0mfinal_fetches\u001b[0m \u001b[0;32mor\u001b[0m \u001b[0mfinal_targets\u001b[0m \u001b[0;32mor\u001b[0m \u001b[0;34m(\u001b[0m\u001b[0mhandle\u001b[0m \u001b[0;32mand\u001b[0m \u001b[0mfeed_dict_tensor\u001b[0m\u001b[0;34m)\u001b[0m\u001b[0;34m:\u001b[0m\u001b[0;34m\u001b[0m\u001b[0;34m\u001b[0m\u001b[0m\n\u001b[1;32m   1134\u001b[0m       results = self._do_run(handle, final_targets, final_fetches,\n\u001b[0;32m-> 1135\u001b[0;31m                              feed_dict_tensor, options, run_metadata)\n\u001b[0m\u001b[1;32m   1136\u001b[0m     \u001b[0;32melse\u001b[0m\u001b[0;34m:\u001b[0m\u001b[0;34m\u001b[0m\u001b[0;34m\u001b[0m\u001b[0m\n\u001b[1;32m   1137\u001b[0m       \u001b[0mresults\u001b[0m \u001b[0;34m=\u001b[0m \u001b[0;34m[\u001b[0m\u001b[0;34m]\u001b[0m\u001b[0;34m\u001b[0m\u001b[0;34m\u001b[0m\u001b[0m\n",
      "\u001b[0;32m/cephfs/home/vasilkovsky/ds_basic/lib/python3.6/site-packages/tensorflow/python/client/session.py\u001b[0m in \u001b[0;36m_do_run\u001b[0;34m(self, handle, target_list, fetch_list, feed_dict, options, run_metadata)\u001b[0m\n\u001b[1;32m   1314\u001b[0m     \u001b[0;32mif\u001b[0m \u001b[0mhandle\u001b[0m \u001b[0;32mis\u001b[0m \u001b[0;32mNone\u001b[0m\u001b[0;34m:\u001b[0m\u001b[0;34m\u001b[0m\u001b[0;34m\u001b[0m\u001b[0m\n\u001b[1;32m   1315\u001b[0m       return self._do_call(_run_fn, feeds, fetches, targets, options,\n\u001b[0;32m-> 1316\u001b[0;31m                            run_metadata)\n\u001b[0m\u001b[1;32m   1317\u001b[0m     \u001b[0;32melse\u001b[0m\u001b[0;34m:\u001b[0m\u001b[0;34m\u001b[0m\u001b[0;34m\u001b[0m\u001b[0m\n\u001b[1;32m   1318\u001b[0m       \u001b[0;32mreturn\u001b[0m \u001b[0mself\u001b[0m\u001b[0;34m.\u001b[0m\u001b[0m_do_call\u001b[0m\u001b[0;34m(\u001b[0m\u001b[0m_prun_fn\u001b[0m\u001b[0;34m,\u001b[0m \u001b[0mhandle\u001b[0m\u001b[0;34m,\u001b[0m \u001b[0mfeeds\u001b[0m\u001b[0;34m,\u001b[0m \u001b[0mfetches\u001b[0m\u001b[0;34m)\u001b[0m\u001b[0;34m\u001b[0m\u001b[0;34m\u001b[0m\u001b[0m\n",
      "\u001b[0;32m/cephfs/home/vasilkovsky/ds_basic/lib/python3.6/site-packages/tensorflow/python/client/session.py\u001b[0m in \u001b[0;36m_do_call\u001b[0;34m(self, fn, *args)\u001b[0m\n\u001b[1;32m   1320\u001b[0m   \u001b[0;32mdef\u001b[0m \u001b[0m_do_call\u001b[0m\u001b[0;34m(\u001b[0m\u001b[0mself\u001b[0m\u001b[0;34m,\u001b[0m \u001b[0mfn\u001b[0m\u001b[0;34m,\u001b[0m \u001b[0;34m*\u001b[0m\u001b[0margs\u001b[0m\u001b[0;34m)\u001b[0m\u001b[0;34m:\u001b[0m\u001b[0;34m\u001b[0m\u001b[0;34m\u001b[0m\u001b[0m\n\u001b[1;32m   1321\u001b[0m     \u001b[0;32mtry\u001b[0m\u001b[0;34m:\u001b[0m\u001b[0;34m\u001b[0m\u001b[0;34m\u001b[0m\u001b[0m\n\u001b[0;32m-> 1322\u001b[0;31m       \u001b[0;32mreturn\u001b[0m \u001b[0mfn\u001b[0m\u001b[0;34m(\u001b[0m\u001b[0;34m*\u001b[0m\u001b[0margs\u001b[0m\u001b[0;34m)\u001b[0m\u001b[0;34m\u001b[0m\u001b[0;34m\u001b[0m\u001b[0m\n\u001b[0m\u001b[1;32m   1323\u001b[0m     \u001b[0;32mexcept\u001b[0m \u001b[0merrors\u001b[0m\u001b[0;34m.\u001b[0m\u001b[0mOpError\u001b[0m \u001b[0;32mas\u001b[0m \u001b[0me\u001b[0m\u001b[0;34m:\u001b[0m\u001b[0;34m\u001b[0m\u001b[0;34m\u001b[0m\u001b[0m\n\u001b[1;32m   1324\u001b[0m       \u001b[0mmessage\u001b[0m \u001b[0;34m=\u001b[0m \u001b[0mcompat\u001b[0m\u001b[0;34m.\u001b[0m\u001b[0mas_text\u001b[0m\u001b[0;34m(\u001b[0m\u001b[0me\u001b[0m\u001b[0;34m.\u001b[0m\u001b[0mmessage\u001b[0m\u001b[0;34m)\u001b[0m\u001b[0;34m\u001b[0m\u001b[0;34m\u001b[0m\u001b[0m\n",
      "\u001b[0;32m/cephfs/home/vasilkovsky/ds_basic/lib/python3.6/site-packages/tensorflow/python/client/session.py\u001b[0m in \u001b[0;36m_run_fn\u001b[0;34m(feed_dict, fetch_list, target_list, options, run_metadata)\u001b[0m\n\u001b[1;32m   1305\u001b[0m       \u001b[0mself\u001b[0m\u001b[0;34m.\u001b[0m\u001b[0m_extend_graph\u001b[0m\u001b[0;34m(\u001b[0m\u001b[0;34m)\u001b[0m\u001b[0;34m\u001b[0m\u001b[0;34m\u001b[0m\u001b[0m\n\u001b[1;32m   1306\u001b[0m       return self._call_tf_sessionrun(\n\u001b[0;32m-> 1307\u001b[0;31m           options, feed_dict, fetch_list, target_list, run_metadata)\n\u001b[0m\u001b[1;32m   1308\u001b[0m \u001b[0;34m\u001b[0m\u001b[0m\n\u001b[1;32m   1309\u001b[0m     \u001b[0;32mdef\u001b[0m \u001b[0m_prun_fn\u001b[0m\u001b[0;34m(\u001b[0m\u001b[0mhandle\u001b[0m\u001b[0;34m,\u001b[0m \u001b[0mfeed_dict\u001b[0m\u001b[0;34m,\u001b[0m \u001b[0mfetch_list\u001b[0m\u001b[0;34m)\u001b[0m\u001b[0;34m:\u001b[0m\u001b[0;34m\u001b[0m\u001b[0;34m\u001b[0m\u001b[0m\n",
      "\u001b[0;32m/cephfs/home/vasilkovsky/ds_basic/lib/python3.6/site-packages/tensorflow/python/client/session.py\u001b[0m in \u001b[0;36m_call_tf_sessionrun\u001b[0;34m(self, options, feed_dict, fetch_list, target_list, run_metadata)\u001b[0m\n\u001b[1;32m   1407\u001b[0m       return tf_session.TF_SessionRun_wrapper(\n\u001b[1;32m   1408\u001b[0m           \u001b[0mself\u001b[0m\u001b[0;34m.\u001b[0m\u001b[0m_session\u001b[0m\u001b[0;34m,\u001b[0m \u001b[0moptions\u001b[0m\u001b[0;34m,\u001b[0m \u001b[0mfeed_dict\u001b[0m\u001b[0;34m,\u001b[0m \u001b[0mfetch_list\u001b[0m\u001b[0;34m,\u001b[0m \u001b[0mtarget_list\u001b[0m\u001b[0;34m,\u001b[0m\u001b[0;34m\u001b[0m\u001b[0;34m\u001b[0m\u001b[0m\n\u001b[0;32m-> 1409\u001b[0;31m           run_metadata)\n\u001b[0m\u001b[1;32m   1410\u001b[0m     \u001b[0;32melse\u001b[0m\u001b[0;34m:\u001b[0m\u001b[0;34m\u001b[0m\u001b[0;34m\u001b[0m\u001b[0m\n\u001b[1;32m   1411\u001b[0m       \u001b[0;32mwith\u001b[0m \u001b[0merrors\u001b[0m\u001b[0;34m.\u001b[0m\u001b[0mraise_exception_on_not_ok_status\u001b[0m\u001b[0;34m(\u001b[0m\u001b[0;34m)\u001b[0m \u001b[0;32mas\u001b[0m \u001b[0mstatus\u001b[0m\u001b[0;34m:\u001b[0m\u001b[0;34m\u001b[0m\u001b[0;34m\u001b[0m\u001b[0m\n",
      "\u001b[0;31mKeyboardInterrupt\u001b[0m: "
     ]
    }
   ],
   "source": [
    "N_EPOCHS = 10\n",
    "EPOCH_SIZE = 1000\n",
    "DIS_STEPS = 4\n",
    "GEN_STEPS = 2\n",
    "\n",
    "\n",
    "gen_loss_history = []\n",
    "dis_loss_history = []\n",
    "prec_history = []\n",
    "\n",
    "for epoch_num in range(N_EPOCHS):\n",
    "    for batch_num in range(EPOCH_SIZE):\n",
    "        \n",
    "        for _ in range(DIS_STEPS):\n",
    "            x_batch, y_batch = sample_batch(BATCH_SIZE)\n",
    "            discriminator_step()\n",
    "            \n",
    "        for _ in range(GEN_STEPS):\n",
    "            x_batch, y_batch = sample_batch(BATCH_SIZE)\n",
    "            generator_step()\n",
    "            orthogonolize_step()\n",
    "        \n",
    "        if batch_num % 10 == 0:\n",
    "            display.clear_output(wait=True)\n",
    "            loss_g, loss_d, p_x, p_y, wx = get_metrics()\n",
    "            gen_loss_history.append(loss_g)\n",
    "            dis_loss_history.append(loss_d)\n",
    "            \n",
    "            if batch_num % 100 == 0:\n",
    "                prec_history.append(precision(uk_ru_test, wx, 5))\n",
    "\n",
    "            plt.figure(figsize=(15,15))\n",
    "            plt.subplot(212)\n",
    "            plt.plot(gen_loss_history, label=\"Generator loss\")\n",
    "            plt.plot(dis_loss_history, label=\"Discriminator loss\")\n",
    "            plt.legend(loc='best')\n",
    "\n",
    "            plt.subplot(221)\n",
    "            plt.title('Mapped vs target data, epoch: {}'.format(epoch_num + 1))\n",
    "            plt.hist(p_x, label='D(Y)', alpha=0.5,range=[0,1], bins=20)\n",
    "            plt.hist(p_y, label='D(WX)',alpha=0.5,range=[0,1], bins=20)\n",
    "            plt.legend(loc='best')\n",
    "            \n",
    "            plt.subplot(222)\n",
    "            plt.title('Precision top5')\n",
    "            plt.plot(prec_history)\n",
    "            plt.show()\n",
    "                \n",
    "        "
   ]
  },
  {
   "cell_type": "code",
   "execution_count": null,
   "metadata": {},
   "outputs": [],
   "source": []
  },
  {
   "cell_type": "markdown",
   "metadata": {
    "colab_type": "text",
    "id": "BkLDZia5f8r8"
   },
   "source": [
    "## Fully unsupervised word translation learning (2 points)"
   ]
  },
  {
   "cell_type": "markdown",
   "metadata": {
    "colab_type": "text",
    "id": "Q3cHWWIsf8r8"
   },
   "source": [
    "Try to exclude MSE term from generator loss and train GAN with sufficient quality (~40% precision top5). You should tune parameters of optimizers and training schedule to make it stable.\n",
    "\n",
    "Good luck!"
   ]
  }
 ],
 "metadata": {
  "accelerator": "GPU",
  "colab": {
   "collapsed_sections": [],
   "name": "nlp_homework_11.ipynb",
   "provenance": [],
   "version": "0.3.2"
  },
  "kernelspec": {
   "display_name": "Python 3",
   "language": "python",
   "name": "python3"
  },
  "language_info": {
   "codemirror_mode": {
    "name": "ipython",
    "version": 3
   },
   "file_extension": ".py",
   "mimetype": "text/x-python",
   "name": "python",
   "nbconvert_exporter": "python",
   "pygments_lexer": "ipython3",
   "version": "3.6.5"
  }
 },
 "nbformat": 4,
 "nbformat_minor": 1
}
