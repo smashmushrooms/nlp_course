{
 "cells": [
  {
   "cell_type": "markdown",
   "metadata": {},
   "source": [
    "## Seminar and homework (10 points total)\n",
    "\n",
    "Today we shall compose encoder-decoder neural networks and apply them to the task of machine translation.\n",
    "\n",
    "![img](https://esciencegroup.files.wordpress.com/2016/03/seq2seq.jpg)\n",
    "_(img: esciencegroup.files.wordpress.com)_\n",
    "\n",
    "\n",
    "Encoder-decoder architectures are about converting anything to anything, including\n",
    " * Machine translation and spoken dialogue systems\n",
    " * [Image captioning](http://mscoco.org/dataset/#captions-challenge2015) and [image2latex](https://openai.com/requests-for-research/#im2latex) (convolutional encoder, recurrent decoder)\n",
    " * Generating [images by captions](https://arxiv.org/abs/1511.02793) (recurrent encoder, convolutional decoder)\n",
    " * Grapheme2phoneme - convert words to transcripts"
   ]
  },
  {
   "cell_type": "markdown",
   "metadata": {},
   "source": [
    "## Our task: machine translation\n",
    "\n",
    "We gonna try our encoder-decoder models on russian to english machine translation problem. More specifically, we'll translate hotel and hostel descriptions. This task shows the scale of machine translation while not requiring you to train your model for weeks if you don't use GPU.\n",
    "\n",
    "Before we get to the architecture, there's some preprocessing to be done. ~~Go tokenize~~ Alright, this time we've done preprocessing for you. As usual, the data will be tokenized with WordPunctTokenizer.\n",
    "\n",
    "However, there's one more thing to do. Our data lines contain unique rare words. If we operate on a word level, we will have to deal with large vocabulary size. If instead we use character-level models, it would take lots of iterations to process a sequence. This time we're gonna pick something inbetween.\n",
    "\n",
    "One popular approach is called [Byte Pair Encoding](https://github.com/rsennrich/subword-nmt) aka __BPE__. The algorithm starts with a character-level tokenization and then iteratively merges most frequent pairs for N iterations. This results in frequent words being merged into a single token and rare words split into syllables or even characters.\n",
    "\n"
   ]
  },
  {
   "cell_type": "code",
   "execution_count": 1,
   "metadata": {
    "scrolled": true
   },
   "outputs": [
    {
     "name": "stdout",
     "output_type": "stream",
     "text": [
      "Requirement already satisfied: subword-nmt in /cephfs/home/vasilkovsky/ds_basic/lib/python3.6/site-packages (0.3.5)\n",
      "\u001b[33mYou are using pip version 10.0.1, however version 18.1 is available.\n",
      "You should consider upgrading via the 'pip install --upgrade pip' command.\u001b[0m\n",
      "--2018-10-15 01:04:46--  https://github.com/yandexdataschool/nlp_course/raw/62c1410427385336ef2bea74b09cba39c956207d/week4_seq2seq/data.txt\n",
      "Resolving github.com (github.com)... 192.30.253.112, 192.30.253.113\n",
      "Connecting to github.com (github.com)|192.30.253.112|:443... connected.\n",
      "HTTP request sent, awaiting response... 302 Found\n",
      "Location: https://raw.githubusercontent.com/yandexdataschool/nlp_course/62c1410427385336ef2bea74b09cba39c956207d/week4_seq2seq/data.txt [following]\n",
      "--2018-10-15 01:04:47--  https://raw.githubusercontent.com/yandexdataschool/nlp_course/62c1410427385336ef2bea74b09cba39c956207d/week4_seq2seq/data.txt\n",
      "Resolving raw.githubusercontent.com (raw.githubusercontent.com)... 151.101.12.133\n",
      "Connecting to raw.githubusercontent.com (raw.githubusercontent.com)|151.101.12.133|:443... connected.\n",
      "HTTP request sent, awaiting response... 200 OK\n",
      "Length: 12905335 (12M) [text/plain]\n",
      "Saving to: ‘data.txt’\n",
      "\n",
      "data.txt            100%[===================>]  12.31M  13.8MB/s    in 0.9s    \n",
      "\n",
      "2018-10-15 01:04:49 (13.8 MB/s) - ‘data.txt’ saved [12905335/12905335]\n",
      "\n",
      "--2018-10-15 01:04:49--  https://github.com/yandexdataschool/nlp_course/raw/62c1410427385336ef2bea74b09cba39c956207d/week4_seq2seq/utils.py\n",
      "Resolving github.com (github.com)... 192.30.253.113, 192.30.253.112\n",
      "Connecting to github.com (github.com)|192.30.253.113|:443... connected.\n",
      "HTTP request sent, awaiting response... 302 Found\n",
      "Location: https://raw.githubusercontent.com/yandexdataschool/nlp_course/62c1410427385336ef2bea74b09cba39c956207d/week4_seq2seq/utils.py [following]\n",
      "--2018-10-15 01:04:50--  https://raw.githubusercontent.com/yandexdataschool/nlp_course/62c1410427385336ef2bea74b09cba39c956207d/week4_seq2seq/utils.py\n",
      "Resolving raw.githubusercontent.com (raw.githubusercontent.com)... 151.101.12.133\n",
      "Connecting to raw.githubusercontent.com (raw.githubusercontent.com)|151.101.12.133|:443... connected.\n",
      "HTTP request sent, awaiting response... 200 OK\n",
      "Length: 6413 (6.3K) [text/plain]\n",
      "Saving to: ‘utils.py’\n",
      "\n",
      "utils.py            100%[===================>]   6.26K  --.-KB/s    in 0s      \n",
      "\n",
      "2018-10-15 01:04:50 (58.7 MB/s) - ‘utils.py’ saved [6413/6413]\n",
      "\n",
      "--2018-10-15 01:04:50--  https://github.com/yandexdataschool/nlp_course/raw/62c1410427385336ef2bea74b09cba39c956207d/week4_seq2seq/dummy_checkpoint.npz\n",
      "Resolving github.com (github.com)... 192.30.253.112, 192.30.253.113\n",
      "Connecting to github.com (github.com)|192.30.253.112|:443... connected.\n",
      "HTTP request sent, awaiting response... 302 Found\n",
      "Location: https://raw.githubusercontent.com/yandexdataschool/nlp_course/62c1410427385336ef2bea74b09cba39c956207d/week4_seq2seq/dummy_checkpoint.npz [following]\n",
      "--2018-10-15 01:04:51--  https://raw.githubusercontent.com/yandexdataschool/nlp_course/62c1410427385336ef2bea74b09cba39c956207d/week4_seq2seq/dummy_checkpoint.npz\n",
      "Resolving raw.githubusercontent.com (raw.githubusercontent.com)... 151.101.12.133\n",
      "Connecting to raw.githubusercontent.com (raw.githubusercontent.com)|151.101.12.133|:443... connected.\n",
      "HTTP request sent, awaiting response... 200 OK\n",
      "Length: 8745474 (8.3M) [application/octet-stream]\n",
      "Saving to: ‘dummy_checkpoint.npz’\n",
      "\n",
      "dummy_checkpoint.np 100%[===================>]   8.34M  12.5MB/s    in 0.7s    \n",
      "\n",
      "2018-10-15 01:04:52 (12.5 MB/s) - ‘dummy_checkpoint.npz’ saved [8745474/8745474]\n",
      "\n"
     ]
    }
   ],
   "source": [
    "!pip install subword-nmt\n",
    "!wget https://github.com/yandexdataschool/nlp_course/raw/62c1410427385336ef2bea74b09cba39c956207d/week4_seq2seq/data.txt -O data.txt\n",
    "!wget https://github.com/yandexdataschool/nlp_course/raw/62c1410427385336ef2bea74b09cba39c956207d/week4_seq2seq/utils.py -O utils.py\n",
    "!wget https://github.com/yandexdataschool/nlp_course/raw/62c1410427385336ef2bea74b09cba39c956207d/week4_seq2seq/dummy_checkpoint.npz -O dummy_checkpoint.npz\n",
    "#thanks to tilda and deephack teams for the data"
   ]
  },
  {
   "cell_type": "code",
   "execution_count": 2,
   "metadata": {},
   "outputs": [],
   "source": [
    "from nltk.tokenize import WordPunctTokenizer\n",
    "from subword_nmt.learn_bpe import learn_bpe\n",
    "from subword_nmt.apply_bpe import BPE\n",
    "tokenizer = WordPunctTokenizer()\n",
    "def tokenize(x):\n",
    "    return ' '.join(tokenizer.tokenize(x.lower()))\n",
    "\n",
    "# split and tokenize the data\n",
    "with open('train.en', 'w') as f_src,  open('train.ru', 'w') as f_dst:\n",
    "    for line in open('data.txt'):\n",
    "        src_line, dst_line = line.strip().split('\\t')\n",
    "        f_src.write(tokenize(src_line) + '\\n')\n",
    "        f_dst.write(tokenize(dst_line) + '\\n')\n",
    "\n",
    "# build and apply bpe vocs\n",
    "bpe = {}\n",
    "for lang in ['en', 'ru']:\n",
    "    learn_bpe(open('./train.' + lang), open('bpe_rules.' + lang, 'w'), num_symbols=8000)\n",
    "    bpe[lang] = BPE(open('./bpe_rules.' + lang))\n",
    "    \n",
    "    with open('train.bpe.' + lang, 'w') as f_out:\n",
    "        for line in open('train.' + lang):\n",
    "            f_out.write(bpe[lang].process_line(line.strip()) + '\\n')"
   ]
  },
  {
   "cell_type": "markdown",
   "metadata": {},
   "source": [
    "### Building vocabularies\n",
    "\n",
    "We now need to build vocabularies that map strings to token ids and vice versa. We're gonna need these fellas when we feed training data into model or convert output matrices into words."
   ]
  },
  {
   "cell_type": "code",
   "execution_count": 3,
   "metadata": {},
   "outputs": [],
   "source": [
    "import numpy as np\n",
    "import matplotlib.pyplot as plt\n",
    "%matplotlib inline"
   ]
  },
  {
   "cell_type": "code",
   "execution_count": 4,
   "metadata": {},
   "outputs": [
    {
     "name": "stdout",
     "output_type": "stream",
     "text": [
      "inp: на территории обустроена бесплатная частная парковка .\n",
      "out: free private parking is available on site .\n",
      "\n",
      "inp: кроме того , в 5 минутах ходьбы работают многочисленные бары и рестораны .\n",
      "out: guests can find many bars and restaurants within a 5 - minute walk .\n",
      "\n",
      "inp: отель san mi@@ gu@@ el расположен в центре мор@@ ели@@ и , в 750 метрах от главной площади города и кафедрального собора .\n",
      "out: hotel san miguel is located in central more@@ lia , 750 metres from the city ’ s main square and cathedral .\n",
      "\n"
     ]
    }
   ],
   "source": [
    "data_inp = np.array(open('./train.bpe.ru').read().split('\\n'))\n",
    "data_out = np.array(open('./train.bpe.en').read().split('\\n'))\n",
    "\n",
    "from sklearn.model_selection import train_test_split\n",
    "train_inp, dev_inp, train_out, dev_out = train_test_split(data_inp, data_out, test_size=3000,\n",
    "                                                          random_state=42)\n",
    "for i in range(3):\n",
    "    print('inp:', train_inp[i])\n",
    "    print('out:', train_out[i], end='\\n\\n')"
   ]
  },
  {
   "cell_type": "code",
   "execution_count": 5,
   "metadata": {},
   "outputs": [],
   "source": [
    "from utils import Vocab\n",
    "inp_voc = Vocab.from_lines(train_inp)\n",
    "out_voc = Vocab.from_lines(train_out)"
   ]
  },
  {
   "cell_type": "code",
   "execution_count": 6,
   "metadata": {},
   "outputs": [
    {
     "name": "stdout",
     "output_type": "stream",
     "text": [
      "lines\n",
      "['гостевой дом r .', 'до афин — 20 км .', 'работает боулинг .', 'оборудован балкон .', 'подключен wi - fi .']\n",
      "\n",
      "words to ids (0 = bos, 1 = eos):\n",
      "[[   0 2688 2943 1108   29    1    1    1]\n",
      " [   0 2922 1834 8035   59 3800   29    1]\n",
      " [   0 6030 2083   29    1    1    1    1]\n",
      " [   0 4927 1870   29    1    1    1    1]\n",
      " [   0 5549 1453   27  592   29    1    1]]\n",
      "\n",
      "back to words\n",
      "['гостевой дом r .', 'до афин — 20 км .', 'работает боулинг .', 'оборудован балкон .', 'подключен wi - fi .']\n"
     ]
    }
   ],
   "source": [
    "# Here's how you cast lines into ids and backwards.\n",
    "batch_lines = sorted(train_inp, key=len)[5:10]\n",
    "batch_ids = inp_voc.to_matrix(batch_lines)\n",
    "batch_lines_restored = inp_voc.to_lines(batch_ids)\n",
    "\n",
    "print(\"lines\")\n",
    "print(batch_lines)\n",
    "print(\"\\nwords to ids (0 = bos, 1 = eos):\")\n",
    "print(batch_ids)\n",
    "print(\"\\nback to words\")\n",
    "print(batch_lines_restored)"
   ]
  },
  {
   "cell_type": "markdown",
   "metadata": {},
   "source": [
    "Draw source and translation length distributions to estimate the scope of the task."
   ]
  },
  {
   "cell_type": "code",
   "execution_count": 7,
   "metadata": {},
   "outputs": [
    {
     "data": {
      "image/png": "[encoded data removed]",
      "text/plain": [
       "<Figure size 576x288 with 2 Axes>"
      ]
     },
     "metadata": {},
     "output_type": "display_data"
    }
   ],
   "source": [
    "plt.figure(figsize=[8, 4])\n",
    "plt.subplot(1, 2, 1)\n",
    "plt.title(\"source length\")\n",
    "plt.hist(list(map(len, map(str.split, train_inp))), bins=20);\n",
    "\n",
    "plt.subplot(1, 2, 2)\n",
    "plt.title(\"translation length\")\n",
    "plt.hist(list(map(len, map(str.split, train_out))), bins=20);"
   ]
  },
  {
   "cell_type": "markdown",
   "metadata": {},
   "source": [
    "### Encoder-decoder model\n",
    "\n",
    "The code below contas a template for a simple encoder-decoder model: single GRU encoder/decoder, no attention or anything. This model is implemented for you as a reference and a baseline for your homework assignment."
   ]
  },
  {
   "cell_type": "code",
   "execution_count": 8,
   "metadata": {},
   "outputs": [
    {
     "name": "stderr",
     "output_type": "stream",
     "text": [
      "Using TensorFlow backend.\n"
     ]
    }
   ],
   "source": [
    "import tensorflow as tf\n",
    "import keras.layers as L\n",
    "from utils import infer_length, infer_mask"
   ]
  },
  {
   "cell_type": "code",
   "execution_count": 9,
   "metadata": {},
   "outputs": [],
   "source": [
    "class BasicModel:\n",
    "    def __init__(self, name, inp_voc, out_voc, emb_size=64, hid_size=128):\n",
    "        \"\"\"\n",
    "        A simple encoder-decoder model\n",
    "        \"\"\"\n",
    "        self.name, self.inp_voc, self.out_voc = name, inp_voc, out_voc\n",
    "\n",
    "        with tf.variable_scope(name):\n",
    "            self.emb_inp = L.Embedding(len(inp_voc), emb_size)\n",
    "            self.emb_out = L.Embedding(len(out_voc), emb_size)\n",
    "            self.enc0 = tf.nn.rnn_cell.GRUCell(hid_size)\n",
    "\n",
    "            self.dec_start = L.Dense(hid_size)\n",
    "            self.dec0 = tf.nn.rnn_cell.GRUCell(hid_size)\n",
    "            self.logits = L.Dense(len(out_voc))\n",
    "\n",
    "            # prepare to translate_lines\n",
    "            self.inp = tf.placeholder('int32', [None, None])\n",
    "            self.initial_state = self.prev_state = self.encode(self.inp)\n",
    "            self.prev_tokens = tf.placeholder('int32', [None])\n",
    "            self.next_state, self.next_logits = self.decode(self.prev_state, self.prev_tokens)\n",
    "        \n",
    "        self.weights = tf.get_collection(tf.GraphKeys.TRAINABLE_VARIABLES, scope=name)\n",
    "\n",
    "    def encode(self, inp, **flags):\n",
    "        \"\"\"\n",
    "        Takes symbolic input sequence, computes initial state\n",
    "        :param inp: matrix of input tokens [batch, time]\n",
    "        :returns: initial decoder state tensors, one or many\n",
    "        \"\"\"\n",
    "        inp_lengths = infer_length(inp, self.inp_voc.eos_ix)\n",
    "        inp_emb = self.emb_inp(inp)\n",
    "        with tf.variable_scope('enc0'):\n",
    "            _, enc_last = tf.nn.dynamic_rnn(\n",
    "                              self.enc0, inp_emb,\n",
    "                              sequence_length=inp_lengths,\n",
    "                              dtype = inp_emb.dtype)\n",
    "        dec_start = self.dec_start(enc_last)\n",
    "        return [dec_start]\n",
    "\n",
    "    def decode(self, prev_state, prev_tokens, **flags):\n",
    "        \"\"\"\n",
    "        Takes previous decoder state and tokens, returns new state and logits for next tokens\n",
    "        :param prev_state: a list of previous decoder state tensors\n",
    "        :param prev_tokens: previous output tokens, an int vector of [batch_size]\n",
    "        :return: a list of next decoder state tensors, a tensor of logits [batch, n_tokens]\n",
    "        \"\"\"\n",
    "        [prev_dec] = prev_state\n",
    "        prev_emb = self.emb_out(prev_tokens[:,None])[:,0]\n",
    "        with tf.variable_scope('dec0'):\n",
    "            new_dec_out, new_dec_state = self.dec0(prev_emb, prev_dec)\n",
    "        output_logits = self.logits(new_dec_out)\n",
    "        return [new_dec_state], output_logits\n",
    "\n",
    "    def translate_lines(self, inp_lines, max_len=100):\n",
    "        \"\"\"\n",
    "        Translates a list of lines by greedily selecting most likely next token at each step\n",
    "        :returns: a list of output lines, a sequence of model states at each step\n",
    "        \"\"\"\n",
    "        state = sess.run(self.initial_state, {self.inp: inp_voc.to_matrix(inp_lines)})\n",
    "        outputs = [[self.out_voc.bos_ix] for _ in range(len(inp_lines))]\n",
    "        all_states = [state]\n",
    "        finished = [False] * len(inp_lines)\n",
    "\n",
    "        for t in range(max_len):\n",
    "            state, logits = sess.run([self.next_state, self.next_logits], {**dict(zip(self.prev_state, state)),\n",
    "                                           self.prev_tokens: [out_i[-1] for out_i in outputs]})\n",
    "            next_tokens = np.argmax(logits, axis=-1)\n",
    "            all_states.append(state)\n",
    "            for i in range(len(next_tokens)):\n",
    "                outputs[i].append(next_tokens[i])\n",
    "                finished[i] |= next_tokens[i] == self.out_voc.eos_ix\n",
    "        return out_voc.to_lines(outputs), all_states"
   ]
  },
  {
   "cell_type": "code",
   "execution_count": 10,
   "metadata": {},
   "outputs": [],
   "source": [
    "tf.reset_default_graph()\n",
    "sess = tf.InteractiveSession()\n",
    "# ^^^ if you get \"variable *** already exists\": re-run this cell again - it will clear all tf operations youve 'built\n",
    "\n",
    "model = BasicModel('model', inp_voc, out_voc)\n",
    "sess.run(tf.global_variables_initializer())"
   ]
  },
  {
   "cell_type": "markdown",
   "metadata": {},
   "source": [
    "### Training loss (2 points)\n",
    "\n",
    "Our training objetive is almost the same as it was for neural language models:\n",
    "$$ L = {\\frac1{|D|}} \\sum_{X, Y \\in D} \\sum_{y_t \\in Y} - \\log p(y_t \\mid y_1, \\dots, y_{t-1}, X, \\theta) $$\n",
    "\n",
    "where $|D|$ is the __total length of all sequences__, including BOS and first EOS, but excluding PAD."
   ]
  },
  {
   "cell_type": "code",
   "execution_count": 11,
   "metadata": {},
   "outputs": [],
   "source": [
    "def compute_logits(model, inp, out, **flags):\n",
    "    \"\"\"\n",
    "    :param inp: input tokens matrix, int32[batch, time]\n",
    "    :param out: reference tokens matrix, int32[batch, time]\n",
    "    :returns: logits of shape [batch, time, voc_size]\n",
    "    \n",
    "    * logits must be a linear output of your neural network.\n",
    "    * logits [:, 0, :] should always predic BOS\n",
    "    * logits [:, -1, :] should be probabilities of last token in out\n",
    "    This function should NOT return logits predicted when taking out[:, -1] as y_prev\n",
    "    \"\"\"\n",
    "    batch_size = tf.shape(inp)[0]\n",
    "    \n",
    "    # Encode inp, get initial state\n",
    "    first_state = model.encode(inp)\n",
    "    \n",
    "    # initial logits: always predict BOS\n",
    "    first_logits = tf.log(tf.one_hot(tf.fill([batch_size], model.out_voc.bos_ix),\n",
    "                                     len(model.out_voc)) + 1e-30)\n",
    "    \n",
    "    # Decode step\n",
    "    def step(blob, y_prev):\n",
    "        # Given previous state, obtain next state and next token logits\n",
    "        prev_state, logits = blob\n",
    "        return [*model.decode(prev_state, y_prev)]\n",
    "\n",
    "    # You can now use tf.scan to run step several times.\n",
    "    # use tf.transpose(out) as elems (to process one time-step at a time)\n",
    "    # docs: https://www.tensorflow.org/api_docs/python/tf/scan\n",
    "    \n",
    "    _, logits_seq = tf.scan(step, elems=tf.transpose(out)[:-1], initializer=[first_state, first_logits])\n",
    "    \n",
    "    # prepend first_logits to logits_seq\n",
    "    logits_seq = tf.concat([tf.expand_dims(first_logits, 0), logits_seq], axis=0)\n",
    "    \n",
    "    # Make sure you convert logits_seq from [time, batch, voc_size] to [batch, time, voc_size]\n",
    "    logits_seq = tf.transpose(logits_seq, [1, 0, 2])\n",
    "    \n",
    "    return logits_seq"
   ]
  },
  {
   "cell_type": "code",
   "execution_count": 12,
   "metadata": {},
   "outputs": [],
   "source": [
    "from utils import load\n",
    "load(tf.trainable_variables(), 'dummy_checkpoint.npz')\n",
    "dummy_inp = tf.constant(inp_voc.to_matrix(train_inp[:3]))\n",
    "dummy_out = tf.constant(out_voc.to_matrix(train_out[:3]))\n",
    "dummy_logits = sess.run(compute_logits(model, dummy_inp, dummy_out))\n",
    "dummy_ref = np.array([-0.13257082, -0.11084784, -0.09024167, -0.14910498], dtype='float32')\n",
    "assert np.allclose(dummy_logits.sum(-1)[0, 1:5], dummy_ref)\n",
    "ref_shape = (dummy_out.shape[0], dummy_out.shape[1], len(out_voc))\n",
    "assert dummy_logits.shape == ref_shape, \"Your logits shape should be {} but got {}\".format(dummy_logits.shape, ref_shape)\n",
    "assert all(dummy_logits[:, 0].argmax(-1) == out_voc.bos_ix), \"first step must always be BOS\""
   ]
  },
  {
   "cell_type": "code",
   "execution_count": 13,
   "metadata": {
    "scrolled": true
   },
   "outputs": [],
   "source": [
    "from utils import select_values_over_last_axis\n",
    "\n",
    "def compute_loss(model, inp, out, **flags):\n",
    "    \"\"\"\n",
    "    Compute loss (float32 scalar) as in the formula above\n",
    "    :param inp: input tokens matrix, int32[batch, time]\n",
    "    :param out: reference tokens matrix, int32[batch, time]\n",
    "    \n",
    "    In order to pass the tests, your function should\n",
    "    * include loss at first EOS but not the subsequent ones\n",
    "    * divide sum of losses by a sum of input lengths (use infer_length or infer_mask)\n",
    "    \"\"\"\n",
    "    mask = infer_mask(out, out_voc.eos_ix)    \n",
    "    logits_seq = compute_logits(model, inp, out, **flags)\n",
    "    \n",
    "    # Compute loss as per instructions above\n",
    "    probas = select_values_over_last_axis(tf.nn.softmax(logits_seq, axis=-1), out)\n",
    "    log_probas = tf.log(probas)\n",
    "    \n",
    "    return -tf.reduce_sum(log_probas * mask) / tf.reduce_sum(mask)"
   ]
  },
  {
   "cell_type": "code",
   "execution_count": 14,
   "metadata": {},
   "outputs": [
    {
     "name": "stdout",
     "output_type": "stream",
     "text": [
      "Loss: 8.424398\n"
     ]
    }
   ],
   "source": [
    "dummy_loss = sess.run(compute_loss(model, dummy_inp, dummy_out))\n",
    "print(\"Loss:\", dummy_loss)\n",
    "assert np.allclose(dummy_loss, 8.425, rtol=0.1, atol=0.1), \"We're sorry for your loss\""
   ]
  },
  {
   "cell_type": "markdown",
   "metadata": {},
   "source": [
    "### Evaluation: BLEU\n",
    "\n",
    "Machine translation is commonly evaluated with [BLEU](https://en.wikipedia.org/wiki/BLEU) score. This metric simply computes which fraction of predicted n-grams is actually present in the reference translation. It does so for n=1,2,3 and 4 and computes the geometric average with penalty if translation is shorter than reference.\n",
    "\n",
    "While BLEU [has many drawbacks](http://www.cs.jhu.edu/~ccb/publications/re-evaluating-the-role-of-bleu-in-mt-research.pdf), it still remains the most commonly used metric and one of the simplest to compute."
   ]
  },
  {
   "cell_type": "code",
   "execution_count": 15,
   "metadata": {},
   "outputs": [],
   "source": [
    "from nltk.translate.bleu_score import corpus_bleu\n",
    "def compute_bleu(model, inp_lines, out_lines, bpe_sep='@@ ', **flags):\n",
    "    \"\"\" Estimates corpora-level BLEU score of model's translations given inp and reference out \"\"\"\n",
    "    translations, _ = model.translate_lines(inp_lines, **flags)\n",
    "    # Note: if you experience out-of-memory error, split input lines into batches and translate separately\n",
    "    return corpus_bleu([[ref] for ref in out_lines], translations) * 100"
   ]
  },
  {
   "cell_type": "code",
   "execution_count": 16,
   "metadata": {},
   "outputs": [
    {
     "data": {
      "text/plain": [
       "4.764888431368293"
      ]
     },
     "execution_count": 16,
     "metadata": {},
     "output_type": "execute_result"
    }
   ],
   "source": [
    "compute_bleu(model, dev_inp, dev_out)"
   ]
  },
  {
   "cell_type": "markdown",
   "metadata": {},
   "source": [
    "### Training loop\n",
    "\n",
    "Training encoder-decoder models isn't that different from any other models: sample batches, compute loss, backprop and update"
   ]
  },
  {
   "cell_type": "code",
   "execution_count": 17,
   "metadata": {},
   "outputs": [
    {
     "data": {
      "text/plain": [
       "'/device:GPU:0'"
      ]
     },
     "execution_count": 17,
     "metadata": {},
     "output_type": "execute_result"
    }
   ],
   "source": [
    "tf.test.gpu_device_name()"
   ]
  },
  {
   "cell_type": "code",
   "execution_count": 18,
   "metadata": {},
   "outputs": [],
   "source": [
    "inp = tf.placeholder('int32', [None, None])\n",
    "out = tf.placeholder('int32', [None, None])\n",
    "\n",
    "loss = compute_loss(model, inp, out)\n",
    "\n",
    "train_step = tf.train.AdamOptimizer().minimize(loss)"
   ]
  },
  {
   "cell_type": "code",
   "execution_count": 19,
   "metadata": {
    "scrolled": false
   },
   "outputs": [],
   "source": [
    "from IPython.display import clear_output\n",
    "from tqdm import tqdm, trange\n",
    "metrics = {'train_loss': [], 'dev_bleu': [] }\n",
    "\n",
    "sess.run(tf.global_variables_initializer())\n",
    "batch_size = 32"
   ]
  },
  {
   "cell_type": "code",
   "execution_count": 20,
   "metadata": {
    "scrolled": true
   },
   "outputs": [
    {
     "data": {
      "image/png": "[encoded data removed]",
      "text/plain": [
       "<Figure size 864x288 with 2 Axes>"
      ]
     },
     "metadata": {},
     "output_type": "display_data"
    },
    {
     "name": "stdout",
     "output_type": "stream",
     "text": [
      "Mean loss=1.682\n"
     ]
    },
    {
     "name": "stderr",
     "output_type": "stream",
     "text": [
      "100%|██████████| 25000/25000 [1:28:36<00:00,  4.70it/s]\n"
     ]
    }
   ],
   "source": [
    "for _ in trange(25000):\n",
    "    step = len(metrics['train_loss']) + 1\n",
    "    batch_ix = np.random.randint(len(train_inp), size=batch_size)\n",
    "    feed_dict = {\n",
    "        inp: inp_voc.to_matrix(train_inp[batch_ix]),\n",
    "        out: out_voc.to_matrix(train_out[batch_ix]),\n",
    "    }\n",
    "    \n",
    "    loss_t, _ = sess.run([loss, train_step], feed_dict)\n",
    "    metrics['train_loss'].append((step, loss_t))\n",
    "    \n",
    "    if step % 100 == 0:\n",
    "        metrics['dev_bleu'].append((step, compute_bleu(model, dev_inp, dev_out)))\n",
    "        \n",
    "        clear_output(True)\n",
    "        plt.figure(figsize=(12,4))\n",
    "        for i, (name, history) in enumerate(sorted(metrics.items())):\n",
    "            plt.subplot(1, len(metrics), i + 1)\n",
    "            plt.title(name)\n",
    "            plt.plot(*zip(*history))\n",
    "            plt.grid()\n",
    "        plt.show()\n",
    "        print(\"Mean loss=%.3f\" % np.mean(metrics['train_loss'][-10:], axis=0)[1], flush=True)\n",
    "        \n",
    "# Note: it's okay if bleu oscillates up and down as long as it gets better on average over long term (e.g. 5k batches)"
   ]
  },
  {
   "cell_type": "code",
   "execution_count": 21,
   "metadata": {},
   "outputs": [],
   "source": [
    "assert np.mean(metrics['dev_bleu'][-10:], axis=0)[1] > 35, \"We kind of need a higher bleu BLEU from you. Kind of right now.\""
   ]
  },
  {
   "cell_type": "code",
   "execution_count": 22,
   "metadata": {},
   "outputs": [
    {
     "name": "stdout",
     "output_type": "stream",
     "text": [
      "в распоряжении гостей общая кухня и общая гостиная .\n",
      "you will find a shared kitchen at the property and there is shared kitchen .\n",
      "\n",
      "кроме того , предоставляется прокат велосипедов , услуги трансфера и бесплатная парковка .\n",
      "bicycle rental and car hire are available at the property and free parking is possible on site .\n",
      "\n",
      "расстояние до города ки@@ сси@@ м@@ ми составляет 26 км .\n",
      "davenport city is 18 km from the property .\n",
      "\n",
      "апартаменты в пент@@ хаусе с общим открытым бассейном , садом , кондиционером и террасой для загара расположены в 5 минутах ходьбы от пляжа на курорте ка@@ бо - рой .\n",
      "located in a residential area , villa stella is located in a quiet area of pula and features a sun terrace with a sun terrace .\n",
      "\n",
      "апартаменты mo@@ s@@ co@@ w point - loft red square находятся в москве , в 200 метрах от большого театра .\n",
      "apartamenty opera house is 450 metres from the kremlin and lviv city museum .\n",
      "\n",
      "в вашем распоряжении собственная ванная комната с душем и полотенцами .\n",
      "featuring a shower , private bathroom also comes with towels .\n",
      "\n"
     ]
    }
   ],
   "source": [
    "for inp_line, trans_line in zip(dev_inp[::500], model.translate_lines(dev_inp[::500])[0]):\n",
    "    print(inp_line)\n",
    "    print(trans_line)\n",
    "    print()"
   ]
  },
  {
   "cell_type": "markdown",
   "metadata": {},
   "source": [
    "### Your Attention Required (4 points)\n",
    "\n",
    "In this section we want you to improve over the basic model by implementing a simple attention mechanism.\n",
    "\n",
    "This is gonna be a two-parter: building the __attention layer__ and using it for an __attentive seq2seq model__."
   ]
  },
  {
   "cell_type": "markdown",
   "metadata": {},
   "source": [
    "### Attention layer\n",
    "\n",
    "Here you will have to implement a layer that computes a simple additive attention:\n",
    "\n",
    "Given encoder sequence $ h^e_0, h^e_1, h^e_2, ..., h^e_T$ and a single decoder state $h^d$,\n",
    "\n",
    "* Compute logits with a 2-layer neural network\n",
    "$$a_t = linear_{out}(tanh(linear_{e}(h^e_t) + linear_{d}(h_d)))$$\n",
    "* Get probabilities from logits, \n",
    "$$ p_t = {{e ^ {a_t}} \\over { \\sum_\\tau e^{a_\\tau} }} $$\n",
    "\n",
    "* Add up encoder states with probabilities to get __attention response__\n",
    "$$ attn = \\sum_t p_t \\cdot h^e_t $$\n",
    "\n",
    "You can learn more about attention layers in the leture slides or [from this post](https://distill.pub/2016/augmented-rnns/)."
   ]
  },
  {
   "cell_type": "code",
   "execution_count": 23,
   "metadata": {},
   "outputs": [],
   "source": [
    "class AttentionLayer:\n",
    "    def __init__(self, name, enc_size, dec_size, hid_size, activ=tf.tanh,):\n",
    "        \"\"\" A layer that computes additive attention response and weights \"\"\"\n",
    "        self.name = name\n",
    "        self.enc_size = enc_size # num units in encoder state\n",
    "        self.dec_size = dec_size # num units in decoder state\n",
    "        self.hid_size = hid_size # attention layer hidden units\n",
    "        self.activ = activ       # attention layer hidden nonlinearity\n",
    "\n",
    "        with tf.variable_scope(name):\n",
    "            self.linear_e = L.Dense(hid_size)\n",
    "            self.linear_d = L.Dense(hid_size)\n",
    "            self.linear_out = L.Dense(1)\n",
    "\n",
    "    def __call__(self, enc, dec, inp_mask):\n",
    "        \"\"\"\n",
    "        Computes attention response and weights\n",
    "        :param enc: encoder activation sequence, float32[batch_size, ninp, enc_size]\n",
    "        :param dec: single decoder state used as \"query\", float32[batch_size, dec_size]\n",
    "        :param inp_mask: mask on enc activatons (0 after first eos), float32 [batch_size, ninp]\n",
    "        :returns: attn[batch_size, enc_size], probs[batch_size, ninp]\n",
    "            - attn - attention response vector (weighted sum of enc)\n",
    "            - probs - attention weights after softmax\n",
    "        \"\"\"\n",
    "        with tf.variable_scope(self.name):\n",
    "            \n",
    "            # Compute logits\n",
    "            logits = L.Add()([self.linear_e(enc), self.linear_d(dec)])\n",
    "            logits = self.activ(logits)\n",
    "            logits = self.linear_out(logits)\n",
    "            \n",
    "            # Apply mask - if mask is 0, logits should be -inf or -1e9\n",
    "            # You may need tf.where\n",
    "            logits = tf.where(inp_mask, tf.squeeze(logits), -np.inf * tf.ones(tf.shape(inp_mask)))\n",
    "\n",
    "            # Compute attention probabilities (softmax)\n",
    "            probs = tf.nn.softmax(logits, axis=1)\n",
    "            \n",
    "            # Compute attention response using enc and probs\n",
    "            attn = tf.einsum('bni,bn->bi', enc, probs)\n",
    "            \n",
    "            return attn, probs"
   ]
  },
  {
   "cell_type": "markdown",
   "metadata": {},
   "source": [
    "### Seq2seq model with attention\n",
    "\n",
    "You can now use the attention layer to build a network. The simplest way to implement attention is to use it in decoder phase:\n",
    "![img](https://i.imgur.com/6fKHlHb.png)\n",
    "_image from distill.pub [article](https://distill.pub/2016/augmented-rnns/)_\n",
    "\n",
    "On every step, use __previous__ decoder state to obtain attention response. Then feed concat this response to the inputs of next attetion layer.\n",
    "\n",
    "The key implementation detail here is __model state__. Put simply, you can add any tensor into the list of `encode` outputs. You will then have access to them at each `decode` step. This may include:\n",
    "* Last RNN hidden states (as in basic model)\n",
    "* The whole sequence of encoder outputs (to attend to) and mask\n",
    "* Attention probabilities (to visualize)\n",
    "\n",
    "_There are, of course, alternative ways to wire attention into your network and different kinds of attention. Take a look at [this](https://arxiv.org/abs/1609.08144), [this](https://arxiv.org/abs/1706.03762) and [this](https://arxiv.org/abs/1808.03867) for ideas. And for image captioning/im2latex there's [visual attention](https://arxiv.org/abs/1502.03044)_"
   ]
  },
  {
   "cell_type": "code",
   "execution_count": 24,
   "metadata": {},
   "outputs": [],
   "source": [
    "class AttentiveModel(BasicModel):\n",
    "    def __init__(self, name, inp_voc, out_voc,\n",
    "                 emb_size=64, hid_size=128, attn_size=128):\n",
    "        \"\"\" Translation model that uses attention. See instructions above. \"\"\"\n",
    "        self.name = name\n",
    "        self.inp_voc = inp_voc\n",
    "        self.out_voc = out_voc\n",
    "\n",
    "        with tf.variable_scope(name):\n",
    "            \n",
    "            # YOUR CODE - define model layers\n",
    "            \n",
    "            self.emb_inp = L.Embedding(len(inp_voc), emb_size)\n",
    "            self.emb_out = L.Embedding(len(out_voc), emb_size)\n",
    "            \n",
    "            self.enc0 = tf.nn.rnn_cell.GRUCell(hid_size)\n",
    "            self.dec0 = tf.nn.rnn_cell.GRUCell(hid_size)\n",
    "            \n",
    "            self.dec_start = L.Dense(hid_size)\n",
    "            self.att = AttentionLayer('attn', hid_size, hid_size, hid_size)\n",
    "            \n",
    "            self.logits = L.Dense(len(out_voc))\n",
    "            \n",
    "            # END OF YOUR CODE\n",
    "            \n",
    "            # prepare to translate_lines\n",
    "            self.inp = tf.placeholder('int32', [None, None])\n",
    "            self.initial_state = self.prev_state = self.encode(self.inp)\n",
    "            self.prev_tokens = tf.placeholder('int32', [None])\n",
    "            self.next_state, self.next_logits = self.decode(self.prev_state, self.prev_tokens)\n",
    "\n",
    "        self.weights = tf.get_collection(tf.GraphKeys.TRAINABLE_VARIABLES, scope=name)\n",
    "\n",
    "    def encode(self, inp, **flags):\n",
    "        \"\"\"\n",
    "        Takes symbolic input sequence, computes initial state\n",
    "        :param inp: matrix of input tokens [batch, time]\n",
    "        :return: a list of initial decoder state tensors\n",
    "        \"\"\"\n",
    "        \n",
    "        # encode input sequence, create initial decoder states\n",
    "        inp_lengths = infer_length(inp, self.inp_voc.eos_ix)\n",
    "        inp_emb = self.emb_inp(inp)\n",
    "        \n",
    "        with tf.variable_scope('enc0'):\n",
    "            enc, enc_last = tf.nn.dynamic_rnn(self.enc0, inp_emb, sequence_length=inp_lengths, dtype=inp_emb.dtype)\n",
    "            \n",
    "        dec = self.dec_start(enc_last)\n",
    "        mask = tf.sequence_mask(inp_lengths, maxlen = tf.shape(inp)[1])\n",
    "        \n",
    "        # apply attention layer from initial decoder hidden state\n",
    "        att_resp, first_attn_probas = self.att(enc, dec, mask)\n",
    "        \n",
    "        # Build first state: include\n",
    "        # * initial states for decoder recurrent layers\n",
    "        # * encoder sequence and encoder attn mask (for attention)\n",
    "        # * make sure that last state item is attention probabilities tensor\n",
    "        \n",
    "        first_state = [dec, enc, mask, att_resp, first_attn_probas]\n",
    "        return first_state\n",
    "\n",
    "    def decode(self, prev_state, prev_tokens, **flags):\n",
    "        \"\"\"\n",
    "        Takes previous decoder state and tokens, returns new state and logits\n",
    "        :param prev_state: a list of previous decoder state tensors\n",
    "        :param prev_tokens: previous output tokens, an int vector of [batch_size]\n",
    "        :return: a list of next decoder state tensors, a tensor of logits [batch,n_tokens]\n",
    "        \"\"\"\n",
    "        # Unpack your state: you will get tensors in the same order that you've packed in encode\n",
    "        [dec, enc, mask, attn_response, prev_attn_probas] = prev_state\n",
    "        prev_emb = self.emb_out(prev_tokens[:, None])[:, 0]\n",
    "        \n",
    "        # Perform decoder step\n",
    "        # * predict next attn response and attn probas given previous decoder state\n",
    "        # * use prev token embedding and attn response to update decoder states (concatenate and feed into decoder cell)\n",
    "        # * predict logits\n",
    "        \n",
    "        next_attn_response, next_attn_probas = self.att(enc, dec, mask)\n",
    "\n",
    "        with tf.variable_scope('dec0'):\n",
    "            new_dec_out, new_dec_state = self.dec0(tf.concat([prev_emb, attn_response], axis=1), dec)\n",
    "            \n",
    "        output_logits = self.logits(new_dec_out)\n",
    "        \n",
    "        # Pack new state:\n",
    "        # * replace previous decoder state with next one\n",
    "        # * copy encoder sequence and mask from prev_state\n",
    "        # * append new attention probas\n",
    "        next_state = [new_dec_state, enc, mask, next_attn_response, next_attn_probas]\n",
    "        return next_state, output_logits\n"
   ]
  },
  {
   "cell_type": "code",
   "execution_count": 25,
   "metadata": {},
   "outputs": [
    {
     "name": "stderr",
     "output_type": "stream",
     "text": [
      "/cephfs/home/vasilkovsky/ds_basic/lib/python3.6/site-packages/tensorflow/python/client/session.py:1711: UserWarning: An interactive session is already active. This can cause out-of-memory errors in some cases. You must explicitly call `InteractiveSession.close()` to release resources held by the other session(s).\n",
      "  warnings.warn('An interactive session is already active. This can '\n"
     ]
    }
   ],
   "source": [
    "# WARNING! this cell will clear your TF graph from the regular model. All trained variables will be gone!\n",
    "tf.reset_default_graph()\n",
    "sess = tf.InteractiveSession()\n",
    "model = AttentiveModel('model_attn', inp_voc, out_voc)"
   ]
  },
  {
   "cell_type": "markdown",
   "metadata": {},
   "source": [
    "### Training attentive model\n",
    "\n",
    "We'll reuse the infrastructure you've built for the regular model. I hope you didn't hard-code anything :)"
   ]
  },
  {
   "cell_type": "code",
   "execution_count": 26,
   "metadata": {},
   "outputs": [],
   "source": [
    "inp = tf.placeholder('int32', [None, None])\n",
    "out = tf.placeholder('int32', [None, None])\n",
    "\n",
    "loss = compute_loss(model, inp, out)\n",
    "train_step = tf.train.AdamOptimizer().minimize(loss)"
   ]
  },
  {
   "cell_type": "code",
   "execution_count": 27,
   "metadata": {},
   "outputs": [],
   "source": [
    "metrics = {'train_loss': [], 'dev_bleu': []}\n",
    "sess.run(tf.global_variables_initializer())\n",
    "batch_size = 32"
   ]
  },
  {
   "cell_type": "code",
   "execution_count": 28,
   "metadata": {},
   "outputs": [
    {
     "data": {
      "image/png": "[encoded data removed]",
      "text/plain": [
       "<Figure size 864x288 with 2 Axes>"
      ]
     },
     "metadata": {},
     "output_type": "display_data"
    },
    {
     "name": "stdout",
     "output_type": "stream",
     "text": [
      "Mean loss=1.449\n"
     ]
    },
    {
     "name": "stderr",
     "output_type": "stream",
     "text": [
      "100%|██████████| 25000/25000 [2:09:26<00:00,  3.22it/s]\n"
     ]
    }
   ],
   "source": [
    "for _ in trange(25000):\n",
    "    step = len(metrics['train_loss']) + 1\n",
    "    batch_ix = np.random.randint(len(train_inp), size=batch_size)\n",
    "    feed_dict = {\n",
    "        inp: inp_voc.to_matrix(train_inp[batch_ix]),\n",
    "        out: out_voc.to_matrix(train_out[batch_ix]),\n",
    "    }\n",
    "    \n",
    "    loss_t, _ = sess.run([loss, train_step], feed_dict)\n",
    "    metrics['train_loss'].append((step, loss_t))\n",
    "    \n",
    "    if step % 100 == 0:\n",
    "        metrics['dev_bleu'].append((step, compute_bleu(model, dev_inp, dev_out)))\n",
    "        \n",
    "        clear_output(True)\n",
    "        plt.figure(figsize=(12,4))\n",
    "        for i, (name, history) in enumerate(sorted(metrics.items())):\n",
    "            plt.subplot(1, len(metrics), i + 1)\n",
    "            plt.title(name)\n",
    "            plt.plot(*zip(*history))\n",
    "            plt.grid()\n",
    "        plt.show()\n",
    "        print(\"Mean loss=%.3f\" % np.mean(metrics['train_loss'][-10:], axis=0)[1], flush=True)\n",
    "\n",
    "# Your model may train slower than the basic one. check that it's at least >30 bleu by 5k steps\n",
    "# Also: you don't have to train for 25k steps. It was chosen by a squirrel."
   ]
  },
  {
   "cell_type": "code",
   "execution_count": 29,
   "metadata": {},
   "outputs": [],
   "source": [
    "assert np.mean(metrics['dev_bleu'][-10:], axis=0)[1] > 45, \"Something might be wrong with the model...\""
   ]
  },
  {
   "cell_type": "code",
   "execution_count": 35,
   "metadata": {},
   "outputs": [
    {
     "data": {
      "text/html": [
       "\n",
       "    <div class=\"bk-root\">\n",
       "        <a href=\"https://bokeh.pydata.org\" target=\"_blank\" class=\"bk-logo bk-logo-small bk-logo-notebook\"></a>\n",
       "        <span id=\"5938c781-dd56-4881-9f30-3a4d18134610\">Loading BokehJS ...</span>\n",
       "    </div>"
      ]
     },
     "metadata": {},
     "output_type": "display_data"
    },
    {
     "data": {
      "application/javascript": [
       "\n",
       "(function(root) {\n",
       "  function now() {\n",
       "    return new Date();\n",
       "  }\n",
       "\n",
       "  var force = true;\n",
       "\n",
       "  if (typeof (root._bokeh_onload_callbacks) === \"undefined\" || force === true) {\n",
       "    root._bokeh_onload_callbacks = [];\n",
       "    root._bokeh_is_loading = undefined;\n",
       "  }\n",
       "\n",
       "  var JS_MIME_TYPE = 'application/javascript';\n",
       "  var HTML_MIME_TYPE = 'text/html';\n",
       "  var EXEC_MIME_TYPE = 'application/vnd.bokehjs_exec.v0+json';\n",
       "  var CLASS_NAME = 'output_bokeh rendered_html';\n",
       "\n",
       "  /**\n",
       "   * Render data to the DOM node\n",
       "   */\n",
       "  function render(props, node) {\n",
       "    var script = document.createElement(\"script\");\n",
       "    node.appendChild(script);\n",
       "  }\n",
       "\n",
       "  /**\n",
       "   * Handle when an output is cleared or removed\n",
       "   */\n",
       "  function handleClearOutput(event, handle) {\n",
       "    var cell = handle.cell;\n",
       "\n",
       "    var id = cell.output_area._bokeh_element_id;\n",
       "    var server_id = cell.output_area._bokeh_server_id;\n",
       "    // Clean up Bokeh references\n",
       "    if (id != null && id in Bokeh.index) {\n",
       "      Bokeh.index[id].model.document.clear();\n",
       "      delete Bokeh.index[id];\n",
       "    }\n",
       "\n",
       "    if (server_id !== undefined) {\n",
       "      // Clean up Bokeh references\n",
       "      var cmd = \"from bokeh.io.state import curstate; print(curstate().uuid_to_server['\" + server_id + \"'].get_sessions()[0].document.roots[0]._id)\";\n",
       "      cell.notebook.kernel.execute(cmd, {\n",
       "        iopub: {\n",
       "          output: function(msg) {\n",
       "            var id = msg.content.text.trim();\n",
       "            if (id in Bokeh.index) {\n",
       "              Bokeh.index[id].model.document.clear();\n",
       "              delete Bokeh.index[id];\n",
       "            }\n",
       "          }\n",
       "        }\n",
       "      });\n",
       "      // Destroy server and session\n",
       "      var cmd = \"import bokeh.io.notebook as ion; ion.destroy_server('\" + server_id + \"')\";\n",
       "      cell.notebook.kernel.execute(cmd);\n",
       "    }\n",
       "  }\n",
       "\n",
       "  /**\n",
       "   * Handle when a new output is added\n",
       "   */\n",
       "  function handleAddOutput(event, handle) {\n",
       "    var output_area = handle.output_area;\n",
       "    var output = handle.output;\n",
       "\n",
       "    // limit handleAddOutput to display_data with EXEC_MIME_TYPE content only\n",
       "    if ((output.output_type != \"display_data\") || (!output.data.hasOwnProperty(EXEC_MIME_TYPE))) {\n",
       "      return\n",
       "    }\n",
       "\n",
       "    var toinsert = output_area.element.find(\".\" + CLASS_NAME.split(' ')[0]);\n",
       "\n",
       "    if (output.metadata[EXEC_MIME_TYPE][\"id\"] !== undefined) {\n",
       "      toinsert[toinsert.length - 1].firstChild.textContent = output.data[JS_MIME_TYPE];\n",
       "      // store reference to embed id on output_area\n",
       "      output_area._bokeh_element_id = output.metadata[EXEC_MIME_TYPE][\"id\"];\n",
       "    }\n",
       "    if (output.metadata[EXEC_MIME_TYPE][\"server_id\"] !== undefined) {\n",
       "      var bk_div = document.createElement(\"div\");\n",
       "      bk_div.innerHTML = output.data[HTML_MIME_TYPE];\n",
       "      var script_attrs = bk_div.children[0].attributes;\n",
       "      for (var i = 0; i < script_attrs.length; i++) {\n",
       "        toinsert[toinsert.length - 1].firstChild.setAttribute(script_attrs[i].name, script_attrs[i].value);\n",
       "      }\n",
       "      // store reference to server id on output_area\n",
       "      output_area._bokeh_server_id = output.metadata[EXEC_MIME_TYPE][\"server_id\"];\n",
       "    }\n",
       "  }\n",
       "\n",
       "  function register_renderer(events, OutputArea) {\n",
       "\n",
       "    function append_mime(data, metadata, element) {\n",
       "      // create a DOM node to render to\n",
       "      var toinsert = this.create_output_subarea(\n",
       "        metadata,\n",
       "        CLASS_NAME,\n",
       "        EXEC_MIME_TYPE\n",
       "      );\n",
       "      this.keyboard_manager.register_events(toinsert);\n",
       "      // Render to node\n",
       "      var props = {data: data, metadata: metadata[EXEC_MIME_TYPE]};\n",
       "      render(props, toinsert[toinsert.length - 1]);\n",
       "      element.append(toinsert);\n",
       "      return toinsert\n",
       "    }\n",
       "\n",
       "    /* Handle when an output is cleared or removed */\n",
       "    events.on('clear_output.CodeCell', handleClearOutput);\n",
       "    events.on('delete.Cell', handleClearOutput);\n",
       "\n",
       "    /* Handle when a new output is added */\n",
       "    events.on('output_added.OutputArea', handleAddOutput);\n",
       "\n",
       "    /**\n",
       "     * Register the mime type and append_mime function with output_area\n",
       "     */\n",
       "    OutputArea.prototype.register_mime_type(EXEC_MIME_TYPE, append_mime, {\n",
       "      /* Is output safe? */\n",
       "      safe: true,\n",
       "      /* Index of renderer in `output_area.display_order` */\n",
       "      index: 0\n",
       "    });\n",
       "  }\n",
       "\n",
       "  // register the mime type if in Jupyter Notebook environment and previously unregistered\n",
       "  if (root.Jupyter !== undefined) {\n",
       "    var events = require('base/js/events');\n",
       "    var OutputArea = require('notebook/js/outputarea').OutputArea;\n",
       "\n",
       "    if (OutputArea.prototype.mime_types().indexOf(EXEC_MIME_TYPE) == -1) {\n",
       "      register_renderer(events, OutputArea);\n",
       "    }\n",
       "  }\n",
       "\n",
       "  \n",
       "  if (typeof (root._bokeh_timeout) === \"undefined\" || force === true) {\n",
       "    root._bokeh_timeout = Date.now() + 5000;\n",
       "    root._bokeh_failed_load = false;\n",
       "  }\n",
       "\n",
       "  var NB_LOAD_WARNING = {'data': {'text/html':\n",
       "     \"<div style='background-color: #fdd'>\\n\"+\n",
       "     \"<p>\\n\"+\n",
       "     \"BokehJS does not appear to have successfully loaded. If loading BokehJS from CDN, this \\n\"+\n",
       "     \"may be due to a slow or bad network connection. Possible fixes:\\n\"+\n",
       "     \"</p>\\n\"+\n",
       "     \"<ul>\\n\"+\n",
       "     \"<li>re-rerun `output_notebook()` to attempt to load from CDN again, or</li>\\n\"+\n",
       "     \"<li>use INLINE resources instead, as so:</li>\\n\"+\n",
       "     \"</ul>\\n\"+\n",
       "     \"<code>\\n\"+\n",
       "     \"from bokeh.resources import INLINE\\n\"+\n",
       "     \"output_notebook(resources=INLINE)\\n\"+\n",
       "     \"</code>\\n\"+\n",
       "     \"</div>\"}};\n",
       "\n",
       "  function display_loaded() {\n",
       "    var el = document.getElementById(\"5938c781-dd56-4881-9f30-3a4d18134610\");\n",
       "    if (el != null) {\n",
       "      el.textContent = \"BokehJS is loading...\";\n",
       "    }\n",
       "    if (root.Bokeh !== undefined) {\n",
       "      if (el != null) {\n",
       "        el.textContent = \"BokehJS \" + root.Bokeh.version + \" successfully loaded.\";\n",
       "      }\n",
       "    } else if (Date.now() < root._bokeh_timeout) {\n",
       "      setTimeout(display_loaded, 100)\n",
       "    }\n",
       "  }\n",
       "\n",
       "\n",
       "  function run_callbacks() {\n",
       "    try {\n",
       "      root._bokeh_onload_callbacks.forEach(function(callback) { callback() });\n",
       "    }\n",
       "    finally {\n",
       "      delete root._bokeh_onload_callbacks\n",
       "    }\n",
       "    console.info(\"Bokeh: all callbacks have finished\");\n",
       "  }\n",
       "\n",
       "  function load_libs(js_urls, callback) {\n",
       "    root._bokeh_onload_callbacks.push(callback);\n",
       "    if (root._bokeh_is_loading > 0) {\n",
       "      console.log(\"Bokeh: BokehJS is being loaded, scheduling callback at\", now());\n",
       "      return null;\n",
       "    }\n",
       "    if (js_urls == null || js_urls.length === 0) {\n",
       "      run_callbacks();\n",
       "      return null;\n",
       "    }\n",
       "    console.log(\"Bokeh: BokehJS not loaded, scheduling load and callback at\", now());\n",
       "    root._bokeh_is_loading = js_urls.length;\n",
       "    for (var i = 0; i < js_urls.length; i++) {\n",
       "      var url = js_urls[i];\n",
       "      var s = document.createElement('script');\n",
       "      s.src = url;\n",
       "      s.async = false;\n",
       "      s.onreadystatechange = s.onload = function() {\n",
       "        root._bokeh_is_loading--;\n",
       "        if (root._bokeh_is_loading === 0) {\n",
       "          console.log(\"Bokeh: all BokehJS libraries loaded\");\n",
       "          run_callbacks()\n",
       "        }\n",
       "      };\n",
       "      s.onerror = function() {\n",
       "        console.warn(\"failed to load library \" + url);\n",
       "      };\n",
       "      console.log(\"Bokeh: injecting script tag for BokehJS library: \", url);\n",
       "      document.getElementsByTagName(\"head\")[0].appendChild(s);\n",
       "    }\n",
       "  };var element = document.getElementById(\"5938c781-dd56-4881-9f30-3a4d18134610\");\n",
       "  if (element == null) {\n",
       "    console.log(\"Bokeh: ERROR: autoload.js configured with elementid '5938c781-dd56-4881-9f30-3a4d18134610' but no matching script tag was found. \")\n",
       "    return false;\n",
       "  }\n",
       "\n",
       "  var js_urls = [\"https://cdn.pydata.org/bokeh/release/bokeh-0.13.0.min.js\", \"https://cdn.pydata.org/bokeh/release/bokeh-widgets-0.13.0.min.js\", \"https://cdn.pydata.org/bokeh/release/bokeh-tables-0.13.0.min.js\", \"https://cdn.pydata.org/bokeh/release/bokeh-gl-0.13.0.min.js\"];\n",
       "\n",
       "  var inline_js = [\n",
       "    function(Bokeh) {\n",
       "      Bokeh.set_log_level(\"info\");\n",
       "    },\n",
       "    \n",
       "    function(Bokeh) {\n",
       "      \n",
       "    },\n",
       "    function(Bokeh) {\n",
       "      console.log(\"Bokeh: injecting CSS: https://cdn.pydata.org/bokeh/release/bokeh-0.13.0.min.css\");\n",
       "      Bokeh.embed.inject_css(\"https://cdn.pydata.org/bokeh/release/bokeh-0.13.0.min.css\");\n",
       "      console.log(\"Bokeh: injecting CSS: https://cdn.pydata.org/bokeh/release/bokeh-widgets-0.13.0.min.css\");\n",
       "      Bokeh.embed.inject_css(\"https://cdn.pydata.org/bokeh/release/bokeh-widgets-0.13.0.min.css\");\n",
       "      console.log(\"Bokeh: injecting CSS: https://cdn.pydata.org/bokeh/release/bokeh-tables-0.13.0.min.css\");\n",
       "      Bokeh.embed.inject_css(\"https://cdn.pydata.org/bokeh/release/bokeh-tables-0.13.0.min.css\");\n",
       "    }\n",
       "  ];\n",
       "\n",
       "  function run_inline_js() {\n",
       "    \n",
       "    if ((root.Bokeh !== undefined) || (force === true)) {\n",
       "      for (var i = 0; i < inline_js.length; i++) {\n",
       "        inline_js[i].call(root, root.Bokeh);\n",
       "      }if (force === true) {\n",
       "        display_loaded();\n",
       "      }} else if (Date.now() < root._bokeh_timeout) {\n",
       "      setTimeout(run_inline_js, 100);\n",
       "    } else if (!root._bokeh_failed_load) {\n",
       "      console.log(\"Bokeh: BokehJS failed to load within specified timeout.\");\n",
       "      root._bokeh_failed_load = true;\n",
       "    } else if (force !== true) {\n",
       "      var cell = $(document.getElementById(\"5938c781-dd56-4881-9f30-3a4d18134610\")).parents('.cell').data().cell;\n",
       "      cell.output_area.append_execute_result(NB_LOAD_WARNING)\n",
       "    }\n",
       "\n",
       "  }\n",
       "\n",
       "  if (root._bokeh_is_loading === 0) {\n",
       "    console.log(\"Bokeh: BokehJS loaded, going straight to plotting\");\n",
       "    run_inline_js();\n",
       "  } else {\n",
       "    load_libs(js_urls, function() {\n",
       "      console.log(\"Bokeh: BokehJS plotting callback run at\", now());\n",
       "      run_inline_js();\n",
       "    });\n",
       "  }\n",
       "}(window));"
      ],
      "application/vnd.bokehjs_load.v0+json": "\n(function(root) {\n  function now() {\n    return new Date();\n  }\n\n  var force = true;\n\n  if (typeof (root._bokeh_onload_callbacks) === \"undefined\" || force === true) {\n    root._bokeh_onload_callbacks = [];\n    root._bokeh_is_loading = undefined;\n  }\n\n  \n\n  \n  if (typeof (root._bokeh_timeout) === \"undefined\" || force === true) {\n    root._bokeh_timeout = Date.now() + 5000;\n    root._bokeh_failed_load = false;\n  }\n\n  var NB_LOAD_WARNING = {'data': {'text/html':\n     \"<div style='background-color: #fdd'>\\n\"+\n     \"<p>\\n\"+\n     \"BokehJS does not appear to have successfully loaded. If loading BokehJS from CDN, this \\n\"+\n     \"may be due to a slow or bad network connection. Possible fixes:\\n\"+\n     \"</p>\\n\"+\n     \"<ul>\\n\"+\n     \"<li>re-rerun `output_notebook()` to attempt to load from CDN again, or</li>\\n\"+\n     \"<li>use INLINE resources instead, as so:</li>\\n\"+\n     \"</ul>\\n\"+\n     \"<code>\\n\"+\n     \"from bokeh.resources import INLINE\\n\"+\n     \"output_notebook(resources=INLINE)\\n\"+\n     \"</code>\\n\"+\n     \"</div>\"}};\n\n  function display_loaded() {\n    var el = document.getElementById(\"5938c781-dd56-4881-9f30-3a4d18134610\");\n    if (el != null) {\n      el.textContent = \"BokehJS is loading...\";\n    }\n    if (root.Bokeh !== undefined) {\n      if (el != null) {\n        el.textContent = \"BokehJS \" + root.Bokeh.version + \" successfully loaded.\";\n      }\n    } else if (Date.now() < root._bokeh_timeout) {\n      setTimeout(display_loaded, 100)\n    }\n  }\n\n\n  function run_callbacks() {\n    try {\n      root._bokeh_onload_callbacks.forEach(function(callback) { callback() });\n    }\n    finally {\n      delete root._bokeh_onload_callbacks\n    }\n    console.info(\"Bokeh: all callbacks have finished\");\n  }\n\n  function load_libs(js_urls, callback) {\n    root._bokeh_onload_callbacks.push(callback);\n    if (root._bokeh_is_loading > 0) {\n      console.log(\"Bokeh: BokehJS is being loaded, scheduling callback at\", now());\n      return null;\n    }\n    if (js_urls == null || js_urls.length === 0) {\n      run_callbacks();\n      return null;\n    }\n    console.log(\"Bokeh: BokehJS not loaded, scheduling load and callback at\", now());\n    root._bokeh_is_loading = js_urls.length;\n    for (var i = 0; i < js_urls.length; i++) {\n      var url = js_urls[i];\n      var s = document.createElement('script');\n      s.src = url;\n      s.async = false;\n      s.onreadystatechange = s.onload = function() {\n        root._bokeh_is_loading--;\n        if (root._bokeh_is_loading === 0) {\n          console.log(\"Bokeh: all BokehJS libraries loaded\");\n          run_callbacks()\n        }\n      };\n      s.onerror = function() {\n        console.warn(\"failed to load library \" + url);\n      };\n      console.log(\"Bokeh: injecting script tag for BokehJS library: \", url);\n      document.getElementsByTagName(\"head\")[0].appendChild(s);\n    }\n  };var element = document.getElementById(\"5938c781-dd56-4881-9f30-3a4d18134610\");\n  if (element == null) {\n    console.log(\"Bokeh: ERROR: autoload.js configured with elementid '5938c781-dd56-4881-9f30-3a4d18134610' but no matching script tag was found. \")\n    return false;\n  }\n\n  var js_urls = [\"https://cdn.pydata.org/bokeh/release/bokeh-0.13.0.min.js\", \"https://cdn.pydata.org/bokeh/release/bokeh-widgets-0.13.0.min.js\", \"https://cdn.pydata.org/bokeh/release/bokeh-tables-0.13.0.min.js\", \"https://cdn.pydata.org/bokeh/release/bokeh-gl-0.13.0.min.js\"];\n\n  var inline_js = [\n    function(Bokeh) {\n      Bokeh.set_log_level(\"info\");\n    },\n    \n    function(Bokeh) {\n      \n    },\n    function(Bokeh) {\n      console.log(\"Bokeh: injecting CSS: https://cdn.pydata.org/bokeh/release/bokeh-0.13.0.min.css\");\n      Bokeh.embed.inject_css(\"https://cdn.pydata.org/bokeh/release/bokeh-0.13.0.min.css\");\n      console.log(\"Bokeh: injecting CSS: https://cdn.pydata.org/bokeh/release/bokeh-widgets-0.13.0.min.css\");\n      Bokeh.embed.inject_css(\"https://cdn.pydata.org/bokeh/release/bokeh-widgets-0.13.0.min.css\");\n      console.log(\"Bokeh: injecting CSS: https://cdn.pydata.org/bokeh/release/bokeh-tables-0.13.0.min.css\");\n      Bokeh.embed.inject_css(\"https://cdn.pydata.org/bokeh/release/bokeh-tables-0.13.0.min.css\");\n    }\n  ];\n\n  function run_inline_js() {\n    \n    if ((root.Bokeh !== undefined) || (force === true)) {\n      for (var i = 0; i < inline_js.length; i++) {\n        inline_js[i].call(root, root.Bokeh);\n      }if (force === true) {\n        display_loaded();\n      }} else if (Date.now() < root._bokeh_timeout) {\n      setTimeout(run_inline_js, 100);\n    } else if (!root._bokeh_failed_load) {\n      console.log(\"Bokeh: BokehJS failed to load within specified timeout.\");\n      root._bokeh_failed_load = true;\n    } else if (force !== true) {\n      var cell = $(document.getElementById(\"5938c781-dd56-4881-9f30-3a4d18134610\")).parents('.cell').data().cell;\n      cell.output_area.append_execute_result(NB_LOAD_WARNING)\n    }\n\n  }\n\n  if (root._bokeh_is_loading === 0) {\n    console.log(\"Bokeh: BokehJS loaded, going straight to plotting\");\n    run_inline_js();\n  } else {\n    load_libs(js_urls, function() {\n      console.log(\"Bokeh: BokehJS plotting callback run at\", now());\n      run_inline_js();\n    });\n  }\n}(window));"
     },
     "metadata": {},
     "output_type": "display_data"
    }
   ],
   "source": [
    "import bokeh.plotting as pl\n",
    "import bokeh.models as bm\n",
    "from bokeh.io import output_notebook, show\n",
    "output_notebook()\n",
    "\n",
    "def draw_attention(inp_line, translation, probs):\n",
    "    \"\"\" An intentionally ambiguous function to visualize attention weights \"\"\"\n",
    "    inp_tokens = inp_voc.tokenize(inp_line)\n",
    "    trans_tokens = out_voc.tokenize(translation)\n",
    "    probs = probs[:len(trans_tokens), :len(inp_tokens)]\n",
    "    \n",
    "    fig = pl.figure(x_range=(0, len(inp_tokens)), y_range=(0, len(trans_tokens)),\n",
    "                    x_axis_type=None, y_axis_type=None, tools=[])\n",
    "    fig.image([probs[::-1]], 0, 0, len(inp_tokens), len(trans_tokens))\n",
    "\n",
    "    fig.add_layout(bm.LinearAxis(axis_label='source tokens'), 'above')\n",
    "    fig.xaxis.ticker = np.arange(len(inp_tokens)) + 0.5\n",
    "    fig.xaxis.major_label_overrides = dict(zip(np.arange(len(inp_tokens)) + 0.5, inp_tokens))\n",
    "    fig.xaxis.major_label_orientation = 45\n",
    "\n",
    "    fig.add_layout(bm.LinearAxis(axis_label='translation tokens'), 'left')\n",
    "    fig.yaxis.ticker = np.arange(len(trans_tokens)) + 0.5\n",
    "    fig.yaxis.major_label_overrides = dict(zip(np.arange(len(trans_tokens)) + 0.5, trans_tokens[::-1]))\n",
    "\n",
    "    show(fig)"
   ]
  },
  {
   "cell_type": "code",
   "execution_count": 36,
   "metadata": {},
   "outputs": [],
   "source": [
    "inp = dev_inp[::500]\n",
    "\n",
    "trans, states = model.translate_lines(inp)\n",
    "\n",
    "# select attention probs from model state (you may need to change this for your custom model)\n",
    "attention_probs = np.stack([state[-1] for state in states], axis=1)"
   ]
  },
  {
   "cell_type": "code",
   "execution_count": 37,
   "metadata": {
    "scrolled": false
   },
   "outputs": [
    {
     "data": {
      "text/html": [
       "\n",
       "\n",
       "\n",
       "\n",
       "\n",
       "\n",
       "  <div class=\"bk-root\" id=\"ba7974b6-267a-45c2-93d9-8dc6aac97729\"></div>\n"
      ]
     },
     "metadata": {},
     "output_type": "display_data"
    },
    {
     "data": {
      "application/javascript": [
       "(function(root) {\n",
       "  function embed_document(root) {\n",
       "    \n",
       "  var docs_json = {\"64421130-562d-45a5-af62-24d2eefda7d5\":{\"roots\":{\"references\":[{\"attributes\":{\"axis_label\":\"source tokens\",\"formatter\":{\"id\":\"eef0a336-db45-4e0c-88f3-13e2e357c5cb\",\"type\":\"BasicTickFormatter\"},\"major_label_orientation\":45,\"major_label_overrides\":{\"0.5\":\"_BOS_\",\"1.5\":\"\\u0432\",\"10.5\":\"_EOS_\",\"2.5\":\"\\u0440\\u0430\\u0441\\u043f\\u043e\\u0440\\u044f\\u0436\\u0435\\u043d\\u0438\\u0438\",\"3.5\":\"\\u0433\\u043e\\u0441\\u0442\\u0435\\u0439\",\"4.5\":\"\\u043e\\u0431\\u0449\\u0430\\u044f\",\"5.5\":\"\\u043a\\u0443\\u0445\\u043d\\u044f\",\"6.5\":\"\\u0438\",\"7.5\":\"\\u043e\\u0431\\u0449\\u0430\\u044f\",\"8.5\":\"\\u0433\\u043e\\u0441\\u0442\\u0438\\u043d\\u0430\\u044f\",\"9.5\":\".\"},\"plot\":{\"id\":\"d8beab9f-b928-46f3-957c-42cdd5f35453\",\"subtype\":\"Figure\",\"type\":\"Plot\"},\"ticker\":{\"id\":\"8d8e85b6-61ed-4375-862f-a3b197aba5f7\",\"type\":\"FixedTicker\"}},\"id\":\"2020cc0d-2d4a-45b1-a58a-6a8365b97385\",\"type\":\"LinearAxis\"},{\"attributes\":{},\"id\":\"eef0a336-db45-4e0c-88f3-13e2e357c5cb\",\"type\":\"BasicTickFormatter\"},{\"attributes\":{\"color_mapper\":{\"id\":\"649ad68d-8293-45d1-a65e-f0be3257ddb8\",\"type\":\"LinearColorMapper\"},\"dh\":{\"units\":\"data\",\"value\":12},\"dw\":{\"units\":\"data\",\"value\":11},\"image\":{\"field\":\"image\"},\"x\":{\"value\":0},\"y\":{\"value\":0}},\"id\":\"53c1e6c8-9af4-410f-93d2-8d1e5824077d\",\"type\":\"Image\"},{\"attributes\":{\"active_drag\":\"auto\",\"active_inspect\":\"auto\",\"active_multi\":null,\"active_scroll\":\"auto\",\"active_tap\":\"auto\"},\"id\":\"b2168517-8e99-494d-bf6e-f656a756662b\",\"type\":\"Toolbar\"},{\"attributes\":{\"data_source\":{\"id\":\"17508d84-3d3c-4afb-b89e-bfd5df12518c\",\"type\":\"ColumnDataSource\"},\"glyph\":{\"id\":\"10b75c73-2ca4-4de4-a0ab-c64e0a1fa575\",\"type\":\"Image\"},\"hover_glyph\":null,\"muted_glyph\":null,\"nonselection_glyph\":{\"id\":\"53c1e6c8-9af4-410f-93d2-8d1e5824077d\",\"type\":\"Image\"},\"selection_glyph\":null,\"view\":{\"id\":\"b6c9255c-580b-401d-9254-d6619c8ea599\",\"type\":\"CDSView\"}},\"id\":\"7049e0cb-f90c-4237-be03-d5e30d02e3d2\",\"type\":\"GlyphRenderer\"},{\"attributes\":{},\"id\":\"cb3565ff-5b91-42ec-9634-7fee461338ba\",\"type\":\"LinearScale\"},{\"attributes\":{\"ticks\":[0.5,1.5,2.5,3.5,4.5,5.5,6.5,7.5,8.5,9.5,10.5,11.5]},\"id\":\"b3b8cd23-c669-4df2-ac1f-710f32d12849\",\"type\":\"FixedTicker\"},{\"attributes\":{},\"id\":\"f6daa7b6-af76-48e8-86fd-8fc9e0c5eede\",\"type\":\"Selection\"},{\"attributes\":{\"callback\":null,\"end\":12},\"id\":\"da45f145-7faf-45fb-ac57-66354299a3dc\",\"type\":\"Range1d\"},{\"attributes\":{\"above\":[{\"id\":\"2020cc0d-2d4a-45b1-a58a-6a8365b97385\",\"type\":\"LinearAxis\"}],\"left\":[{\"id\":\"9735dbdf-1e36-46bb-987b-8e18b8e9f53f\",\"type\":\"LinearAxis\"}],\"renderers\":[{\"id\":\"7049e0cb-f90c-4237-be03-d5e30d02e3d2\",\"type\":\"GlyphRenderer\"},{\"id\":\"2020cc0d-2d4a-45b1-a58a-6a8365b97385\",\"type\":\"LinearAxis\"},{\"id\":\"9735dbdf-1e36-46bb-987b-8e18b8e9f53f\",\"type\":\"LinearAxis\"}],\"title\":{\"id\":\"010c01e7-13b8-4e58-bd1d-52672d2dbd8e\",\"type\":\"Title\"},\"toolbar\":{\"id\":\"b2168517-8e99-494d-bf6e-f656a756662b\",\"type\":\"Toolbar\"},\"x_range\":{\"id\":\"e87fcbe0-677e-4691-b987-e17f3499e916\",\"type\":\"Range1d\"},\"x_scale\":{\"id\":\"cb3565ff-5b91-42ec-9634-7fee461338ba\",\"type\":\"LinearScale\"},\"y_range\":{\"id\":\"da45f145-7faf-45fb-ac57-66354299a3dc\",\"type\":\"Range1d\"},\"y_scale\":{\"id\":\"f8ebecc3-5fa6-4624-830f-6570832de48c\",\"type\":\"LinearScale\"}},\"id\":\"d8beab9f-b928-46f3-957c-42cdd5f35453\",\"subtype\":\"Figure\",\"type\":\"Plot\"},{\"attributes\":{},\"id\":\"851d99a9-5d5a-4bc3-87a0-8ec4d67c6d33\",\"type\":\"UnionRenderers\"},{\"attributes\":{\"plot\":null,\"text\":\"\"},\"id\":\"010c01e7-13b8-4e58-bd1d-52672d2dbd8e\",\"type\":\"Title\"},{\"attributes\":{\"palette\":[\"#000000\",\"#252525\",\"#525252\",\"#737373\",\"#969696\",\"#bdbdbd\",\"#d9d9d9\",\"#f0f0f0\",\"#ffffff\"]},\"id\":\"649ad68d-8293-45d1-a65e-f0be3257ddb8\",\"type\":\"LinearColorMapper\"},{\"attributes\":{\"color_mapper\":{\"id\":\"9d908b18-56d0-4884-ac42-e4394ca08f1c\",\"type\":\"LinearColorMapper\"},\"dh\":{\"units\":\"data\",\"value\":12},\"dw\":{\"units\":\"data\",\"value\":11},\"image\":{\"field\":\"image\"},\"x\":{\"value\":0},\"y\":{\"value\":0}},\"id\":\"10b75c73-2ca4-4de4-a0ab-c64e0a1fa575\",\"type\":\"Image\"},{\"attributes\":{},\"id\":\"f8ebecc3-5fa6-4624-830f-6570832de48c\",\"type\":\"LinearScale\"},{\"attributes\":{\"callback\":null,\"data\":{\"image\":[{\"__ndarray__\":\"pea4PLMQDj29uh897ENMPMt0VTwLlIs+dVVQPGwh3jzgkEw+aLBBPuMhNT54ArM9bJQjPoFC/jwO9fs7g+yvOyEw7zxQD207Mv7PPXOWqT1LhJ8+01U4Pucupj04tV89o+D5PKOAFDx+dK072D6zPCRV3Dopx64+HuGtPdwpaD48QhI+A/1APa+IoDyYGHE8Ox6fOykcEzxc/RI84Sd2PE+Lwj45FI8+PtoaPo+Pjz3j5ck9qYMhPAAkOjzGDDE7wpWmO99QzDzUbHg8x/3APnBevj6MDYM9okygPHkEkzvs7bI7bV+FPCtHFz1L38Q9tsiWPdKMvzz8Fpc9EkgGP8zlsj2/uW09/afVPDuwGzxbwA48p5W+OzJXojwNSug9DPsdPlCSkz2hOwE/UjNDPU//Gj2Uogo+aDh3Pdjriz3VPuw8vK3EPNvk/j3kJ689Sen3PTovoj73Io881++RPIbIyjxiv/07Sxz8PGBARD2B3KQ+gdCuPpsp8T2GszI92Cl6PamIpjrSC9k6VSx4PSI3Bz0IQJQ9556PPTwAbD2TbcA+1K+0PSSt4D1fWJo9SCEMPcHLuzz1dTU8mhkDPP8zbj2dL+c9PpuKPuKphT6xXrI9Bl1APZ3g7z3VnJw8t67/O/V1NTyaGQM8/zNuPZ0v5z0+m4o+4qmFPrFesj0GXUA9neDvPdWcnDy3rv87\",\"dtype\":\"float32\",\"shape\":[12,11]}]},\"selected\":{\"id\":\"f6daa7b6-af76-48e8-86fd-8fc9e0c5eede\",\"type\":\"Selection\"},\"selection_policy\":{\"id\":\"851d99a9-5d5a-4bc3-87a0-8ec4d67c6d33\",\"type\":\"UnionRenderers\"}},\"id\":\"17508d84-3d3c-4afb-b89e-bfd5df12518c\",\"type\":\"ColumnDataSource\"},{\"attributes\":{\"axis_label\":\"translation tokens\",\"formatter\":{\"id\":\"2266c4db-d6c4-429b-8226-636a7fb2d21c\",\"type\":\"BasicTickFormatter\"},\"major_label_overrides\":{\"0.5\":\"_EOS_\",\"1.5\":\".\",\"10.5\":\"the\",\"11.5\":\"_BOS_\",\"2.5\":\"bathroom\",\"3.5\":\"shared\",\"4.5\":\"shared\",\"5.5\":\"and\",\"6.5\":\"shared\",\"7.5\":\"is\",\"8.5\":\"kitchen\",\"9.5\":\"shared\"},\"plot\":{\"id\":\"d8beab9f-b928-46f3-957c-42cdd5f35453\",\"subtype\":\"Figure\",\"type\":\"Plot\"},\"ticker\":{\"id\":\"b3b8cd23-c669-4df2-ac1f-710f32d12849\",\"type\":\"FixedTicker\"}},\"id\":\"9735dbdf-1e36-46bb-987b-8e18b8e9f53f\",\"type\":\"LinearAxis\"},{\"attributes\":{\"palette\":[\"#000000\",\"#252525\",\"#525252\",\"#737373\",\"#969696\",\"#bdbdbd\",\"#d9d9d9\",\"#f0f0f0\",\"#ffffff\"]},\"id\":\"9d908b18-56d0-4884-ac42-e4394ca08f1c\",\"type\":\"LinearColorMapper\"},{\"attributes\":{\"ticks\":[0.5,1.5,2.5,3.5,4.5,5.5,6.5,7.5,8.5,9.5,10.5]},\"id\":\"8d8e85b6-61ed-4375-862f-a3b197aba5f7\",\"type\":\"FixedTicker\"},{\"attributes\":{},\"id\":\"2266c4db-d6c4-429b-8226-636a7fb2d21c\",\"type\":\"BasicTickFormatter\"},{\"attributes\":{\"source\":{\"id\":\"17508d84-3d3c-4afb-b89e-bfd5df12518c\",\"type\":\"ColumnDataSource\"}},\"id\":\"b6c9255c-580b-401d-9254-d6619c8ea599\",\"type\":\"CDSView\"},{\"attributes\":{\"callback\":null,\"end\":11},\"id\":\"e87fcbe0-677e-4691-b987-e17f3499e916\",\"type\":\"Range1d\"}],\"root_ids\":[\"d8beab9f-b928-46f3-957c-42cdd5f35453\"]},\"title\":\"Bokeh Application\",\"version\":\"0.13.0\"}};\n",
       "  var render_items = [{\"docid\":\"64421130-562d-45a5-af62-24d2eefda7d5\",\"roots\":{\"d8beab9f-b928-46f3-957c-42cdd5f35453\":\"ba7974b6-267a-45c2-93d9-8dc6aac97729\"}}];\n",
       "  root.Bokeh.embed.embed_items_notebook(docs_json, render_items);\n",
       "\n",
       "  }\n",
       "  if (root.Bokeh !== undefined) {\n",
       "    embed_document(root);\n",
       "  } else {\n",
       "    var attempts = 0;\n",
       "    var timer = setInterval(function(root) {\n",
       "      if (root.Bokeh !== undefined) {\n",
       "        embed_document(root);\n",
       "        clearInterval(timer);\n",
       "      }\n",
       "      attempts++;\n",
       "      if (attempts > 100) {\n",
       "        console.log(\"Bokeh: ERROR: Unable to run BokehJS code because BokehJS library is missing\")\n",
       "        clearInterval(timer);\n",
       "      }\n",
       "    }, 10, root)\n",
       "  }\n",
       "})(window);"
      ],
      "application/vnd.bokehjs_exec.v0+json": ""
     },
     "metadata": {
      "application/vnd.bokehjs_exec.v0+json": {
       "id": "d8beab9f-b928-46f3-957c-42cdd5f35453"
      }
     },
     "output_type": "display_data"
    },
    {
     "data": {
      "text/html": [
       "\n",
       "\n",
       "\n",
       "\n",
       "\n",
       "\n",
       "  <div class=\"bk-root\" id=\"8c5abb4e-aef9-41de-8726-7b38b6392dc8\"></div>\n"
      ]
     },
     "metadata": {},
     "output_type": "display_data"
    },
    {
     "data": {
      "application/javascript": [
       "(function(root) {\n",
       "  function embed_document(root) {\n",
       "    \n",
       "  var docs_json = {\"dc03e45e-fa7b-47e9-b1ec-bf7672f8a3d1\":{\"roots\":{\"references\":[{\"attributes\":{\"color_mapper\":{\"id\":\"b5631a39-3187-48ce-9fc7-07c9c7fbff8d\",\"type\":\"LinearColorMapper\"},\"dh\":{\"units\":\"data\",\"value\":16},\"dw\":{\"units\":\"data\",\"value\":15},\"image\":{\"field\":\"image\"},\"x\":{\"value\":0},\"y\":{\"value\":0}},\"id\":\"2bc01d28-96a2-4d4f-b589-83dd955c96ba\",\"type\":\"Image\"},{\"attributes\":{},\"id\":\"7b8d59d7-66d5-4b88-bb49-827109f92970\",\"type\":\"LinearScale\"},{\"attributes\":{\"callback\":null,\"end\":15},\"id\":\"78f1d4dc-2a61-4e0e-bc75-1bdb8e0b1e82\",\"type\":\"Range1d\"},{\"attributes\":{\"callback\":null,\"data\":{\"image\":[{\"__ndarray__\":\"p+gsPTTWuzxeRn47+nedO4ENWztE+vY55MSPOYlSRzrxv5o5nIc+PcxMlzslyFs7HRs4O+hQtD1pk0Y/zdw/PiNNOD4ZSB09QoeuPFTaTzwmS2k7q8EtOvhEpznY9KI5nMGePEvBlDtJ4DQ9Jp0MPULy2D1cs7E+96odPToGCj2r+uE868y1PJSdRz2t6ms9a+jCO81A/zqvnZo75xNJPMMTWzvLSh49MBWbPsi80D1+mpk+IYELPNxZJTsky146ZcWrOQ8PgzrO0Xo6FbuSOiGq/jqeOAQ7yzUYPHStjjvfhrw+psHRPmJs3T1yEqY9sRtEPUTC7zy+0VU8jWepO4WkVjzBuDU81/MhPGsJIzvoreA7ktPIPOk/WzxtKcw+ulWRPsFniT1XwpY9i40iPER49DtlTnY7VxEsOvMsizqLoZI6HiwQO5Ko9DoX29M6+DDzO9oT5zxcoTA+6EwaPwGW4z0bE0Y9KuJOPRv6pzxEnQk8GpWYOwLeKzyooSE8Zw56PFVYZjwAz0Y8Ju+sPS91hD3QJ1w+1O79PU9cOj6tcDw+s/2SPH8GZDscAgI7BnSjOguUuzsYwdk61LI3PEYMhTvyW/s7Dd3xPYBhHj3dV7E+vKElPgFOMD6oGN09S1mMPZfj1Dyn9Q48WB5FPNgSMT0muwg8mecvPM0xuTx07nU9MgyBPky0cT1YFDg+2oMjPbJz0j2hoNk9U0u+PXR9vDzgYTk8vpNOPATYxjzsK/88Ok0sPuv1mj2wJuw9TZ9NPvX1rD31TZQ9PKpLPV/igzx8ObQ80YzEO2ligDuAw386XOLKOi4C/zsm5PM7RboiPebwZz5n9Lg9DVv0Poplpz3moPk8iUn+O75YTzznqME71cIPPPibnTuarBc7oimIO2x9LDwyE6U84VzOPmkWCT4cOZI9WfsyPowXrT116uw8U4QJPUOxTjwt7dU7sshhPOc6wjzhbDY8EGMoPJs9UTzYKiQ9y60bP7tRGz78UDQ9puBIPaZWKDxVDTo8hRLpO4AnpDsQk9U61eF9PTgvHT0qwNo8kLmMPMJQ5jxfTDg9DJWTPrXv5j225rg9HAIPPqUJWT2VsFI92969PL9xijwK6us7vp/FO2cpdTwypgo890pUPCNHZzzGz2k9klXoPgA5MD6jBvg9ImcBPUg2oT0usCo8EVI+PONpkjuVRyo7vp/FO2cpdTwypgo890pUPCNHZzzGz2k9klXoPgA5MD6jBvg9ImcBPUg2oT0usCo8EVI+PONpkjuVRyo7\",\"dtype\":\"float32\",\"shape\":[16,15]}]},\"selected\":{\"id\":\"a4859338-46fd-4d83-aac4-8a7b7aecc084\",\"type\":\"Selection\"},\"selection_policy\":{\"id\":\"f1b10cd3-931b-48ea-8aca-6734db81da2c\",\"type\":\"UnionRenderers\"}},\"id\":\"9ec2a3aa-f608-4ee9-8fa1-403eac9cb711\",\"type\":\"ColumnDataSource\"},{\"attributes\":{},\"id\":\"a4859338-46fd-4d83-aac4-8a7b7aecc084\",\"type\":\"Selection\"},{\"attributes\":{\"plot\":null,\"text\":\"\"},\"id\":\"49487a9c-abba-4c1f-b31a-71b54fa568f8\",\"type\":\"Title\"},{\"attributes\":{\"active_drag\":\"auto\",\"active_inspect\":\"auto\",\"active_multi\":null,\"active_scroll\":\"auto\",\"active_tap\":\"auto\"},\"id\":\"341ef5fc-a645-4ac1-acd6-3785ac0fd803\",\"type\":\"Toolbar\"},{\"attributes\":{\"axis_label\":\"translation tokens\",\"formatter\":{\"id\":\"4be30ccf-dfe2-4343-9dac-0e4a06e862fe\",\"type\":\"BasicTickFormatter\"},\"major_label_overrides\":{\"0.5\":\"_EOS_\",\"1.5\":\".\",\"10.5\":\"car\",\"11.5\":\"arrange\",\"12.5\":\"also\",\"13.5\":\"can\",\"14.5\":\"guests\",\"15.5\":\"_BOS_\",\"2.5\":\"parking\",\"3.5\":\"free\",\"4.5\":\"and\",\"5.5\":\"parking\",\"6.5\":\"free\",\"7.5\":\",\",\"8.5\":\"services\",\"9.5\":\"rental\"},\"plot\":{\"id\":\"67da8d7f-d2e4-4ce7-bed1-fc71f9b4d46c\",\"subtype\":\"Figure\",\"type\":\"Plot\"},\"ticker\":{\"id\":\"29019212-8daa-4140-9138-43314e8e226b\",\"type\":\"FixedTicker\"}},\"id\":\"09756ecc-9364-4208-8892-a22c317e4272\",\"type\":\"LinearAxis\"},{\"attributes\":{},\"id\":\"4be30ccf-dfe2-4343-9dac-0e4a06e862fe\",\"type\":\"BasicTickFormatter\"},{\"attributes\":{\"data_source\":{\"id\":\"9ec2a3aa-f608-4ee9-8fa1-403eac9cb711\",\"type\":\"ColumnDataSource\"},\"glyph\":{\"id\":\"2bc01d28-96a2-4d4f-b589-83dd955c96ba\",\"type\":\"Image\"},\"hover_glyph\":null,\"muted_glyph\":null,\"nonselection_glyph\":{\"id\":\"34539ce2-4030-44ba-9774-cb89357ddf5a\",\"type\":\"Image\"},\"selection_glyph\":null,\"view\":{\"id\":\"f2302282-ae5b-454d-bbbb-6ea045058b5b\",\"type\":\"CDSView\"}},\"id\":\"fb01720a-5138-4c2c-b771-66da8d7d94ee\",\"type\":\"GlyphRenderer\"},{\"attributes\":{\"ticks\":[0.5,1.5,2.5,3.5,4.5,5.5,6.5,7.5,8.5,9.5,10.5,11.5,12.5,13.5,14.5]},\"id\":\"76687add-2f51-4de3-8343-81937126e495\",\"type\":\"FixedTicker\"},{\"attributes\":{\"source\":{\"id\":\"9ec2a3aa-f608-4ee9-8fa1-403eac9cb711\",\"type\":\"ColumnDataSource\"}},\"id\":\"f2302282-ae5b-454d-bbbb-6ea045058b5b\",\"type\":\"CDSView\"},{\"attributes\":{\"axis_label\":\"source tokens\",\"formatter\":{\"id\":\"1645e0e7-230b-4a9c-a37e-7450412f672e\",\"type\":\"BasicTickFormatter\"},\"major_label_orientation\":45,\"major_label_overrides\":{\"0.5\":\"_BOS_\",\"1.5\":\"\\u043a\\u0440\\u043e\\u043c\\u0435\",\"10.5\":\"\\u0438\",\"11.5\":\"\\u0431\\u0435\\u0441\\u043f\\u043b\\u0430\\u0442\\u043d\\u0430\\u044f\",\"12.5\":\"\\u043f\\u0430\\u0440\\u043a\\u043e\\u0432\\u043a\\u0430\",\"13.5\":\".\",\"14.5\":\"_EOS_\",\"2.5\":\"\\u0442\\u043e\\u0433\\u043e\",\"3.5\":\",\",\"4.5\":\"\\u043f\\u0440\\u0435\\u0434\\u043e\\u0441\\u0442\\u0430\\u0432\\u043b\\u044f\\u0435\\u0442\\u0441\\u044f\",\"5.5\":\"\\u043f\\u0440\\u043e\\u043a\\u0430\\u0442\",\"6.5\":\"\\u0432\\u0435\\u043b\\u043e\\u0441\\u0438\\u043f\\u0435\\u0434\\u043e\\u0432\",\"7.5\":\",\",\"8.5\":\"\\u0443\\u0441\\u043b\\u0443\\u0433\\u0438\",\"9.5\":\"\\u0442\\u0440\\u0430\\u043d\\u0441\\u0444\\u0435\\u0440\\u0430\"},\"plot\":{\"id\":\"67da8d7f-d2e4-4ce7-bed1-fc71f9b4d46c\",\"subtype\":\"Figure\",\"type\":\"Plot\"},\"ticker\":{\"id\":\"76687add-2f51-4de3-8343-81937126e495\",\"type\":\"FixedTicker\"}},\"id\":\"7f6d39ff-b20b-49dd-b5cc-411801a034d6\",\"type\":\"LinearAxis\"},{\"attributes\":{},\"id\":\"1645e0e7-230b-4a9c-a37e-7450412f672e\",\"type\":\"BasicTickFormatter\"},{\"attributes\":{},\"id\":\"f1b10cd3-931b-48ea-8aca-6734db81da2c\",\"type\":\"UnionRenderers\"},{\"attributes\":{\"callback\":null,\"end\":16},\"id\":\"dd75ca74-1020-43dc-9735-99320505f7cf\",\"type\":\"Range1d\"},{\"attributes\":{\"palette\":[\"#000000\",\"#252525\",\"#525252\",\"#737373\",\"#969696\",\"#bdbdbd\",\"#d9d9d9\",\"#f0f0f0\",\"#ffffff\"]},\"id\":\"5aa25cc6-877f-482e-83a5-befa1d811228\",\"type\":\"LinearColorMapper\"},{\"attributes\":{\"above\":[{\"id\":\"7f6d39ff-b20b-49dd-b5cc-411801a034d6\",\"type\":\"LinearAxis\"}],\"left\":[{\"id\":\"09756ecc-9364-4208-8892-a22c317e4272\",\"type\":\"LinearAxis\"}],\"renderers\":[{\"id\":\"fb01720a-5138-4c2c-b771-66da8d7d94ee\",\"type\":\"GlyphRenderer\"},{\"id\":\"7f6d39ff-b20b-49dd-b5cc-411801a034d6\",\"type\":\"LinearAxis\"},{\"id\":\"09756ecc-9364-4208-8892-a22c317e4272\",\"type\":\"LinearAxis\"}],\"title\":{\"id\":\"49487a9c-abba-4c1f-b31a-71b54fa568f8\",\"type\":\"Title\"},\"toolbar\":{\"id\":\"341ef5fc-a645-4ac1-acd6-3785ac0fd803\",\"type\":\"Toolbar\"},\"x_range\":{\"id\":\"78f1d4dc-2a61-4e0e-bc75-1bdb8e0b1e82\",\"type\":\"Range1d\"},\"x_scale\":{\"id\":\"b5c2f3d2-8edd-4277-b646-bc8c77cc7df7\",\"type\":\"LinearScale\"},\"y_range\":{\"id\":\"dd75ca74-1020-43dc-9735-99320505f7cf\",\"type\":\"Range1d\"},\"y_scale\":{\"id\":\"7b8d59d7-66d5-4b88-bb49-827109f92970\",\"type\":\"LinearScale\"}},\"id\":\"67da8d7f-d2e4-4ce7-bed1-fc71f9b4d46c\",\"subtype\":\"Figure\",\"type\":\"Plot\"},{\"attributes\":{},\"id\":\"b5c2f3d2-8edd-4277-b646-bc8c77cc7df7\",\"type\":\"LinearScale\"},{\"attributes\":{\"color_mapper\":{\"id\":\"5aa25cc6-877f-482e-83a5-befa1d811228\",\"type\":\"LinearColorMapper\"},\"dh\":{\"units\":\"data\",\"value\":16},\"dw\":{\"units\":\"data\",\"value\":15},\"image\":{\"field\":\"image\"},\"x\":{\"value\":0},\"y\":{\"value\":0}},\"id\":\"34539ce2-4030-44ba-9774-cb89357ddf5a\",\"type\":\"Image\"},{\"attributes\":{\"ticks\":[0.5,1.5,2.5,3.5,4.5,5.5,6.5,7.5,8.5,9.5,10.5,11.5,12.5,13.5,14.5,15.5]},\"id\":\"29019212-8daa-4140-9138-43314e8e226b\",\"type\":\"FixedTicker\"},{\"attributes\":{\"palette\":[\"#000000\",\"#252525\",\"#525252\",\"#737373\",\"#969696\",\"#bdbdbd\",\"#d9d9d9\",\"#f0f0f0\",\"#ffffff\"]},\"id\":\"b5631a39-3187-48ce-9fc7-07c9c7fbff8d\",\"type\":\"LinearColorMapper\"}],\"root_ids\":[\"67da8d7f-d2e4-4ce7-bed1-fc71f9b4d46c\"]},\"title\":\"Bokeh Application\",\"version\":\"0.13.0\"}};\n",
       "  var render_items = [{\"docid\":\"dc03e45e-fa7b-47e9-b1ec-bf7672f8a3d1\",\"roots\":{\"67da8d7f-d2e4-4ce7-bed1-fc71f9b4d46c\":\"8c5abb4e-aef9-41de-8726-7b38b6392dc8\"}}];\n",
       "  root.Bokeh.embed.embed_items_notebook(docs_json, render_items);\n",
       "\n",
       "  }\n",
       "  if (root.Bokeh !== undefined) {\n",
       "    embed_document(root);\n",
       "  } else {\n",
       "    var attempts = 0;\n",
       "    var timer = setInterval(function(root) {\n",
       "      if (root.Bokeh !== undefined) {\n",
       "        embed_document(root);\n",
       "        clearInterval(timer);\n",
       "      }\n",
       "      attempts++;\n",
       "      if (attempts > 100) {\n",
       "        console.log(\"Bokeh: ERROR: Unable to run BokehJS code because BokehJS library is missing\")\n",
       "        clearInterval(timer);\n",
       "      }\n",
       "    }, 10, root)\n",
       "  }\n",
       "})(window);"
      ],
      "application/vnd.bokehjs_exec.v0+json": ""
     },
     "metadata": {
      "application/vnd.bokehjs_exec.v0+json": {
       "id": "67da8d7f-d2e4-4ce7-bed1-fc71f9b4d46c"
      }
     },
     "output_type": "display_data"
    },
    {
     "data": {
      "text/html": [
       "\n",
       "\n",
       "\n",
       "\n",
       "\n",
       "\n",
       "  <div class=\"bk-root\" id=\"699f26ca-c57e-4181-8dad-0d659d2fbea1\"></div>\n"
      ]
     },
     "metadata": {},
     "output_type": "display_data"
    },
    {
     "data": {
      "application/javascript": [
       "(function(root) {\n",
       "  function embed_document(root) {\n",
       "    \n",
       "  var docs_json = {\"1b421f98-6608-4492-aa72-f403566675c1\":{\"roots\":{\"references\":[{\"attributes\":{\"callback\":null,\"end\":11},\"id\":\"6a85f242-5e8a-4748-9057-f473ae06213e\",\"type\":\"Range1d\"},{\"attributes\":{\"axis_label\":\"source tokens\",\"formatter\":{\"id\":\"2ce8dcb8-fd52-4093-81bb-50deeb17fe7d\",\"type\":\"BasicTickFormatter\"},\"major_label_orientation\":45,\"major_label_overrides\":{\"0.5\":\"_BOS_\",\"1.5\":\"\\u0440\\u0430\\u0441\\u0441\\u0442\\u043e\\u044f\\u043d\\u0438\\u0435\",\"10.5\":\"\\u043a\\u043c\",\"11.5\":\".\",\"12.5\":\"_EOS_\",\"2.5\":\"\\u0434\\u043e\",\"3.5\":\"\\u0433\\u043e\\u0440\\u043e\\u0434\\u0430\",\"4.5\":\"\\u043a\\u0438@@\",\"5.5\":\"\\u0441\\u0441\\u0438@@\",\"6.5\":\"\\u043c@@\",\"7.5\":\"\\u043c\\u0438\",\"8.5\":\"\\u0441\\u043e\\u0441\\u0442\\u0430\\u0432\\u043b\\u044f\\u0435\\u0442\",\"9.5\":\"26\"},\"plot\":{\"id\":\"518e7984-80d0-48e0-8e84-e668db6ad935\",\"subtype\":\"Figure\",\"type\":\"Plot\"},\"ticker\":{\"id\":\"d1351d5d-8d2d-428b-9b30-9b51e833222c\",\"type\":\"FixedTicker\"}},\"id\":\"56d91cdd-4478-4c1f-9624-bf7b2a3c9303\",\"type\":\"LinearAxis\"},{\"attributes\":{\"color_mapper\":{\"id\":\"48f523ca-7c0a-4c74-83ac-344d4b4ef677\",\"type\":\"LinearColorMapper\"},\"dh\":{\"units\":\"data\",\"value\":11},\"dw\":{\"units\":\"data\",\"value\":13},\"image\":{\"field\":\"image\"},\"x\":{\"value\":0},\"y\":{\"value\":0}},\"id\":\"a550dbf6-4f8e-4b97-a8fd-2202b7ad203d\",\"type\":\"Image\"},{\"attributes\":{\"palette\":[\"#000000\",\"#252525\",\"#525252\",\"#737373\",\"#969696\",\"#bdbdbd\",\"#d9d9d9\",\"#f0f0f0\",\"#ffffff\"]},\"id\":\"f95f65ef-77eb-4757-938a-f83474afaa0f\",\"type\":\"LinearColorMapper\"},{\"attributes\":{},\"id\":\"b2611933-98aa-4bbf-8be5-d9ca54e787fd\",\"type\":\"Selection\"},{\"attributes\":{\"palette\":[\"#000000\",\"#252525\",\"#525252\",\"#737373\",\"#969696\",\"#bdbdbd\",\"#d9d9d9\",\"#f0f0f0\",\"#ffffff\"]},\"id\":\"48f523ca-7c0a-4c74-83ac-344d4b4ef677\",\"type\":\"LinearColorMapper\"},{\"attributes\":{\"plot\":null,\"text\":\"\"},\"id\":\"4cf44e6e-0951-4a72-a0cb-02645e2d9dec\",\"type\":\"Title\"},{\"attributes\":{\"source\":{\"id\":\"24cec90d-2cbc-497e-aaa4-6d429a560867\",\"type\":\"ColumnDataSource\"}},\"id\":\"cc5ce21f-e091-41aa-a61e-d848e168522d\",\"type\":\"CDSView\"},{\"attributes\":{},\"id\":\"59564a30-5309-4552-bc58-5895b82ba114\",\"type\":\"LinearScale\"},{\"attributes\":{\"ticks\":[0.5,1.5,2.5,3.5,4.5,5.5,6.5,7.5,8.5,9.5,10.5,11.5,12.5]},\"id\":\"d1351d5d-8d2d-428b-9b30-9b51e833222c\",\"type\":\"FixedTicker\"},{\"attributes\":{\"data_source\":{\"id\":\"24cec90d-2cbc-497e-aaa4-6d429a560867\",\"type\":\"ColumnDataSource\"},\"glyph\":{\"id\":\"3dfce6f6-4c7b-426d-af32-afa385af17f4\",\"type\":\"Image\"},\"hover_glyph\":null,\"muted_glyph\":null,\"nonselection_glyph\":{\"id\":\"a550dbf6-4f8e-4b97-a8fd-2202b7ad203d\",\"type\":\"Image\"},\"selection_glyph\":null,\"view\":{\"id\":\"cc5ce21f-e091-41aa-a61e-d848e168522d\",\"type\":\"CDSView\"}},\"id\":\"68883041-e499-4b88-856f-919ef4d74f92\",\"type\":\"GlyphRenderer\"},{\"attributes\":{},\"id\":\"34d5b2a2-b704-42a8-b919-8fde59d1db78\",\"type\":\"UnionRenderers\"},{\"attributes\":{\"active_drag\":\"auto\",\"active_inspect\":\"auto\",\"active_multi\":null,\"active_scroll\":\"auto\",\"active_tap\":\"auto\"},\"id\":\"84405783-8884-45e0-8ceb-851c83da18cc\",\"type\":\"Toolbar\"},{\"attributes\":{},\"id\":\"2ce8dcb8-fd52-4093-81bb-50deeb17fe7d\",\"type\":\"BasicTickFormatter\"},{\"attributes\":{\"callback\":null,\"data\":{\"image\":[{\"__ndarray__\":\"w5hePqDVHT78j2c+RBIBPiyuujwUZhc88phuPJfEUDwAilE8G02PPSH1oz2FXJ08ISAPPYaqKDwovic8HdpLPbnbsD0PzX09bbwCPXT97D3lgMo9+E1mPq24ujyZ96k9YOE7PVUaIj4D/mw6E5zWOpYNgj0Jfyg+FyePPEoRXDy9WHI9v8K8O2iAPDvGuVA6xbo1O6yZpT3PFRY/xfABPjtRsz2EuCQ+CevPPT6/jzse2x87uULzPMdqoDstYkA8CKgFPSYJET5Imsg9EolKPtZ2lDwz0SM8BlYiPLsoFT1qKq07QlNWOj3f5jvRQKw7SQImPH/iuj4DSfE+U7bQPKh3ED2tBz087JXwO749DDzLf1g8tcYFPKvEPDuirHg8vWrMOz2wTju8cxY/9UGRPhqAWTwi7x89f3YlPI4yojuWUCM8xWiAPImAtDtzAEY6qgC8OllO0TqZnvA6C4ciP+Nwmj45P6A7lOLdO20GtDyj1mc8z2RFPQYAAj2Em2w7jKNDO1LENT0kLhw9IcFAPIKNIT+shgo+LoiUO4zfRzwQsrc7k+ZrO3/rhDx2HMc7VAGLO6cXMTvXyyk9nxKFPan8hj0nL7c+d9rSPmL4GDx0Kyg845XLO4xwxzsFHg48JtoVPRyNRj6xc6M+ZSA8Pi3ULz7KfW89UFCyOzp3pjoz/T475m+9O+OVyzuMcMc7BR4OPCbaFT0cjUY+sXOjPmUgPD4t1C8+yn1vPVBQsjs6d6Y6M/0+O+ZvvTs=\",\"dtype\":\"float32\",\"shape\":[11,13]}]},\"selected\":{\"id\":\"b2611933-98aa-4bbf-8be5-d9ca54e787fd\",\"type\":\"Selection\"},\"selection_policy\":{\"id\":\"34d5b2a2-b704-42a8-b919-8fde59d1db78\",\"type\":\"UnionRenderers\"}},\"id\":\"24cec90d-2cbc-497e-aaa4-6d429a560867\",\"type\":\"ColumnDataSource\"},{\"attributes\":{\"ticks\":[0.5,1.5,2.5,3.5,4.5,5.5,6.5,7.5,8.5,9.5,10.5]},\"id\":\"4fc01006-c1f8-49be-bbad-5272a5633e58\",\"type\":\"FixedTicker\"},{\"attributes\":{\"color_mapper\":{\"id\":\"f95f65ef-77eb-4757-938a-f83474afaa0f\",\"type\":\"LinearColorMapper\"},\"dh\":{\"units\":\"data\",\"value\":11},\"dw\":{\"units\":\"data\",\"value\":13},\"image\":{\"field\":\"image\"},\"x\":{\"value\":0},\"y\":{\"value\":0}},\"id\":\"3dfce6f6-4c7b-426d-af32-afa385af17f4\",\"type\":\"Image\"},{\"attributes\":{\"callback\":null,\"end\":13},\"id\":\"bb81be0d-50d2-4d56-8e05-0f34a7c15f23\",\"type\":\"Range1d\"},{\"attributes\":{},\"id\":\"56aecdc1-2d73-450c-ab39-e0aa27ab8e7a\",\"type\":\"BasicTickFormatter\"},{\"attributes\":{\"above\":[{\"id\":\"56d91cdd-4478-4c1f-9624-bf7b2a3c9303\",\"type\":\"LinearAxis\"}],\"left\":[{\"id\":\"ce8f3af6-60fe-4835-a60d-75e019275652\",\"type\":\"LinearAxis\"}],\"renderers\":[{\"id\":\"68883041-e499-4b88-856f-919ef4d74f92\",\"type\":\"GlyphRenderer\"},{\"id\":\"56d91cdd-4478-4c1f-9624-bf7b2a3c9303\",\"type\":\"LinearAxis\"},{\"id\":\"ce8f3af6-60fe-4835-a60d-75e019275652\",\"type\":\"LinearAxis\"}],\"title\":{\"id\":\"4cf44e6e-0951-4a72-a0cb-02645e2d9dec\",\"type\":\"Title\"},\"toolbar\":{\"id\":\"84405783-8884-45e0-8ceb-851c83da18cc\",\"type\":\"Toolbar\"},\"x_range\":{\"id\":\"bb81be0d-50d2-4d56-8e05-0f34a7c15f23\",\"type\":\"Range1d\"},\"x_scale\":{\"id\":\"14ceddb0-c403-4b7d-9ada-2e13da85f56e\",\"type\":\"LinearScale\"},\"y_range\":{\"id\":\"6a85f242-5e8a-4748-9057-f473ae06213e\",\"type\":\"Range1d\"},\"y_scale\":{\"id\":\"59564a30-5309-4552-bc58-5895b82ba114\",\"type\":\"LinearScale\"}},\"id\":\"518e7984-80d0-48e0-8e84-e668db6ad935\",\"subtype\":\"Figure\",\"type\":\"Plot\"},{\"attributes\":{\"axis_label\":\"translation tokens\",\"formatter\":{\"id\":\"56aecdc1-2d73-450c-ab39-e0aa27ab8e7a\",\"type\":\"BasicTickFormatter\"},\"major_label_overrides\":{\"0.5\":\"_EOS_\",\"1.5\":\".\",\"10.5\":\"_BOS_\",\"2.5\":\"away\",\"3.5\":\"km\",\"4.5\":\"26\",\"5.5\":\"is\",\"6.5\":\"26\",\"7.5\":\"nad\",\"8.5\":\"no\",\"9.5\":\"lip@@\"},\"plot\":{\"id\":\"518e7984-80d0-48e0-8e84-e668db6ad935\",\"subtype\":\"Figure\",\"type\":\"Plot\"},\"ticker\":{\"id\":\"4fc01006-c1f8-49be-bbad-5272a5633e58\",\"type\":\"FixedTicker\"}},\"id\":\"ce8f3af6-60fe-4835-a60d-75e019275652\",\"type\":\"LinearAxis\"},{\"attributes\":{},\"id\":\"14ceddb0-c403-4b7d-9ada-2e13da85f56e\",\"type\":\"LinearScale\"}],\"root_ids\":[\"518e7984-80d0-48e0-8e84-e668db6ad935\"]},\"title\":\"Bokeh Application\",\"version\":\"0.13.0\"}};\n",
       "  var render_items = [{\"docid\":\"1b421f98-6608-4492-aa72-f403566675c1\",\"roots\":{\"518e7984-80d0-48e0-8e84-e668db6ad935\":\"699f26ca-c57e-4181-8dad-0d659d2fbea1\"}}];\n",
       "  root.Bokeh.embed.embed_items_notebook(docs_json, render_items);\n",
       "\n",
       "  }\n",
       "  if (root.Bokeh !== undefined) {\n",
       "    embed_document(root);\n",
       "  } else {\n",
       "    var attempts = 0;\n",
       "    var timer = setInterval(function(root) {\n",
       "      if (root.Bokeh !== undefined) {\n",
       "        embed_document(root);\n",
       "        clearInterval(timer);\n",
       "      }\n",
       "      attempts++;\n",
       "      if (attempts > 100) {\n",
       "        console.log(\"Bokeh: ERROR: Unable to run BokehJS code because BokehJS library is missing\")\n",
       "        clearInterval(timer);\n",
       "      }\n",
       "    }, 10, root)\n",
       "  }\n",
       "})(window);"
      ],
      "application/vnd.bokehjs_exec.v0+json": ""
     },
     "metadata": {
      "application/vnd.bokehjs_exec.v0+json": {
       "id": "518e7984-80d0-48e0-8e84-e668db6ad935"
      }
     },
     "output_type": "display_data"
    },
    {
     "data": {
      "text/html": [
       "\n",
       "\n",
       "\n",
       "\n",
       "\n",
       "\n",
       "  <div class=\"bk-root\" id=\"e0ae3fcf-b93b-48e9-bbcc-ec769c0491f3\"></div>\n"
      ]
     },
     "metadata": {},
     "output_type": "display_data"
    },
    {
     "data": {
      "application/javascript": [
       "(function(root) {\n",
       "  function embed_document(root) {\n",
       "    \n",
       "  var docs_json = {\"1b781351-0ddf-4e21-96c4-12099abf922d\":{\"roots\":{\"references\":[{\"attributes\":{\"ticks\":[0.5,1.5,2.5,3.5,4.5,5.5,6.5,7.5,8.5,9.5,10.5,11.5,12.5,13.5,14.5,15.5,16.5,17.5,18.5,19.5,20.5,21.5,22.5,23.5,24.5,25.5,26.5,27.5,28.5,29.5,30.5,31.5]},\"id\":\"800391d0-8f49-4444-9be6-8f5b159d270c\",\"type\":\"FixedTicker\"},{\"attributes\":{\"source\":{\"id\":\"156c3195-8320-4908-8083-e3d6520d2acc\",\"type\":\"ColumnDataSource\"}},\"id\":\"415ded5a-b01a-4f69-89e3-ab590032d658\",\"type\":\"CDSView\"},{\"attributes\":{\"active_drag\":\"auto\",\"active_inspect\":\"auto\",\"active_multi\":null,\"active_scroll\":\"auto\",\"active_tap\":\"auto\"},\"id\":\"fadbebfc-3bc3-4793-9255-872d1f9eb408\",\"type\":\"Toolbar\"},{\"attributes\":{},\"id\":\"1d9cb16a-3726-496f-add5-ec726aea3ceb\",\"type\":\"BasicTickFormatter\"},{\"attributes\":{\"palette\":[\"#000000\",\"#252525\",\"#525252\",\"#737373\",\"#969696\",\"#bdbdbd\",\"#d9d9d9\",\"#f0f0f0\",\"#ffffff\"]},\"id\":\"0ef0fd85-aaf4-4473-8c5b-1aa12083e65c\",\"type\":\"LinearColorMapper\"},{\"attributes\":{},\"id\":\"287e2c25-f50e-4674-9223-09a0723ec278\",\"type\":\"LinearScale\"},{\"attributes\":{\"ticks\":[0.5,1.5,2.5,3.5,4.5,5.5,6.5,7.5,8.5,9.5,10.5,11.5,12.5,13.5,14.5,15.5,16.5,17.5,18.5,19.5,20.5,21.5,22.5,23.5,24.5,25.5,26.5,27.5,28.5,29.5,30.5,31.5,32.5,33.5,34.5,35.5,36.5,37.5,38.5,39.5,40.5,41.5,42.5,43.5]},\"id\":\"1965c036-9b36-4e3b-94a1-eb2e00b35362\",\"type\":\"FixedTicker\"},{\"attributes\":{\"data_source\":{\"id\":\"156c3195-8320-4908-8083-e3d6520d2acc\",\"type\":\"ColumnDataSource\"},\"glyph\":{\"id\":\"90aa394f-4174-40e1-adb7-fef87713cbde\",\"type\":\"Image\"},\"hover_glyph\":null,\"muted_glyph\":null,\"nonselection_glyph\":{\"id\":\"944058d5-8556-4f56-9c05-cf770aaada18\",\"type\":\"Image\"},\"selection_glyph\":null,\"view\":{\"id\":\"415ded5a-b01a-4f69-89e3-ab590032d658\",\"type\":\"CDSView\"}},\"id\":\"b5379f42-7e3a-4cd9-80a2-6b73a4a9d895\",\"type\":\"GlyphRenderer\"},{\"attributes\":{\"callback\":null,\"end\":32},\"id\":\"dad0608f-856a-43c6-b8a3-f47eea21f712\",\"type\":\"Range1d\"},{\"attributes\":{},\"id\":\"e448d2b3-749e-497e-9dad-22d2210078cb\",\"type\":\"Selection\"},{\"attributes\":{\"color_mapper\":{\"id\":\"0ef0fd85-aaf4-4473-8c5b-1aa12083e65c\",\"type\":\"LinearColorMapper\"},\"dh\":{\"units\":\"data\",\"value\":44},\"dw\":{\"units\":\"data\",\"value\":32},\"image\":{\"field\":\"image\"},\"x\":{\"value\":0},\"y\":{\"value\":0}},\"id\":\"90aa394f-4174-40e1-adb7-fef87713cbde\",\"type\":\"Image\"},{\"attributes\":{\"callback\":null,\"data\":{\"image\":[{\"__ndarray__\":\"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\",\"dtype\":\"float32\",\"shape\":[44,32]}]},\"selected\":{\"id\":\"e448d2b3-749e-497e-9dad-22d2210078cb\",\"type\":\"Selection\"},\"selection_policy\":{\"id\":\"f49b124c-382a-4c01-bc18-6adaab320a7b\",\"type\":\"UnionRenderers\"}},\"id\":\"156c3195-8320-4908-8083-e3d6520d2acc\",\"type\":\"ColumnDataSource\"},{\"attributes\":{\"above\":[{\"id\":\"038c2312-6879-41f1-a14b-1ed30441beec\",\"type\":\"LinearAxis\"}],\"left\":[{\"id\":\"af77c11f-da94-470b-b2bb-f7a261e3d271\",\"type\":\"LinearAxis\"}],\"renderers\":[{\"id\":\"b5379f42-7e3a-4cd9-80a2-6b73a4a9d895\",\"type\":\"GlyphRenderer\"},{\"id\":\"038c2312-6879-41f1-a14b-1ed30441beec\",\"type\":\"LinearAxis\"},{\"id\":\"af77c11f-da94-470b-b2bb-f7a261e3d271\",\"type\":\"LinearAxis\"}],\"title\":{\"id\":\"798f5a20-47b8-4df6-bb69-f8a49a30a824\",\"type\":\"Title\"},\"toolbar\":{\"id\":\"fadbebfc-3bc3-4793-9255-872d1f9eb408\",\"type\":\"Toolbar\"},\"x_range\":{\"id\":\"dad0608f-856a-43c6-b8a3-f47eea21f712\",\"type\":\"Range1d\"},\"x_scale\":{\"id\":\"287e2c25-f50e-4674-9223-09a0723ec278\",\"type\":\"LinearScale\"},\"y_range\":{\"id\":\"22fe3f7b-ede0-475b-93ab-5de06c0cf63c\",\"type\":\"Range1d\"},\"y_scale\":{\"id\":\"a7d534d8-bd72-4791-bb34-a2ba054faec1\",\"type\":\"LinearScale\"}},\"id\":\"280000eb-649a-415c-8988-59e4bfb222cb\",\"subtype\":\"Figure\",\"type\":\"Plot\"},{\"attributes\":{\"plot\":null,\"text\":\"\"},\"id\":\"798f5a20-47b8-4df6-bb69-f8a49a30a824\",\"type\":\"Title\"},{\"attributes\":{\"callback\":null,\"end\":44},\"id\":\"22fe3f7b-ede0-475b-93ab-5de06c0cf63c\",\"type\":\"Range1d\"},{\"attributes\":{},\"id\":\"3a1d1bd7-8252-43b6-866d-e2ec591f2795\",\"type\":\"BasicTickFormatter\"},{\"attributes\":{\"axis_label\":\"translation tokens\",\"formatter\":{\"id\":\"1d9cb16a-3726-496f-add5-ec726aea3ceb\",\"type\":\"BasicTickFormatter\"},\"major_label_overrides\":{\"0.5\":\"_EOS_\",\"1.5\":\".\",\"10.5\":\"-\",\"11.5\":\"5\",\"12.5\":\"a\",\"13.5\":\"is\",\"14.5\":\"ana\",\"15.5\":\"ban@@\",\"16.5\":\"in\",\"17.5\":\"beachfront\",\"18.5\":\"the\",\"19.5\":\",\",\"2.5\":\"marina\",\"20.5\":\"terrace\",\"21.5\":\"a\",\"22.5\":\"and\",\"23.5\":\"garden\",\"24.5\":\"a\",\"25.5\":\",\",\"26.5\":\"garden\",\"27.5\":\"private\",\"28.5\":\"a\",\"29.5\":\"with\",\"3.5\":\"the\",\"30.5\":\"apartment\",\"31.5\":\"bedroom\",\"32.5\":\"-\",\"33.5\":\"2\",\"34.5\":\"a\",\"35.5\":\"on\",\"36.5\":\"apartment\",\"37.5\":\",\",\"38.5\":\"area\",\"39.5\":\"residential\",\"4.5\":\"in\",\"40.5\":\"a\",\"41.5\":\"in\",\"42.5\":\"located\",\"43.5\":\"_BOS_\",\"5.5\":\"beach\",\"6.5\":\"the\",\"7.5\":\"from\",\"8.5\":\"walk\",\"9.5\":\"minute\"},\"plot\":{\"id\":\"280000eb-649a-415c-8988-59e4bfb222cb\",\"subtype\":\"Figure\",\"type\":\"Plot\"},\"ticker\":{\"id\":\"1965c036-9b36-4e3b-94a1-eb2e00b35362\",\"type\":\"FixedTicker\"}},\"id\":\"af77c11f-da94-470b-b2bb-f7a261e3d271\",\"type\":\"LinearAxis\"},{\"attributes\":{\"palette\":[\"#000000\",\"#252525\",\"#525252\",\"#737373\",\"#969696\",\"#bdbdbd\",\"#d9d9d9\",\"#f0f0f0\",\"#ffffff\"]},\"id\":\"1730db28-ea13-4291-9172-62c1d587be42\",\"type\":\"LinearColorMapper\"},{\"attributes\":{},\"id\":\"a7d534d8-bd72-4791-bb34-a2ba054faec1\",\"type\":\"LinearScale\"},{\"attributes\":{\"color_mapper\":{\"id\":\"1730db28-ea13-4291-9172-62c1d587be42\",\"type\":\"LinearColorMapper\"},\"dh\":{\"units\":\"data\",\"value\":44},\"dw\":{\"units\":\"data\",\"value\":32},\"image\":{\"field\":\"image\"},\"x\":{\"value\":0},\"y\":{\"value\":0}},\"id\":\"944058d5-8556-4f56-9c05-cf770aaada18\",\"type\":\"Image\"},{\"attributes\":{\"axis_label\":\"source tokens\",\"formatter\":{\"id\":\"3a1d1bd7-8252-43b6-866d-e2ec591f2795\",\"type\":\"BasicTickFormatter\"},\"major_label_orientation\":45,\"major_label_overrides\":{\"0.5\":\"_BOS_\",\"1.5\":\"\\u0430\\u043f\\u0430\\u0440\\u0442\\u0430\\u043c\\u0435\\u043d\\u0442\\u044b\",\"10.5\":\"\\u0441\\u0430\\u0434\\u043e\\u043c\",\"11.5\":\",\",\"12.5\":\"\\u043a\\u043e\\u043d\\u0434\\u0438\\u0446\\u0438\\u043e\\u043d\\u0435\\u0440\\u043e\\u043c\",\"13.5\":\"\\u0438\",\"14.5\":\"\\u0442\\u0435\\u0440\\u0440\\u0430\\u0441\\u043e\\u0439\",\"15.5\":\"\\u0434\\u043b\\u044f\",\"16.5\":\"\\u0437\\u0430\\u0433\\u0430\\u0440\\u0430\",\"17.5\":\"\\u0440\\u0430\\u0441\\u043f\\u043e\\u043b\\u043e\\u0436\\u0435\\u043d\\u044b\",\"18.5\":\"\\u0432\",\"19.5\":\"5\",\"2.5\":\"\\u0432\",\"20.5\":\"\\u043c\\u0438\\u043d\\u0443\\u0442\\u0430\\u0445\",\"21.5\":\"\\u0445\\u043e\\u0434\\u044c\\u0431\\u044b\",\"22.5\":\"\\u043e\\u0442\",\"23.5\":\"\\u043f\\u043b\\u044f\\u0436\\u0430\",\"24.5\":\"\\u043d\\u0430\",\"25.5\":\"\\u043a\\u0443\\u0440\\u043e\\u0440\\u0442\\u0435\",\"26.5\":\"\\u043a\\u0430@@\",\"27.5\":\"\\u0431\\u043e\",\"28.5\":\"-\",\"29.5\":\"\\u0440\\u043e\\u0439\",\"3.5\":\"\\u043f\\u0435\\u043d\\u0442@@\",\"30.5\":\".\",\"31.5\":\"_EOS_\",\"4.5\":\"\\u0445\\u0430\\u0443\\u0441\\u0435\",\"5.5\":\"\\u0441\",\"6.5\":\"\\u043e\\u0431\\u0449\\u0438\\u043c\",\"7.5\":\"\\u043e\\u0442\\u043a\\u0440\\u044b\\u0442\\u044b\\u043c\",\"8.5\":\"\\u0431\\u0430\\u0441\\u0441\\u0435\\u0439\\u043d\\u043e\\u043c\",\"9.5\":\",\"},\"plot\":{\"id\":\"280000eb-649a-415c-8988-59e4bfb222cb\",\"subtype\":\"Figure\",\"type\":\"Plot\"},\"ticker\":{\"id\":\"800391d0-8f49-4444-9be6-8f5b159d270c\",\"type\":\"FixedTicker\"}},\"id\":\"038c2312-6879-41f1-a14b-1ed30441beec\",\"type\":\"LinearAxis\"},{\"attributes\":{},\"id\":\"f49b124c-382a-4c01-bc18-6adaab320a7b\",\"type\":\"UnionRenderers\"}],\"root_ids\":[\"280000eb-649a-415c-8988-59e4bfb222cb\"]},\"title\":\"Bokeh Application\",\"version\":\"0.13.0\"}};\n",
       "  var render_items = [{\"docid\":\"1b781351-0ddf-4e21-96c4-12099abf922d\",\"roots\":{\"280000eb-649a-415c-8988-59e4bfb222cb\":\"e0ae3fcf-b93b-48e9-bbcc-ec769c0491f3\"}}];\n",
       "  root.Bokeh.embed.embed_items_notebook(docs_json, render_items);\n",
       "\n",
       "  }\n",
       "  if (root.Bokeh !== undefined) {\n",
       "    embed_document(root);\n",
       "  } else {\n",
       "    var attempts = 0;\n",
       "    var timer = setInterval(function(root) {\n",
       "      if (root.Bokeh !== undefined) {\n",
       "        embed_document(root);\n",
       "        clearInterval(timer);\n",
       "      }\n",
       "      attempts++;\n",
       "      if (attempts > 100) {\n",
       "        console.log(\"Bokeh: ERROR: Unable to run BokehJS code because BokehJS library is missing\")\n",
       "        clearInterval(timer);\n",
       "      }\n",
       "    }, 10, root)\n",
       "  }\n",
       "})(window);"
      ],
      "application/vnd.bokehjs_exec.v0+json": ""
     },
     "metadata": {
      "application/vnd.bokehjs_exec.v0+json": {
       "id": "280000eb-649a-415c-8988-59e4bfb222cb"
      }
     },
     "output_type": "display_data"
    },
    {
     "data": {
      "text/html": [
       "\n",
       "\n",
       "\n",
       "\n",
       "\n",
       "\n",
       "  <div class=\"bk-root\" id=\"aa205f43-44a0-47cb-864f-9c40c20c3b21\"></div>\n"
      ]
     },
     "metadata": {},
     "output_type": "display_data"
    },
    {
     "data": {
      "application/javascript": [
       "(function(root) {\n",
       "  function embed_document(root) {\n",
       "    \n",
       "  var docs_json = {\"079e863f-7bf8-48ed-8b49-16c68a59b150\":{\"roots\":{\"references\":[{\"attributes\":{\"palette\":[\"#000000\",\"#252525\",\"#525252\",\"#737373\",\"#969696\",\"#bdbdbd\",\"#d9d9d9\",\"#f0f0f0\",\"#ffffff\"]},\"id\":\"b3f20916-233b-4022-a27e-d555468dd91d\",\"type\":\"LinearColorMapper\"},{\"attributes\":{\"above\":[{\"id\":\"86ec23d5-ed8f-4a58-a129-95288420332c\",\"type\":\"LinearAxis\"}],\"left\":[{\"id\":\"bfb5fbc6-e911-4065-8087-81179298aa38\",\"type\":\"LinearAxis\"}],\"renderers\":[{\"id\":\"5cd04853-202b-400a-a94e-a86d642cbe26\",\"type\":\"GlyphRenderer\"},{\"id\":\"86ec23d5-ed8f-4a58-a129-95288420332c\",\"type\":\"LinearAxis\"},{\"id\":\"bfb5fbc6-e911-4065-8087-81179298aa38\",\"type\":\"LinearAxis\"}],\"title\":{\"id\":\"39d05645-ebd0-44ce-99d0-7a963cc6e3cd\",\"type\":\"Title\"},\"toolbar\":{\"id\":\"ad03bd36-e93a-4d6e-aa42-d7f22f26f46b\",\"type\":\"Toolbar\"},\"x_range\":{\"id\":\"51075efb-530a-4b02-bb4d-eb32d59ddfcf\",\"type\":\"Range1d\"},\"x_scale\":{\"id\":\"cdf3668a-5e7d-40a0-9a35-3dc23da8896d\",\"type\":\"LinearScale\"},\"y_range\":{\"id\":\"ee9a9432-59bc-4666-9fba-16703e5cf7dc\",\"type\":\"Range1d\"},\"y_scale\":{\"id\":\"c52cc7d5-f0ab-4d92-aecf-5df4e9f3d512\",\"type\":\"LinearScale\"}},\"id\":\"9868769a-6c94-4afa-aaf3-07957f5fff00\",\"subtype\":\"Figure\",\"type\":\"Plot\"},{\"attributes\":{\"callback\":null,\"data\":{\"image\":[{\"__ndarray__\":\"GSOMPapz0zw6mkA8qxtAO1HjbjpEZOc6iG3JO7gGkzpi0Jw84YGNOiwOATxBsi88BovHOz2C3j3zFWg7LyTWO3ejrT7lGw8+DjKmO+hzvTwGxAA+GG+OPPPDiT2h3zI9O+MPPvnDBD5eu6U8vIUkPNQYtDzWGTc8nWUcPCbpbTy94PY7e1CLPdn48DzVgNU8K53bPI5RNjyZbTg9l1Q/PNm0OTw2IgE8gkjOOyMuZz7JiW09j36CPVDSlD0bP8w9KrJqOwMiUjpXDmY5ASVQO2BVwDsXQvw6Fs0DPPyKYjvMpkA87p2FO2BogzuSUw89VQgnPMfAizwQ1PA9J5fqPRiPrDvE3dI9ezZiPgclbj2Oyso9jS1vPpY/4z4qLcs8L/NKOxeFqzkjgPc6AJv2OzAnNTu5H5o8b+92O88HJDxPxgo7/kArOiuV1zsnXC46Z+MxO7G7Yz17Ofc8x5hTO7EHUjzYaqo9iXCEPC0IEj0UohE80IhQO8BQozlleNw5gM5eOR2kVzzyqMM7TsWEO/HBqDtILOc79KMjPNob6Tm3un06qqwaPFAZmDpIB4M8br4cPjUdqD29V6w8S3RbPO6Pyj6pOsQ9GDocPtyJJzvR2947Bc2YPOXvHjxGxRA7tolEPJGfmzzruqY7gLw+PShRbTwP5HE9bIq3O0gDPTscb3c9JZWHPA6q5Tubnu49ddGvPevDLTxWxo4+9HkbPjx97Tz74x49fqSAPRj7Sz3JSng8S/AdO1gkSDtL7s07BcSHPCvxjjvQYho9ni9+PLM50D523c88wbJ+O0UNPD0kK7A9c/sOPBhacT0FJxI9kmxqOk4TtTytTHU9fBEsPKYXsjy9Cps9qq+/PSwJij2/T4o73k2AOjgKWDsh5to8JVySOzI0/jxqUyE8EI3NPoTIAj5XE907fo46PYoAvjxBGYw73FwLPZN8VzwRktQ587OWO2BSezzCkB47+mB8O7lw+Tpa6Ts7f/6YO/XS4Tn+Vi86TX7YO814dz1RWCg8B+yGPhvrxjvoN/M97imgPXcWED0vNsM959nKPOb+YztKpQU+9DyvPU4D3zqT8Bc8CbQAPVrVTjxxMYE8d4PNOxroUTpuDWs6GLyZOfxO8zqYcPc7mzNuPalUczzzUOc+1wPPPE7Rjz1z8HY8E5dmPP4FBj4QhAo8agkSPBzcvj2QKh48T9CEOLxGIjye8T49edaxO2UUojyNRKY7rcNiOz981Tqg1gY7rP7vObIcFz0eiA4+FXM4PSNMuj3d/fw8yH4MPv5MjjusvZ069LTXO9Bk+DoHqxc6mgVLO29rWDvaOwE7tSvBPXlNqD79hLw82i4cPYN/SzoaOW460rwtOzeUCTx4M0483vVoPvjFBT7z4TM+bTQBPqFbzj3XMtk8RZaFOopEEzoVsNI7EZiYOnfAxzrABIA8ZaQyPOZjPju/IZE8IJ2tPeFBVDwMcgI9/v+JOuId9zqWHag7JAhaPEuLlDvs22M+K5HxPVes7Dxipj49XVVZPKmPjTwYt5s6ag/GOS6ZQDsS3T07S7uWOrMxODtz5jw7WbsHO8eplj6b9w4++o/WPCvrUT2WQus7VCvYPPEvCDzn2Lo70XguO2GKsjwFZA8+5eFBPRiJhT2eoSo9mhzjPVPoBjwSzNE6djnrPBJEvDy6Twk8Cxc6PXeEXz7dF6Q8g3y3PNckzD0DP3E8kqcEPYN/gDg3oxY5UikvO50vjjss7Rg8BRwOPYoL5D4Og+Y8chgjPuLJWD24vDA+vZLYPDHkVTsDyAY9WfZTO+gPBDoktyo8Uw8WPOqNLDmj4ho69lIlO2K6EjqX7Cw6dqzBOQsuODq9D5s7N4nMO/l9gjwOpXE9NzSZPnGSQT3J5JA9wTZGPShPqT5XrJo8iK0EO4mydT1kAaU7VuwCOy5DhDy80+Q7E7CSOU5rhDqjyD47an/tOb0FhTqmd6M7GYEePMkfmj01PYY9XS0GPGMIID2atiI9iljAO8t4xzzCkfg8n4/VPRDTBj6x4LA8eEFBPnrMGj0kTlk8+xIKPqlDNj0HDpM7L66/O9u6ezumpMw6+JOWO6Z3ozsZgR48yR+aPTU9hj1dLQY8YwggPZq2Ij2KWMA7y3jHPMKR+Dyfj9U9ENMGPrHgsDx4QUE+eswaPSROWTz7Ego+qUM2PQcOkzsvrr8727p7O6akzDr4k5Y7\",\"dtype\":\"float32\",\"shape\":[18,23]}]},\"selected\":{\"id\":\"fa91d2ef-a513-483c-ae0f-c0cc6ef2b89d\",\"type\":\"Selection\"},\"selection_policy\":{\"id\":\"3bbaef3d-7417-437d-92dd-477c21a6dbf0\",\"type\":\"UnionRenderers\"}},\"id\":\"33a84562-c922-4aab-909a-d7954cbcd297\",\"type\":\"ColumnDataSource\"},{\"attributes\":{},\"id\":\"3bbaef3d-7417-437d-92dd-477c21a6dbf0\",\"type\":\"UnionRenderers\"},{\"attributes\":{\"axis_label\":\"source tokens\",\"formatter\":{\"id\":\"bd890373-ecdc-435f-a0a8-c34f28d7e464\",\"type\":\"BasicTickFormatter\"},\"major_label_orientation\":45,\"major_label_overrides\":{\"0.5\":\"_BOS_\",\"1.5\":\"\\u0430\\u043f\\u0430\\u0440\\u0442\\u0430\\u043c\\u0435\\u043d\\u0442\\u044b\",\"10.5\":\"square\",\"11.5\":\"\\u043d\\u0430\\u0445\\u043e\\u0434\\u044f\\u0442\\u0441\\u044f\",\"12.5\":\"\\u0432\",\"13.5\":\"\\u043c\\u043e\\u0441\\u043a\\u0432\\u0435\",\"14.5\":\",\",\"15.5\":\"\\u0432\",\"16.5\":\"200\",\"17.5\":\"\\u043c\\u0435\\u0442\\u0440\\u0430\\u0445\",\"18.5\":\"\\u043e\\u0442\",\"19.5\":\"\\u0431\\u043e\\u043b\\u044c\\u0448\\u043e\\u0433\\u043e\",\"2.5\":\"mo@@\",\"20.5\":\"\\u0442\\u0435\\u0430\\u0442\\u0440\\u0430\",\"21.5\":\".\",\"22.5\":\"_EOS_\",\"3.5\":\"s@@\",\"4.5\":\"co@@\",\"5.5\":\"w\",\"6.5\":\"point\",\"7.5\":\"-\",\"8.5\":\"loft\",\"9.5\":\"red\"},\"plot\":{\"id\":\"9868769a-6c94-4afa-aaf3-07957f5fff00\",\"subtype\":\"Figure\",\"type\":\"Plot\"},\"ticker\":{\"id\":\"b1710b8c-e1ba-4454-b39e-1da76cbc9412\",\"type\":\"FixedTicker\"}},\"id\":\"86ec23d5-ed8f-4a58-a129-95288420332c\",\"type\":\"LinearAxis\"},{\"attributes\":{\"callback\":null,\"end\":18},\"id\":\"ee9a9432-59bc-4666-9fba-16703e5cf7dc\",\"type\":\"Range1d\"},{\"attributes\":{},\"id\":\"fa91d2ef-a513-483c-ae0f-c0cc6ef2b89d\",\"type\":\"Selection\"},{\"attributes\":{\"data_source\":{\"id\":\"33a84562-c922-4aab-909a-d7954cbcd297\",\"type\":\"ColumnDataSource\"},\"glyph\":{\"id\":\"8cc9330f-5a13-42f8-8e2e-80a42f25a9df\",\"type\":\"Image\"},\"hover_glyph\":null,\"muted_glyph\":null,\"nonselection_glyph\":{\"id\":\"ecf2515c-b5bd-44f5-b391-85923f7df60e\",\"type\":\"Image\"},\"selection_glyph\":null,\"view\":{\"id\":\"9f6e1cfa-6eb2-4cbb-9d68-92057c4aa49b\",\"type\":\"CDSView\"}},\"id\":\"5cd04853-202b-400a-a94e-a86d642cbe26\",\"type\":\"GlyphRenderer\"},{\"attributes\":{\"plot\":null,\"text\":\"\"},\"id\":\"39d05645-ebd0-44ce-99d0-7a963cc6e3cd\",\"type\":\"Title\"},{\"attributes\":{\"color_mapper\":{\"id\":\"5c366ed2-be4e-4f1d-b617-ad8c4c907dde\",\"type\":\"LinearColorMapper\"},\"dh\":{\"units\":\"data\",\"value\":18},\"dw\":{\"units\":\"data\",\"value\":23},\"image\":{\"field\":\"image\"},\"x\":{\"value\":0},\"y\":{\"value\":0}},\"id\":\"ecf2515c-b5bd-44f5-b391-85923f7df60e\",\"type\":\"Image\"},{\"attributes\":{\"palette\":[\"#000000\",\"#252525\",\"#525252\",\"#737373\",\"#969696\",\"#bdbdbd\",\"#d9d9d9\",\"#f0f0f0\",\"#ffffff\"]},\"id\":\"5c366ed2-be4e-4f1d-b617-ad8c4c907dde\",\"type\":\"LinearColorMapper\"},{\"attributes\":{\"source\":{\"id\":\"33a84562-c922-4aab-909a-d7954cbcd297\",\"type\":\"ColumnDataSource\"}},\"id\":\"9f6e1cfa-6eb2-4cbb-9d68-92057c4aa49b\",\"type\":\"CDSView\"},{\"attributes\":{\"ticks\":[0.5,1.5,2.5,3.5,4.5,5.5,6.5,7.5,8.5,9.5,10.5,11.5,12.5,13.5,14.5,15.5,16.5,17.5]},\"id\":\"77a5e11c-4185-455f-861b-fcc253835b9b\",\"type\":\"FixedTicker\"},{\"attributes\":{\"ticks\":[0.5,1.5,2.5,3.5,4.5,5.5,6.5,7.5,8.5,9.5,10.5,11.5,12.5,13.5,14.5,15.5,16.5,17.5,18.5,19.5,20.5,21.5,22.5]},\"id\":\"b1710b8c-e1ba-4454-b39e-1da76cbc9412\",\"type\":\"FixedTicker\"},{\"attributes\":{\"callback\":null,\"end\":23},\"id\":\"51075efb-530a-4b02-bb4d-eb32d59ddfcf\",\"type\":\"Range1d\"},{\"attributes\":{},\"id\":\"cdf3668a-5e7d-40a0-9a35-3dc23da8896d\",\"type\":\"LinearScale\"},{\"attributes\":{},\"id\":\"d4c80eed-8659-4ac0-a4ea-54d4753c8bc7\",\"type\":\"BasicTickFormatter\"},{\"attributes\":{},\"id\":\"bd890373-ecdc-435f-a0a8-c34f28d7e464\",\"type\":\"BasicTickFormatter\"},{\"attributes\":{},\"id\":\"c52cc7d5-f0ab-4d92-aecf-5df4e9f3d512\",\"type\":\"LinearScale\"},{\"attributes\":{\"axis_label\":\"translation tokens\",\"formatter\":{\"id\":\"d4c80eed-8659-4ac0-a4ea-54d4753c8bc7\",\"type\":\"BasicTickFormatter\"},\"major_label_overrides\":{\"0.5\":\"_EOS_\",\"1.5\":\".\",\"10.5\":\"stant@@\",\"11.5\":\"kon@@\",\"12.5\":\"st\",\"13.5\":\"from\",\"14.5\":\"metres\",\"15.5\":\"200\",\"16.5\":\"apartment\",\"17.5\":\"_BOS_\",\"2.5\":\"theatre\",\"3.5\":\"a\",\"4.5\":\",\",\"5.5\":\"moscow\",\"6.5\":\"in\",\"7.5\":\"accommodation\",\"8.5\":\"offers\",\"9.5\":\"naya\"},\"plot\":{\"id\":\"9868769a-6c94-4afa-aaf3-07957f5fff00\",\"subtype\":\"Figure\",\"type\":\"Plot\"},\"ticker\":{\"id\":\"77a5e11c-4185-455f-861b-fcc253835b9b\",\"type\":\"FixedTicker\"}},\"id\":\"bfb5fbc6-e911-4065-8087-81179298aa38\",\"type\":\"LinearAxis\"},{\"attributes\":{\"color_mapper\":{\"id\":\"b3f20916-233b-4022-a27e-d555468dd91d\",\"type\":\"LinearColorMapper\"},\"dh\":{\"units\":\"data\",\"value\":18},\"dw\":{\"units\":\"data\",\"value\":23},\"image\":{\"field\":\"image\"},\"x\":{\"value\":0},\"y\":{\"value\":0}},\"id\":\"8cc9330f-5a13-42f8-8e2e-80a42f25a9df\",\"type\":\"Image\"},{\"attributes\":{\"active_drag\":\"auto\",\"active_inspect\":\"auto\",\"active_multi\":null,\"active_scroll\":\"auto\",\"active_tap\":\"auto\"},\"id\":\"ad03bd36-e93a-4d6e-aa42-d7f22f26f46b\",\"type\":\"Toolbar\"}],\"root_ids\":[\"9868769a-6c94-4afa-aaf3-07957f5fff00\"]},\"title\":\"Bokeh Application\",\"version\":\"0.13.0\"}};\n",
       "  var render_items = [{\"docid\":\"079e863f-7bf8-48ed-8b49-16c68a59b150\",\"roots\":{\"9868769a-6c94-4afa-aaf3-07957f5fff00\":\"aa205f43-44a0-47cb-864f-9c40c20c3b21\"}}];\n",
       "  root.Bokeh.embed.embed_items_notebook(docs_json, render_items);\n",
       "\n",
       "  }\n",
       "  if (root.Bokeh !== undefined) {\n",
       "    embed_document(root);\n",
       "  } else {\n",
       "    var attempts = 0;\n",
       "    var timer = setInterval(function(root) {\n",
       "      if (root.Bokeh !== undefined) {\n",
       "        embed_document(root);\n",
       "        clearInterval(timer);\n",
       "      }\n",
       "      attempts++;\n",
       "      if (attempts > 100) {\n",
       "        console.log(\"Bokeh: ERROR: Unable to run BokehJS code because BokehJS library is missing\")\n",
       "        clearInterval(timer);\n",
       "      }\n",
       "    }, 10, root)\n",
       "  }\n",
       "})(window);"
      ],
      "application/vnd.bokehjs_exec.v0+json": ""
     },
     "metadata": {
      "application/vnd.bokehjs_exec.v0+json": {
       "id": "9868769a-6c94-4afa-aaf3-07957f5fff00"
      }
     },
     "output_type": "display_data"
    }
   ],
   "source": [
    "for i in range(5):\n",
    "    draw_attention(inp[i], trans[i], attention_probs[i])"
   ]
  },
  {
   "cell_type": "markdown",
   "metadata": {},
   "source": [
    "## Grand Finale (4+ points)\n",
    "\n",
    "We want you to find the best model for the task. Use everything you know.\n",
    "\n",
    "* different recurrent units: rnn/gru/lstm; deeper architectures\n",
    "* bidirectional encoder, different attention methods for decoder\n",
    "* word dropout, training schedules, anything you can imagine\n",
    "\n",
    "As usual, we want you to describe what you tried and what results you obtained."
   ]
  },
  {
   "cell_type": "markdown",
   "metadata": {
    "collapsed": true
   },
   "source": [
    "`[your report/log here or anywhere you please]`"
   ]
  },
  {
   "cell_type": "code",
   "execution_count": null,
   "metadata": {},
   "outputs": [],
   "source": []
  }
 ],
 "metadata": {
  "kernelspec": {
   "display_name": "Python 3",
   "language": "python",
   "name": "python3"
  },
  "language_info": {
   "codemirror_mode": {
    "name": "ipython",
    "version": 3
   },
   "file_extension": ".py",
   "mimetype": "text/x-python",
   "name": "python",
   "nbconvert_exporter": "python",
   "pygments_lexer": "ipython3",
   "version": "3.6.4"
  }
 },
 "nbformat": 4,
 "nbformat_minor": 1
}
