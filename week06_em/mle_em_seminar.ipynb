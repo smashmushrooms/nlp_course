{
 "cells": [
  {
   "cell_type": "markdown",
   "metadata": {},
   "source": [
    "**Maximum likelihood estimatation from observed and unobserved data**\n",
    "\n",
    "You are given a bag containing red and blue coins. All the red coins have the same probability of heads. All the blue coins have the same probability of heads (possibly different from that of the red coins).\n",
    "\n",
    "Your task is to estimate the proportion of red coins in the bag and the probability of heads for both the red and the blue coin."
   ]
  },
  {
   "cell_type": "code",
   "execution_count": 5,
   "metadata": {
    "scrolled": true
   },
   "outputs": [
    {
     "data": {
      "application/vnd.jupyter.widget-view+json": {
       "model_id": "090f07e9b4064646b459a1fe0f98f242",
       "version_major": 2,
       "version_minor": 0
      },
      "text/html": [
       "<p>Failed to display Jupyter Widget of type <code>FloatSlider</code>.</p>\n",
       "<p>\n",
       "  If you're reading this message in the Jupyter Notebook or JupyterLab Notebook, it may mean\n",
       "  that the widgets JavaScript is still loading. If this message persists, it\n",
       "  likely means that the widgets JavaScript library is either not installed or\n",
       "  not enabled. See the <a href=\"https://ipywidgets.readthedocs.io/en/stable/user_install.html\">Jupyter\n",
       "  Widgets Documentation</a> for setup instructions.\n",
       "</p>\n",
       "<p>\n",
       "  If you're reading this message in another frontend (for example, a static\n",
       "  rendering on GitHub or <a href=\"https://nbviewer.jupyter.org/\">NBViewer</a>),\n",
       "  it may mean that your frontend doesn't currently support widgets.\n",
       "</p>\n"
      ],
      "text/plain": [
       "FloatSlider(value=0.0, description='prob_red', max=1.0)"
      ]
     },
     "metadata": {},
     "output_type": "display_data"
    },
    {
     "data": {
      "application/vnd.jupyter.widget-view+json": {
       "model_id": "351732ea6f264e2d8c3dec18bd6efe38",
       "version_major": 2,
       "version_minor": 0
      },
      "text/html": [
       "<p>Failed to display Jupyter Widget of type <code>FloatSlider</code>.</p>\n",
       "<p>\n",
       "  If you're reading this message in the Jupyter Notebook or JupyterLab Notebook, it may mean\n",
       "  that the widgets JavaScript is still loading. If this message persists, it\n",
       "  likely means that the widgets JavaScript library is either not installed or\n",
       "  not enabled. See the <a href=\"https://ipywidgets.readthedocs.io/en/stable/user_install.html\">Jupyter\n",
       "  Widgets Documentation</a> for setup instructions.\n",
       "</p>\n",
       "<p>\n",
       "  If you're reading this message in another frontend (for example, a static\n",
       "  rendering on GitHub or <a href=\"https://nbviewer.jupyter.org/\">NBViewer</a>),\n",
       "  it may mean that your frontend doesn't currently support widgets.\n",
       "</p>\n"
      ],
      "text/plain": [
       "FloatSlider(value=0.0, description='head_red', max=1.0)"
      ]
     },
     "metadata": {},
     "output_type": "display_data"
    },
    {
     "data": {
      "application/vnd.jupyter.widget-view+json": {
       "model_id": "49a30bca652a42a39b8ff65d2e6f4bfd",
       "version_major": 2,
       "version_minor": 0
      },
      "text/html": [
       "<p>Failed to display Jupyter Widget of type <code>FloatSlider</code>.</p>\n",
       "<p>\n",
       "  If you're reading this message in the Jupyter Notebook or JupyterLab Notebook, it may mean\n",
       "  that the widgets JavaScript is still loading. If this message persists, it\n",
       "  likely means that the widgets JavaScript library is either not installed or\n",
       "  not enabled. See the <a href=\"https://ipywidgets.readthedocs.io/en/stable/user_install.html\">Jupyter\n",
       "  Widgets Documentation</a> for setup instructions.\n",
       "</p>\n",
       "<p>\n",
       "  If you're reading this message in another frontend (for example, a static\n",
       "  rendering on GitHub or <a href=\"https://nbviewer.jupyter.org/\">NBViewer</a>),\n",
       "  it may mean that your frontend doesn't currently support widgets.\n",
       "</p>\n"
      ],
      "text/plain": [
       "FloatSlider(value=0.0, description='head_blue', max=1.0)"
      ]
     },
     "metadata": {},
     "output_type": "display_data"
    }
   ],
   "source": [
    "import ipywidgets as widgets\n",
    "prob_red = widgets.FloatSlider(min=0.0, max=1.0, description='prob_red')\n",
    "prob_head_red = widgets.FloatSlider(min=0.0, max=1.0, description='head_red')\n",
    "prob_head_blue = widgets.FloatSlider(min=0.0, max=1.0, description='head_blue')\n",
    "display(prob_red, prob_head_red, prob_head_blue)"
   ]
  },
  {
   "cell_type": "markdown",
   "metadata": {},
   "source": [
    "Use these widgets to control the model."
   ]
  },
  {
   "cell_type": "code",
   "execution_count": 6,
   "metadata": {},
   "outputs": [],
   "source": [
    "import random\n",
    "def choose_coin():\n",
    "    return 'R' if random.random() < prob_red.value else 'B'\n",
    "\n",
    "def flip_coin(coin):\n",
    "    uar = random.random()\n",
    "    if coin == 'R':\n",
    "        if uar < prob_head_red.value:\n",
    "            return 'H'\n",
    "    elif uar < prob_head_blue.value:\n",
    "        return 'H'\n",
    "    return 'T'\n",
    "\n",
    "def flip_random_coin_n_times(n, hidden=False):\n",
    "    coin = choose_coin()\n",
    "    return ('_' if hidden else coin, ''.join([flip_coin(coin) for i in range(n)]))\n",
    "\n",
    "def flip_m_random_coins_n_times(m, n, hidden=False):\n",
    "    return [flip_random_coin_n_times(n, hidden) for i in range(m)]"
   ]
  },
  {
   "cell_type": "markdown",
   "metadata": {},
   "source": [
    "Use the above methods to sample from the model. The optional parameter 'hidden' controls whether the colour of the coin is observed in the samples."
   ]
  },
  {
   "cell_type": "code",
   "execution_count": 7,
   "metadata": {},
   "outputs": [
    {
     "data": {
      "text/plain": [
       "[('R',\n",
       "  'TTHTTTTTHHHTHTTTHHHTTTTTTHHTTTTHTTTTTTTTTHTTHTTTTTTTTTHTTTHTHTHTTTTHTHTTTTTTTTHTTTTTHTTTHTTHHTTTTTTT'),\n",
       " ('B',\n",
       "  'HTTHTTHHTHHHHHHHTHHHHHHHTHHHHHHHHHHHHHHHHHHHHTHHTHHHHHTTHHHTHTHHHHHHTHHTTHHHHHHHHHTHTHHHTHHTHHHHHHHH'),\n",
       " ('B',\n",
       "  'HHHHHTHHHHHHHHHHTHHHHHHHHHHHHHHHHHHHHHHTTHTTTHHHHHHHHHTHTHHTHHHTHHHTHTTHHHTHHHHHHHHTHHHHHTHTHTTTHHHH'),\n",
       " ('B',\n",
       "  'HHTHHHTHTTHHHHTHHHHHHHHTTHHHHHHHHHHHTHHHHHTHTHHHHHHHHHHHHHTTHHHHHHHHHHHHHHHTHHHTHTHTHHTHTHHHTHHHHTHH'),\n",
       " ('R',\n",
       "  'TTTTTTTHTHTTTHTTHHTTHTHHTHTHHTTTTHTHTHTHHTTTTTTHTHTHTTHTTTTTHTTTHHHTTTTHTTTTTTTTHTTHTHTHTTHHTTTTHHHT')]"
      ]
     },
     "execution_count": 7,
     "metadata": {},
     "output_type": "execute_result"
    }
   ],
   "source": [
    "flip_m_random_coins_n_times(5, 100)"
   ]
  },
  {
   "cell_type": "code",
   "execution_count": 8,
   "metadata": {},
   "outputs": [
    {
     "data": {
      "text/plain": [
       "[('_',\n",
       "  'THHTHHTHHHHTHHHHHHHHHTHTHHHHTHHHHHHTHHHHHHTHTHHHHHTHHHHHHTHHTTHHHTTHTHHHHHHHHHTHTHHTTHHHHHTHHHHHHHHH'),\n",
       " ('_',\n",
       "  'THTTTHTTTTTTHTHTTTHHHHTTHTTTHTTHTTTTTTTHHTTTTTHHTTTTTTHHTHTTHTTTHTHHHHTTHTTHTTTTHHTTTTHHTTTHTTHTTHHT'),\n",
       " ('_',\n",
       "  'THHHTTHTHTHHTHTHHTHHTTHHHHHHHHTHHHHHTHHHHHHHHTHHHTHHHTHTHHHHHHHHTHTHTTHTHHHTHHHHHHHHHHHHHHHHHTHHHHHH'),\n",
       " ('_',\n",
       "  'TTTTTTTHHTHTTTTTTTHHHTTTHTTHTHTTTHTTTHHTHTHTTHHTTHTHHHTTTHHHHHTTTTTTTTTTHTTHTTHTHTTTTTTTHHTTTHTTTTTT'),\n",
       " ('_',\n",
       "  'HHHHHHHHHHHHHHHHTHHTHHTHHHHHTHHHHHHHHHHHTHHHTHHHTTHHHHHHTHHTHHHHHHHHHHHHTHTHHHHTHHTHHHHHHTTTHTHHHTHH')]"
      ]
     },
     "execution_count": 8,
     "metadata": {},
     "output_type": "execute_result"
    }
   ],
   "source": [
    "flip_m_random_coins_n_times(5, 100, hidden=True)"
   ]
  },
  {
   "cell_type": "markdown",
   "metadata": {},
   "source": [
    "**TASK 1** Implement the following two functions to estimate parameters for the model in the observed case. Splitting the work into two separate functions will simplify things for the next task. \n",
    "\n",
    "* How could you measure the error in your estimates?\n",
    "* How does the error decrease with the sample size?\n",
    "* If you were only allowed to flip coins a total of N times how would you choose m (the number of coins) and n the number of times to flip each coin? Why?"
   ]
  },
  {
   "cell_type": "code",
   "execution_count": 9,
   "metadata": {},
   "outputs": [],
   "source": [
    "from collections import Counter\n",
    "from numpy import unique\n",
    "\n",
    "def compute_sufficient_statistics(samples):\n",
    "    m = len(samples)\n",
    "    n = len(samples[0][1])\n",
    "    \n",
    "    colors = (item[0] for item in samples)\n",
    "\n",
    "    get_seq = lambda color: (item for sample in samples for item in sample[1] if sample[0] == color)\n",
    "    red = get_seq('R')\n",
    "    blue = get_seq('B')\n",
    "    \n",
    "    return m, n, Counter(colors)['R'], Counter(red)['H'], Counter(blue)['H']\n",
    "\n",
    "def mle(m, n, red_num, red_head_num, blue_head_num):\n",
    "    return red_num / m, red_head_num / red_num / n, blue_head_num / (m - red_num) / n"
   ]
  },
  {
   "cell_type": "code",
   "execution_count": 10,
   "metadata": {},
   "outputs": [
    {
     "data": {
      "text/plain": [
       "(0.4009, 0.300020703417311, 0.7999060257052245)"
      ]
     },
     "execution_count": 10,
     "metadata": {},
     "output_type": "execute_result"
    }
   ],
   "source": [
    "samples = flip_m_random_coins_n_times(10000, 1000)\n",
    "statistics = compute_sufficient_statistics(samples)\n",
    "mle(*statistics)"
   ]
  },
  {
   "cell_type": "code",
   "execution_count": 11,
   "metadata": {},
   "outputs": [],
   "source": [
    "from matplotlib import pyplot as plt\n",
    "import seaborn as sns\n",
    "\n",
    "from warnings import filterwarnings\n",
    "filterwarnings('ignore')\n",
    "sns.set()"
   ]
  },
  {
   "cell_type": "code",
   "execution_count": 12,
   "metadata": {},
   "outputs": [],
   "source": [
    "from numpy import logspace\n",
    "from collections import namedtuple\n",
    "\n",
    "statistics = namedtuple('Statistics', [\n",
    "    'sample_size', 'colour_proba_error', 'red_head_proba_error', 'blue_head_proba_error'\n",
    "])(logspace(1, 6, num=6), [], [], [])\n",
    "\n",
    "for sample_size in statistics.sample_size:\n",
    "    samples = flip_m_random_coins_n_times(int(sample_size), 1)\n",
    "    colour_proba, red_head_proba, blue_head_proba = mle(*compute_sufficient_statistics(samples))\n",
    "    mse = lambda true, pred: abs(true.value - pred)\n",
    "    statistics.colour_proba_error.append(mse(prob_red, colour_proba))\n",
    "    statistics.red_head_proba_error.append(mse(prob_head_red, red_head_proba))\n",
    "    statistics.blue_head_proba_error.append(mse(prob_head_blue, blue_head_proba))"
   ]
  },
  {
   "cell_type": "code",
   "execution_count": 13,
   "metadata": {},
   "outputs": [],
   "source": [
    "from numpy import log10\n",
    "\n",
    "statistics = statistics._asdict()\n",
    "\n",
    "grid = log10(statistics['sample_size'])\n",
    "del statistics['sample_size']"
   ]
  },
  {
   "cell_type": "code",
   "execution_count": 14,
   "metadata": {},
   "outputs": [
    {
     "data": {
      "image/png": "[encoded data removed]",
      "text/plain": [
       "<matplotlib.figure.Figure at 0x1a17747cc0>"
      ]
     },
     "metadata": {},
     "output_type": "display_data"
    }
   ],
   "source": [
    "plt.figure(figsize=(10, 7))\n",
    "for key, value in statistics.items():\n",
    "    plt.plot(grid, value, label=key)\n",
    "    \n",
    "plt.xlabel('sample_size, 10e')\n",
    "plt.ylabel('errors')\n",
    "plt.legend()\n",
    "plt.show()"
   ]
  },
  {
   "cell_type": "markdown",
   "metadata": {},
   "source": [
    "* Since we are trying to estimate probabilities, error can be measured with continious metrics like MSE (but logMSE is more preferable).\n",
    "* See the plot.\n",
    "* I would flipped as much coins with different colours as possible in order to get more information about distribution of colours without losing information about head-tail distribution of each colour. To get information about head-tail distribution, we need to compute statistics within each colour, and average size of such group will be about $probability\\_of\\_colour * m * n$. But $m * n = N$, so we've got $probability\\_of\\_colour * N$. But this does not depend on m, that's why we can maximize it."
   ]
  },
  {
   "cell_type": "markdown",
   "metadata": {},
   "source": [
    "**TASK 2** Given a sample from a single coin whose colour is unobserved, estimate the posterior probability that the coin is red, given some estimates of the model parameters.\n",
    "\n",
    "* If you pass in the true model parameters (e.g. prob_red.value, prob_head_red.value and prob_head_blue.value), how quickly does the posterior change? Use the plot_distribution function to view this.\n",
    "* How does this depend on the model parameters?"
   ]
  },
  {
   "cell_type": "code",
   "execution_count": 15,
   "metadata": {},
   "outputs": [],
   "source": [
    "def compute_posterior_prob_red(sample, estimate_prob_red, estimate_prob_head_red, estimate_prob_head_blue):\n",
    "    n_head = sample.count('H')\n",
    "    n_tail = len(sample) - n_head\n",
    "    \n",
    "    red_proba = estimate_prob_red * estimate_prob_head_red ** n_head * (1 - estimate_prob_head_red) ** n_tail\n",
    "    blue_proba = (1 - estimate_prob_red) * estimate_prob_head_blue ** n_head * (1 - estimate_prob_head_blue) ** n_tail\n",
    "    \n",
    "    return red_proba / (red_proba + blue_proba)"
   ]
  },
  {
   "cell_type": "markdown",
   "metadata": {},
   "source": [
    "**TASK 3** Reusing your code from Tasks 1 and 2, implement expectation maximization algorithm to find a (locally optimal) solution to the parameters when the colour of the coins is not observed."
   ]
  },
  {
   "cell_type": "code",
   "execution_count": 16,
   "metadata": {},
   "outputs": [],
   "source": [
    "def compute_expected_statistics(samples, estimate_prob_red, estimate_prob_head_red, estimate_prob_head_blue):\n",
    "    m = len(samples)\n",
    "    n = len(samples[0][1])\n",
    "    \n",
    "    expected_red_num, expected_red_head_num, expected_blue_head_num = 0, 0, 0\n",
    "    \n",
    "    for sample in samples:\n",
    "        posterior_red_proba = compute_posterior_prob_red(\n",
    "            sample[1], estimate_prob_red, estimate_prob_head_red, estimate_prob_head_blue)\n",
    "        \n",
    "        expected_red_num += posterior_red_proba\n",
    "        expected_red_head_num += posterior_red_proba * sample[1].count('H')\n",
    "        expected_blue_head_num += (1 - posterior_red_proba) * sample[1].count('H')\n",
    "        \n",
    "    return m, n, expected_red_num, expected_red_head_num, expected_blue_head_num\n",
    "\n",
    "def expectation_maximization(samples, iterations, estimate_prob_red, estimate_prob_head_red, estimate_prob_head_blue):\n",
    "    for _ in range(iterations):\n",
    "        mle_params = compute_expected_statistics(\n",
    "            samples, estimate_prob_red, estimate_prob_head_red, estimate_prob_head_blue)\n",
    "        estimate_prob_red, estimate_prob_head_red, estimate_prob_head_blue = mle(*mle_params)\n",
    "        \n",
    "        print(estimate_prob_red, estimate_prob_head_red, estimate_prob_head_blue, end='\\n')"
   ]
  },
  {
   "cell_type": "code",
   "execution_count": 17,
   "metadata": {},
   "outputs": [
    {
     "name": "stdout",
     "output_type": "stream",
     "text": [
      "0.403 0.3002406947890819 0.7998978224455612\n",
      "0.403 0.3002406947890819 0.7998978224455612\n",
      "0.403 0.3002406947890819 0.7998978224455612\n",
      "0.403 0.3002406947890819 0.7998978224455612\n",
      "0.403 0.3002406947890819 0.7998978224455612\n"
     ]
    }
   ],
   "source": [
    "samples = flip_m_random_coins_n_times(1000, 1000, hidden=True)\n",
    "expectation_maximization(samples, 5, 0.5, 0.3, 0.7)"
   ]
  },
  {
   "cell_type": "code",
   "execution_count": null,
   "metadata": {},
   "outputs": [],
   "source": []
  }
 ],
 "metadata": {
  "kernelspec": {
   "display_name": "Python 3",
   "language": "python",
   "name": "python3"
  },
  "language_info": {
   "codemirror_mode": {
    "name": "ipython",
    "version": 3
   },
   "file_extension": ".py",
   "mimetype": "text/x-python",
   "name": "python",
   "nbconvert_exporter": "python",
   "pygments_lexer": "ipython3",
   "version": "3.6.4"
  }
 },
 "nbformat": 4,
 "nbformat_minor": 2
}
