{
 "cells": [
  {
   "cell_type": "markdown",
   "metadata": {},
   "source": [
    "**Maximum likelihood estimatation from observed and unobserved data**\n",
    "\n",
    "You are given a bag containing red and blue coins. All the red coins have the same probability of heads. All the blue coins have the same probability of heads (possibly different from that of the red coins).\n",
    "\n",
    "Your task is to estimate the proportion of red coins in the bag and the probability of heads for both the red and the blue coin."
   ]
  },
  {
   "cell_type": "code",
   "execution_count": 1,
   "metadata": {
    "scrolled": true
   },
   "outputs": [
    {
     "data": {
      "application/vnd.jupyter.widget-view+json": {
       "model_id": "47e55b01629f44e9889c378d12d373a5",
       "version_major": 2,
       "version_minor": 0
      },
      "text/html": [
       "<p>Failed to display Jupyter Widget of type <code>FloatSlider</code>.</p>\n",
       "<p>\n",
       "  If you're reading this message in the Jupyter Notebook or JupyterLab Notebook, it may mean\n",
       "  that the widgets JavaScript is still loading. If this message persists, it\n",
       "  likely means that the widgets JavaScript library is either not installed or\n",
       "  not enabled. See the <a href=\"https://ipywidgets.readthedocs.io/en/stable/user_install.html\">Jupyter\n",
       "  Widgets Documentation</a> for setup instructions.\n",
       "</p>\n",
       "<p>\n",
       "  If you're reading this message in another frontend (for example, a static\n",
       "  rendering on GitHub or <a href=\"https://nbviewer.jupyter.org/\">NBViewer</a>),\n",
       "  it may mean that your frontend doesn't currently support widgets.\n",
       "</p>\n"
      ],
      "text/plain": [
       "FloatSlider(value=0.0, description='prob_red', max=1.0)"
      ]
     },
     "metadata": {},
     "output_type": "display_data"
    },
    {
     "data": {
      "application/vnd.jupyter.widget-view+json": {
       "model_id": "a2ad1a7c2a054bbcaff1914f089ff86b",
       "version_major": 2,
       "version_minor": 0
      },
      "text/html": [
       "<p>Failed to display Jupyter Widget of type <code>FloatSlider</code>.</p>\n",
       "<p>\n",
       "  If you're reading this message in the Jupyter Notebook or JupyterLab Notebook, it may mean\n",
       "  that the widgets JavaScript is still loading. If this message persists, it\n",
       "  likely means that the widgets JavaScript library is either not installed or\n",
       "  not enabled. See the <a href=\"https://ipywidgets.readthedocs.io/en/stable/user_install.html\">Jupyter\n",
       "  Widgets Documentation</a> for setup instructions.\n",
       "</p>\n",
       "<p>\n",
       "  If you're reading this message in another frontend (for example, a static\n",
       "  rendering on GitHub or <a href=\"https://nbviewer.jupyter.org/\">NBViewer</a>),\n",
       "  it may mean that your frontend doesn't currently support widgets.\n",
       "</p>\n"
      ],
      "text/plain": [
       "FloatSlider(value=0.0, description='head_red', max=1.0)"
      ]
     },
     "metadata": {},
     "output_type": "display_data"
    },
    {
     "data": {
      "application/vnd.jupyter.widget-view+json": {
       "model_id": "680c9a5aba4041d3b6e4055c4f0fb245",
       "version_major": 2,
       "version_minor": 0
      },
      "text/html": [
       "<p>Failed to display Jupyter Widget of type <code>FloatSlider</code>.</p>\n",
       "<p>\n",
       "  If you're reading this message in the Jupyter Notebook or JupyterLab Notebook, it may mean\n",
       "  that the widgets JavaScript is still loading. If this message persists, it\n",
       "  likely means that the widgets JavaScript library is either not installed or\n",
       "  not enabled. See the <a href=\"https://ipywidgets.readthedocs.io/en/stable/user_install.html\">Jupyter\n",
       "  Widgets Documentation</a> for setup instructions.\n",
       "</p>\n",
       "<p>\n",
       "  If you're reading this message in another frontend (for example, a static\n",
       "  rendering on GitHub or <a href=\"https://nbviewer.jupyter.org/\">NBViewer</a>),\n",
       "  it may mean that your frontend doesn't currently support widgets.\n",
       "</p>\n"
      ],
      "text/plain": [
       "FloatSlider(value=0.0, description='head_blue', max=1.0)"
      ]
     },
     "metadata": {},
     "output_type": "display_data"
    }
   ],
   "source": [
    "import ipywidgets as widgets\n",
    "prob_red = widgets.FloatSlider(min=0.0, max=1.0, description='prob_red')\n",
    "prob_head_red = widgets.FloatSlider(min=0.0, max=1.0, description='head_red')\n",
    "prob_head_blue = widgets.FloatSlider(min=0.0, max=1.0, description='head_blue')\n",
    "display(prob_red, prob_head_red, prob_head_blue)"
   ]
  },
  {
   "cell_type": "markdown",
   "metadata": {},
   "source": [
    "Use these widgets to control the model."
   ]
  },
  {
   "cell_type": "code",
   "execution_count": 3,
   "metadata": {},
   "outputs": [],
   "source": [
    "import random\n",
    "def choose_coin():\n",
    "    return 'R' if random.random() < prob_red.value else 'B'\n",
    "\n",
    "def flip_coin(coin):\n",
    "    uar = random.random()\n",
    "    if coin == 'R':\n",
    "        if uar < prob_head_red.value:\n",
    "            return 'H'\n",
    "    elif uar < prob_head_blue.value:\n",
    "        return 'H'\n",
    "    return 'T'\n",
    "\n",
    "def flip_random_coin_n_times(n, hidden=False):\n",
    "    coin = choose_coin()\n",
    "    return ('_' if hidden else coin, ''.join([flip_coin(coin) for i in range(n)]))\n",
    "\n",
    "def flip_m_random_coins_n_times(m, n, hidden=False):\n",
    "    return [flip_random_coin_n_times(n, hidden) for i in range(m)]"
   ]
  },
  {
   "cell_type": "markdown",
   "metadata": {},
   "source": [
    "Use the above methods to sample from the model. The optional parameter 'hidden' controls whether the colour of the coin is observed in the samples."
   ]
  },
  {
   "cell_type": "code",
   "execution_count": 4,
   "metadata": {},
   "outputs": [
    {
     "data": {
      "text/plain": [
       "[('R',\n",
       "  'THHHHHHHHHHHHHHHHTHHHTHHTHHHHHHTHHTHHHTHHTTHHHHHHHHHHHHHTHHHHTHTHHHHHHHHHHTHHHHHHHHHHTTHHHTHHTHHTTTH'),\n",
       " ('R',\n",
       "  'HHHHHHHHHHHHHHHTHTHTHHHHHHHHHHHHHHHTHTHHTHHHHHHHHHHHHTHHHHTHHHHHHTHHHHHHTHHHHHHHHTHTHHTTHHHHTHHTHHHH'),\n",
       " ('R',\n",
       "  'HHHHHHTHHHHHHHHHHHHHHHHTHHTHHHHHHTHTTHHHHHTTHHTHHTHHHHHHHTHTHHHTHHHTHHHHHTHHHHHHHHHTHHTTHHTHHHHHHHHH'),\n",
       " ('R',\n",
       "  'HTTTHHHTHHHHHHHHHHHHHHHHTHHHHHHHHTHTHHHHHHHTHHHHHHHHHHTTHHHHHHHHTHHTHHHHHHHHTHTHHHHHHHHHTHHTHHHHTHHH'),\n",
       " ('R',\n",
       "  'HHHTHTHTHHTHHHHTTTHTHHHHHHHHHHHTTHHTHHTHTHHHHHHHHHHHHHTHHHHHHHHHTHHTHHHHHHHHHHHHHHHHHTHHHHTHHHTHHTHH')]"
      ]
     },
     "execution_count": 4,
     "metadata": {},
     "output_type": "execute_result"
    }
   ],
   "source": [
    "flip_m_random_coins_n_times(5, 100)"
   ]
  },
  {
   "cell_type": "code",
   "execution_count": 5,
   "metadata": {},
   "outputs": [
    {
     "data": {
      "text/plain": [
       "[('_',\n",
       "  'TTTHTHTTHTTTTTTHTTTTTTTTTTTTTHTHTHTTHTTTTTTTTTTHTTTHTTTTHHTTHTHHTTTTTTTTHTTHTTTTTTTTTTTHTTTTTTTTTTTT'),\n",
       " ('_',\n",
       "  'TTTTTTTTHTHTTTHTTTHTTTTTTHHTHTTTHTTTHTTTTTTTHHTTTHTTTTTTTHHTHHTHTTTTHTTTTTHHTHTHTTTTHHHTTTTTTTTTTTHT'),\n",
       " ('_',\n",
       "  'HHHHHHHTHTTHTTHHHHHTHHHHHHTTHHHTHHHHHHHHTHHHHHHHHHTTHTHHHHTHHTHTHHHHHHTHHTHTHHHHHHHHTHHHHHHHHHTHHHHH'),\n",
       " ('_',\n",
       "  'TTTTHTHHTTTTTTTHTTTTTTTTTTTTTHTTTTTTTTTTTTTTTTHTTTTTTTTTTTTTTTTTTTTTTTTTTTHTTTTTTTHTTTTTTTTTTHTHTTTT'),\n",
       " ('_',\n",
       "  'HTTTTHTTTTHTTTTHTTTTHHHHTTHTTTTHTTTTTTTHTTTTTTHHTTTTTTTTTTTTHTTTHHTTTTTTTTTTHHTTTTTTTHHTTTTTTTTTTTTT')]"
      ]
     },
     "execution_count": 5,
     "metadata": {},
     "output_type": "execute_result"
    }
   ],
   "source": [
    "flip_m_random_coins_n_times(5, 100, hidden=True)"
   ]
  },
  {
   "cell_type": "markdown",
   "metadata": {},
   "source": [
    "**TASK 1** Implement the following two functions to estimate parameters for the model in the observed case. Splitting the work into two separate functions will simplify things for the next task. \n",
    "\n",
    "* How could you measure the error in your estimates?\n",
    "* How does the error decrease with the sample size?\n",
    "* If you were only allowed to flip coins a total of N times how would you choose m (the number of coins) and n the number of times to flip each coin? Why?"
   ]
  },
  {
   "cell_type": "code",
   "execution_count": 6,
   "metadata": {},
   "outputs": [],
   "source": [
    "def compute_sufficient_statistics(samples):\n",
    "    total = len(samples) * len(samples[0][1])\n",
    "    count_red = sum([len(sample[1]) for sample in samples if sample[0] == 'R']) \n",
    "    count_red_head = sum([sample[1].count('H') for sample in samples if sample[0] == 'R'])\n",
    "    count_blue_head = sum([sample[1].count('H') for sample in samples if sample[0] == 'B'])\n",
    "    return total, count_red, count_red_head, count_blue_head\n",
    "\n",
    "def mle(total, count_red, count_red_head, count_blue_head):\n",
    "    estimate_prob_red = count_red / total\n",
    "    estimate_prob_head_red = count_red_head / count_red\n",
    "    estimate_prob_head_blue = count_blue_head / (total - count_red)\n",
    "    return estimate_prob_red, estimate_prob_head_red, estimate_prob_head_blue"
   ]
  },
  {
   "cell_type": "code",
   "execution_count": 7,
   "metadata": {},
   "outputs": [
    {
     "name": "stdout",
     "output_type": "stream",
     "text": [
      "0.4009 0.8004539785482664 0.2\n"
     ]
    }
   ],
   "source": [
    "samples = flip_m_random_coins_n_times(10000, 100)\n",
    "estimate_prob_red, estimate_prob_head_red, estimate_prob_head_blue = mle(*compute_sufficient_statistics(samples))\n",
    "print(estimate_prob_red, estimate_prob_head_red, estimate_prob_head_blue)"
   ]
  },
  {
   "cell_type": "markdown",
   "metadata": {},
   "source": [
    "**TASK 2** Given a sample from a single coin whose colour is unobserved, estimate the posterior probability that the coin is red, given some estimates of the model parameters.\n",
    "\n",
    "* If you pass in the true model parameters (e.g. prob_red.value, prob_head_red.value and prob_head_blue.value), how quickly does the posterior change? Use the plot_distribution function to view this.\n",
    "* How does this depend on the model parameters?"
   ]
  },
  {
   "cell_type": "code",
   "execution_count": 8,
   "metadata": {},
   "outputs": [],
   "source": [
    "def compute_posterior_prob_red(sample, estimate_prob_red, estimate_prob_head_red, estimate_prob_head_blue):\n",
    "    count_head = sample.count('H')\n",
    "    count_tail = len(sample) - count_head\n",
    "    joint_red = estimate_prob_red * estimate_prob_head_red**count_head * (1 - estimate_prob_head_red)**count_tail\n",
    "    joint_blue = (1 - estimate_prob_red) * estimate_prob_head_blue**count_head * (1 - estimate_prob_head_blue)**count_tail\n",
    "    return joint_red / (joint_red + joint_blue)\n"
   ]
  },
  {
   "cell_type": "markdown",
   "metadata": {},
   "source": [
    "**TASK 3** Reusing your code from Tasks 1 and 2, implement expectation maximization algorithm to find a (locally optimal) solution to the parameters when the colour of the coins is not observed."
   ]
  },
  {
   "cell_type": "code",
   "execution_count": 9,
   "metadata": {},
   "outputs": [],
   "source": [
    "def compute_expected_statistics(samples, estimate_prob_red, estimate_prob_head_red, estimate_prob_head_blue):\n",
    "    total, expected_count_red, expected_count_red_head, expected_count_blue_head = 0, 0.0, 0.0, 0.0\n",
    "    for sample in samples:\n",
    "        total += len(sample[1])\n",
    "        posterior_prob_red = compute_posterior_prob_red(sample[1], estimate_prob_red, estimate_prob_head_red, estimate_prob_head_blue)\n",
    "        expected_count_red += posterior_prob_red * len(sample[1])\n",
    "        expected_count_red_head += posterior_prob_red * sample[1].count('H')\n",
    "        expected_count_blue_head += (1 - posterior_prob_red) * sample[1].count('H')\n",
    "    return total, expected_count_red, expected_count_red_head, expected_count_blue_head\n",
    "\n",
    "def expectation_maximization(samples, estimate_prob_red, estimate_prob_head_red, estimate_prob_head_blue):\n",
    "    for i in range(10):\n",
    "        total, expected_count_red, expected_count_red_head, expected_count_blue_head = compute_expected_statistics(\n",
    "            samples, estimate_prob_red, estimate_prob_head_red, estimate_prob_head_blue)\n",
    "        estimate_prob_red, estimate_prob_head_red, estimate_prob_head_blue = mle(\n",
    "            total, expected_count_red, expected_count_red_head, expected_count_blue_head)\n",
    "        print(estimate_prob_red, estimate_prob_head_red, estimate_prob_head_blue)\n",
    "        \n"
   ]
  },
  {
   "cell_type": "code",
   "execution_count": 10,
   "metadata": {},
   "outputs": [
    {
     "ename": "TypeError",
     "evalue": "expectation_maximization() takes 4 positional arguments but 5 were given",
     "output_type": "error",
     "traceback": [
      "\u001b[0;31m---------------------------------------------------------------------------\u001b[0m",
      "\u001b[0;31mTypeError\u001b[0m                                 Traceback (most recent call last)",
      "\u001b[0;32m<ipython-input-10-25470ecb9418>\u001b[0m in \u001b[0;36m<module>\u001b[0;34m()\u001b[0m\n\u001b[1;32m      1\u001b[0m \u001b[0msamples\u001b[0m \u001b[0;34m=\u001b[0m \u001b[0mflip_m_random_coins_n_times\u001b[0m\u001b[0;34m(\u001b[0m\u001b[0;36m10\u001b[0m\u001b[0;34m,\u001b[0m \u001b[0;36m100\u001b[0m\u001b[0;34m,\u001b[0m \u001b[0mhidden\u001b[0m\u001b[0;34m=\u001b[0m\u001b[0;32mTrue\u001b[0m\u001b[0;34m)\u001b[0m\u001b[0;34m\u001b[0m\u001b[0m\n\u001b[0;32m----> 2\u001b[0;31m \u001b[0mexpectation_maximization\u001b[0m\u001b[0;34m(\u001b[0m\u001b[0msamples\u001b[0m\u001b[0;34m,\u001b[0m \u001b[0;36m5\u001b[0m\u001b[0;34m,\u001b[0m \u001b[0;36m0.5\u001b[0m\u001b[0;34m,\u001b[0m \u001b[0;36m0.7\u001b[0m\u001b[0;34m,\u001b[0m \u001b[0;36m0.2\u001b[0m\u001b[0;34m)\u001b[0m\u001b[0;34m\u001b[0m\u001b[0m\n\u001b[0m",
      "\u001b[0;31mTypeError\u001b[0m: expectation_maximization() takes 4 positional arguments but 5 were given"
     ]
    }
   ],
   "source": [
    "samples = flip_m_random_coins_n_times(10, 100, hidden=True)\n",
    "expectation_maximization(samples, 0.5, 0.7, 0.2)"
   ]
  },
  {
   "cell_type": "code",
   "execution_count": null,
   "metadata": {},
   "outputs": [],
   "source": []
  }
 ],
 "metadata": {
  "kernelspec": {
   "display_name": "Python 3",
   "language": "python",
   "name": "python3"
  },
  "language_info": {
   "codemirror_mode": {
    "name": "ipython",
    "version": 3
   },
   "file_extension": ".py",
   "mimetype": "text/x-python",
   "name": "python",
   "nbconvert_exporter": "python",
   "pygments_lexer": "ipython3",
   "version": "3.6.4"
  }
 },
 "nbformat": 4,
 "nbformat_minor": 2
}
