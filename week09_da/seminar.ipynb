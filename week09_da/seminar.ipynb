{
 "cells": [
  {
   "cell_type": "markdown",
   "metadata": {},
   "source": [
    "## Domain adaptation (5 pts total)\n",
    "\n",
    "In this seminar you will adapt a pre-trained machine translation model for the hotel review translation task you solved a few weeks ago. \n",
    "\n",
    "This time it comes with a few complications:\n",
    "* Harder task: __en -> ru__ instead of __ru -> en__\n",
    "* You are given a model pre-trained on WMT. Visit [statmt.org](http://statmt.org/) for more details.\n",
    "* The baseline model already includes attention and some hacks\n",
    "\n",
    "With luck and skills on your side, you will adapt it to improve hotel translation quality."
   ]
  },
  {
   "cell_type": "code",
   "execution_count": 1,
   "metadata": {
    "scrolled": true
   },
   "outputs": [
    {
     "name": "stdout",
     "output_type": "stream",
     "text": [
      "--2018-12-03 00:19:58--  https://github.com/yandexdataschool/nlp_course/raw/master/week09_da/data.tar.gz\n",
      "Resolving github.com (github.com)... 192.30.253.113, 192.30.253.112\n",
      "Connecting to github.com (github.com)|192.30.253.113|:443... connected.\n",
      "HTTP request sent, awaiting response... 302 Found\n",
      "Location: https://raw.githubusercontent.com/yandexdataschool/nlp_course/master/week09_da/data.tar.gz [following]\n",
      "--2018-12-03 00:19:59--  https://raw.githubusercontent.com/yandexdataschool/nlp_course/master/week09_da/data.tar.gz\n",
      "Resolving raw.githubusercontent.com (raw.githubusercontent.com)... 151.101.244.133\n",
      "Connecting to raw.githubusercontent.com (raw.githubusercontent.com)|151.101.244.133|:443... connected.\n",
      "HTTP request sent, awaiting response... 200 OK\n",
      "Length: 3242995 (3.1M) [application/octet-stream]\n",
      "Saving to: ‘data.tar.gz.1’\n",
      "\n",
      "data.tar.gz.1       100%[===================>]   3.09M  14.5MB/s    in 0.2s    \n",
      "\n",
      "2018-12-03 00:19:59 (14.5 MB/s) - ‘data.tar.gz.1’ saved [3242995/3242995]\n",
      "\n",
      "--2018-12-03 00:20:00--  https://raw.githubusercontent.com/yandexdataschool/nlp_course/master/week09_da/utils.py\n",
      "Resolving raw.githubusercontent.com (raw.githubusercontent.com)... 151.101.244.133\n",
      "Connecting to raw.githubusercontent.com (raw.githubusercontent.com)|151.101.244.133|:443... connected.\n",
      "HTTP request sent, awaiting response... 200 OK\n",
      "Length: 15430 (15K) [text/plain]\n",
      "Saving to: ‘utils.py.1’\n",
      "\n",
      "utils.py.1          100%[===================>]  15.07K  --.-KB/s    in 0.01s   \n",
      "\n",
      "2018-12-03 00:20:00 (1.03 MB/s) - ‘utils.py.1’ saved [15430/15430]\n",
      "\n",
      "data/\n",
      "data/tokens.ru\n",
      "data/train.domain.ru\n",
      "data/tokens.en\n",
      "data/bpe_rules.en\n",
      "data/train.domain.en\n",
      "data/bpe_rules.ru\n",
      "--2018-12-03 00:20:00--  https://www.dropbox.com/s/xm73pjug7eq1rff/model-pretrained.npz?dl=1\n",
      "Resolving www.dropbox.com (www.dropbox.com)... 162.125.66.1, 2620:100:6022:1::a27d:4201\n",
      "Connecting to www.dropbox.com (www.dropbox.com)|162.125.66.1|:443... connected.\n",
      "HTTP request sent, awaiting response... 301 Moved Permanently\n",
      "Location: /s/dl/xm73pjug7eq1rff/model-pretrained.npz [following]\n",
      "--2018-12-03 00:20:01--  https://www.dropbox.com/s/dl/xm73pjug7eq1rff/model-pretrained.npz\n",
      "Reusing existing connection to www.dropbox.com:443.\n",
      "HTTP request sent, awaiting response... 302 Found\n",
      "Location: https://ucc46226c889be7ddac1a9aa5cac.dl.dropboxusercontent.com/cd/0/get/AWt2QCqtViw4mcutZvu6GrZjZkANYPH3iAKr3qdPp0H7ZWnSV_DdyjPOnKFp8smiT7IL0S8vzlShDqMbYLRtJODK018P8OMTBakJUWang4KtZqc1mCS-Ic0hSYKYTwyhkDar7Cusb3_tJuPgBbwZYHyu44R3uw-Wq8vSlNMjNiDpfCzCLTTR4spe8JVldyqZjsI/file?dl=1 [following]\n",
      "--2018-12-03 00:20:01--  https://ucc46226c889be7ddac1a9aa5cac.dl.dropboxusercontent.com/cd/0/get/AWt2QCqtViw4mcutZvu6GrZjZkANYPH3iAKr3qdPp0H7ZWnSV_DdyjPOnKFp8smiT7IL0S8vzlShDqMbYLRtJODK018P8OMTBakJUWang4KtZqc1mCS-Ic0hSYKYTwyhkDar7Cusb3_tJuPgBbwZYHyu44R3uw-Wq8vSlNMjNiDpfCzCLTTR4spe8JVldyqZjsI/file?dl=1\n",
      "Resolving ucc46226c889be7ddac1a9aa5cac.dl.dropboxusercontent.com (ucc46226c889be7ddac1a9aa5cac.dl.dropboxusercontent.com)... 162.125.66.6, 2620:100:6022:6::a27d:4206\n",
      "Connecting to ucc46226c889be7ddac1a9aa5cac.dl.dropboxusercontent.com (ucc46226c889be7ddac1a9aa5cac.dl.dropboxusercontent.com)|162.125.66.6|:443... connected.\n",
      "HTTP request sent, awaiting response... 200 OK\n",
      "Length: 145546138 (139M) [application/binary]\n",
      "Saving to: ‘model-pretrained.npz’\n",
      "\n",
      "model-pretrained.np 100%[===================>] 138.80M  17.2MB/s    in 11s     \n",
      "\n",
      "2018-12-03 00:20:14 (12.6 MB/s) - ‘model-pretrained.npz’ saved [145546138/145546138]\n",
      "\n"
     ]
    }
   ],
   "source": [
    "!pip3 install subword-nmt &> log\n",
    "!wget https://github.com/yandexdataschool/nlp_course/raw/master/week09_da/data.tar.gz\n",
    "!wget https://raw.githubusercontent.com/yandexdataschool/nlp_course/master/week09_da/utils.py\n",
    "!tar -xvzf data.tar.gz\n",
    "!mv data/* .\n",
    "!wget https://www.dropbox.com/s/xm73pjug7eq1rff/model-pretrained.npz?dl=1 -O model-pretrained.npz"
   ]
  },
  {
   "cell_type": "markdown",
   "metadata": {},
   "source": [
    "### Data preprocessing\n",
    "\n",
    "We provide you with a pre-trained model that uses Byte Pair Encodings [(bpe)](https://github.com/rsennrich/subword-nmt) to segment rare words into sub-word units. \n",
    "\n",
    "It is important that we fine-tune our model using the same set of BPE rules."
   ]
  },
  {
   "cell_type": "code",
   "execution_count": 1,
   "metadata": {},
   "outputs": [],
   "source": [
    "import numpy as np\n",
    "from nltk.tokenize import WordPunctTokenizer\n",
    "from subword_nmt.apply_bpe import BPE\n",
    "tokenizer = WordPunctTokenizer()\n",
    "def tokenize(x):\n",
    "    return ' '.join(tokenizer.tokenize(x.lower()))\n",
    "\n",
    "bpe = {}\n",
    "for lang in ['en', 'ru']:\n",
    "    bpe[lang] = BPE(open('./bpe_rules.' + lang))"
   ]
  },
  {
   "cell_type": "code",
   "execution_count": 2,
   "metadata": {},
   "outputs": [
    {
     "name": "stdout",
     "output_type": "stream",
     "text": [
      "ска@@ жи : какого цвета глаза у вет@@ ра ?\n"
     ]
    }
   ],
   "source": [
    "print(bpe['ru'].process_line(tokenize(\"Скажи: какого цвета глаза у ветра?\")))"
   ]
  },
  {
   "cell_type": "code",
   "execution_count": 3,
   "metadata": {},
   "outputs": [
    {
     "name": "stdout",
     "output_type": "stream",
     "text": [
      "cordelia hotel is situated in tbilisi , a 3 - minute walk away from saint trinity church .\n",
      "\n",
      "отель cordelia расположен в тбилиси , в 3 минутах ходьбы от свято - троицкого собора .\n",
      "\n"
     ]
    }
   ],
   "source": [
    "data_inp_raw = list(open('./train.domain.en'))\n",
    "data_out_raw = list(open('./train.domain.ru'))\n",
    "\n",
    "print(data_inp_raw[0])\n",
    "print(data_out_raw[0])"
   ]
  },
  {
   "cell_type": "code",
   "execution_count": 4,
   "metadata": {},
   "outputs": [],
   "source": [
    "# convert lines into space-separated tokenized bpe units\n",
    "\n",
    "data_inp = [bpe['en'].process_line(tokenize(line)) for line in data_inp_raw]\n",
    "data_out = [bpe['ru'].process_line(tokenize(line)) for line in data_out_raw]"
   ]
  },
  {
   "cell_type": "code",
   "execution_count": 5,
   "metadata": {},
   "outputs": [],
   "source": [
    "assert data_inp[0] == 'cor@@ del@@ ia hotel is situated in t@@ bil@@ isi , a 3 - minute walk away from saint tr@@ inity church .'\n",
    "assert data_out[500] == 'некоторые номера также располага@@ ют бал@@ ко@@ ном или тер@@ ра@@ со@@ й .'"
   ]
  },
  {
   "cell_type": "code",
   "execution_count": 6,
   "metadata": {},
   "outputs": [],
   "source": [
    "from sklearn.model_selection import train_test_split\n",
    "data_inp, data_out = map(np.array, [data_inp, data_out])\n",
    "train_inp, dev_inp, train_out, dev_out = train_test_split(data_inp, data_out, test_size=3000,\n",
    "                                                          random_state=42)"
   ]
  },
  {
   "cell_type": "markdown",
   "metadata": {},
   "source": [
    "### Model\n",
    "\n",
    "For this assignment, you are given a pre-trained neural machine translation model:\n",
    "* bidirectional LSTM encoder\n",
    "* single LSTM decoder with additive attention\n",
    "\n",
    "It was trained till convergence on the general dataset of news, websites and literature.\n"
   ]
  },
  {
   "cell_type": "code",
   "execution_count": 7,
   "metadata": {},
   "outputs": [
    {
     "name": "stderr",
     "output_type": "stream",
     "text": [
      "Using TensorFlow backend.\n"
     ]
    }
   ],
   "source": [
    "import numpy as np\n",
    "import tensorflow as tf\n",
    "import utils\n",
    "tf.reset_default_graph()\n",
    "sess = tf.InteractiveSession()\n",
    "\n",
    "inp_voc = utils.Vocab(open('tokens.en').read().split('\\n'))\n",
    "out_voc = utils.Vocab(open('tokens.ru').read().split('\\n'))\n",
    "\n",
    "model = utils.Model('mod', inp_voc, out_voc)\n",
    "utils.load(tf.trainable_variables(), 'model-pretrained.npz')"
   ]
  },
  {
   "cell_type": "code",
   "execution_count": 8,
   "metadata": {},
   "outputs": [
    {
     "name": "stdout",
     "output_type": "stream",
     "text": [
      "['я - памят@@ ник всем гре@@ ха@@ м']\n"
     ]
    }
   ],
   "source": [
    "src = 'i am the monument to all your sins'\n",
    "src = bpe['en'].process_line(tokenize(src))\n",
    "trans, _ = model.translate_lines([src])\n",
    "print(trans)"
   ]
  },
  {
   "cell_type": "markdown",
   "metadata": {},
   "source": [
    "### Estimate baseline quality\n",
    "\n",
    "As before, we shall estimate our model's quality using [BLEU](https://en.wikipedia.org/wiki/BLEU) metric.\n",
    "\n",
    "This metric simply computes which fraction of predicted n-grams is actually present in the reference translation. It does so for n=1,2,3 and 4 and computes the geometric average with penalty if translation is shorter than reference.\n",
    "\n",
    "One important thing about BLEU is that it is usually computed on a __corpora level__:\n",
    "* first you count precisions over the entire test set\n",
    "* then you do the geometric averaging and apply penalties"
   ]
  },
  {
   "cell_type": "code",
   "execution_count": 9,
   "metadata": {},
   "outputs": [],
   "source": [
    "from nltk.translate.bleu_score import corpus_bleu\n",
    "def bleu(references, translations):\n",
    "    \"\"\" Estimates corpora-level BLEU score of predicted translations given references \"\"\"\n",
    "    return corpus_bleu([[ref.split()] for ref in references], \n",
    "                       [trans.split() for trans in translations]) * 100"
   ]
  },
  {
   "cell_type": "code",
   "execution_count": 10,
   "metadata": {},
   "outputs": [
    {
     "data": {
      "text/plain": [
       "58.143073696821936"
      ]
     },
     "execution_count": 10,
     "metadata": {},
     "output_type": "execute_result"
    }
   ],
   "source": [
    "bleu(['a cat sat on a mat', 'i love bees'], \n",
    "     ['a cat sat on a cat', 'i hate people'])"
   ]
  },
  {
   "cell_type": "markdown",
   "metadata": {},
   "source": [
    "__Task 1 (1 point):__ evaluate baseline BLEU\n"
   ]
  },
  {
   "cell_type": "code",
   "execution_count": 11,
   "metadata": {},
   "outputs": [],
   "source": [
    "def evaluate(model, inp_lines, out_lines):\n",
    "    \"\"\"\n",
    "    Estimates model's corpora level bleu\n",
    "    :param inp_lines: a list of BPE strings in source language\n",
    "    :param out_lines: a list of BPE strings in target language\n",
    "    :returns: model's BLEU (float scalar)\n",
    "    \n",
    "    Important:\n",
    "    * Make sure to de-BPEize both translations and references. You can do that with str.replace\n",
    "    * Use model.translate_lines with default max_len\n",
    "    * If you're low on RAM, split data in several batches and translate sequentially\n",
    "    \"\"\"\n",
    "    trans, _ = model.translate_lines(inp_lines)\n",
    "    trans = [translation.replace('@@ ', '') for translation in trans]\n",
    "    \n",
    "    return bleu(out_lines, trans)"
   ]
  },
  {
   "cell_type": "code",
   "execution_count": 12,
   "metadata": {},
   "outputs": [
    {
     "data": {
      "text/plain": [
       "8.155365386733743"
      ]
     },
     "execution_count": 12,
     "metadata": {},
     "output_type": "execute_result"
    }
   ],
   "source": [
    "evaluate(model, dev_inp[:500], dev_out[:500])"
   ]
  },
  {
   "cell_type": "markdown",
   "metadata": {},
   "source": [
    "### Naive training (1.5 points)\n",
    "\n",
    "The simplest thing you can do in supervised domain adaptation is to simply fine-tune your model on the target domain data.\n",
    "\n",
    "Here's a reminder of what training objective looks like:\n",
    "$$ L = {\\frac1{|D|}} \\sum_{X, Y \\in D} \\sum_{y_t \\in Y} - \\log p(y_t \\mid y_1, \\dots, y_{t-1}, X, \\theta) $$\n",
    "\n",
    "where $|D|$ is the __total length of all sequences__.\n",
    "\n"
   ]
  },
  {
   "cell_type": "code",
   "execution_count": 13,
   "metadata": {
    "scrolled": true
   },
   "outputs": [],
   "source": [
    "from utils import select_values_over_last_axis\n",
    "\n",
    "def compute_loss(model, inp, out, **flags):\n",
    "    \"\"\"\n",
    "    Compute loss (float32 scalar) as in the formula above\n",
    "    :param inp: input tokens matrix, int32[batch, time]\n",
    "    :param out: reference tokens matrix, int32[batch, time]\n",
    "    \"\"\"\n",
    "    first_state = model.encode(inp, **flags)\n",
    "    batch_size = tf.shape(inp)[0]\n",
    "    bos = tf.fill([batch_size], model.out_voc.bos_ix)\n",
    "    first_logits = tf.log(tf.one_hot(bos, len(model.out_voc)) + 1e-30)\n",
    "    \n",
    "    def step(blob, y_prev):\n",
    "        h_prev = blob[:-1]\n",
    "        h_new, logits = model.decode(h_prev, y_prev, **flags)\n",
    "        return list(h_new) + [logits]\n",
    "\n",
    "    *states_seq, logits_seq = tf.scan(step,\n",
    "                                       initializer=list(first_state) + [first_logits],\n",
    "                                       elems=tf.transpose(out))\n",
    "\n",
    "    # gather state and logits, each of shape [time, batch, ...]\n",
    "    logits_seq = tf.concat((first_logits[None], logits_seq),axis=0)\n",
    "    #convert from [time, batch,...] to [batch, time, ...]\n",
    "    logits_seq = tf.transpose(logits_seq, [1, 0, 2])\n",
    "    \n",
    "    logprobs_seq = tf.nn.log_softmax(logits_seq, dim=-1)\n",
    "    \n",
    "    logp_out = select_values_over_last_axis(logprobs_seq, out)\n",
    "    mask = utils.infer_mask(out, out_voc.eos_ix)\n",
    "    return -tf.reduce_sum(logp_out * mask) / tf.reduce_sum(mask)"
   ]
  },
  {
   "cell_type": "markdown",
   "metadata": {},
   "source": [
    "### Training loop"
   ]
  },
  {
   "cell_type": "code",
   "execution_count": 14,
   "metadata": {},
   "outputs": [
    {
     "name": "stdout",
     "output_type": "stream",
     "text": [
      "WARNING:tensorflow:From <ipython-input-13-bf9cafc0a3f6>:28: calling log_softmax (from tensorflow.python.ops.nn_ops) with dim is deprecated and will be removed in a future version.\n",
      "Instructions for updating:\n",
      "dim is deprecated, use axis instead\n"
     ]
    }
   ],
   "source": [
    "inp = tf.placeholder('int32', [None, None])\n",
    "out = tf.placeholder('int32', [None, None])\n",
    "\n",
    "loss = compute_loss(model, inp, out)\n",
    "\n",
    "train_step = tf.train.AdamOptimizer().minimize(loss)\n",
    "utils.initialize_uninitialized()"
   ]
  },
  {
   "cell_type": "code",
   "execution_count": 15,
   "metadata": {
    "scrolled": false
   },
   "outputs": [],
   "source": [
    "import matplotlib.pyplot as plt\n",
    "%matplotlib inline\n",
    "from IPython.display import clear_output\n",
    "from tqdm import tqdm, trange\n",
    "\n",
    "batch_size = 128\n",
    "metrics = {'train_loss': [], 'dev_bleu': [] }"
   ]
  },
  {
   "cell_type": "code",
   "execution_count": 16,
   "metadata": {},
   "outputs": [
    {
     "data": {
      "image/png": "[encoded data removed]",
      "text/plain": [
       "<Figure size 864x288 with 2 Axes>"
      ]
     },
     "metadata": {},
     "output_type": "display_data"
    },
    {
     "name": "stdout",
     "output_type": "stream",
     "text": [
      "Mean loss=0.108\n"
     ]
    },
    {
     "name": "stderr",
     "output_type": "stream",
     "text": [
      "100%|██████████| 20000/20000 [4:07:57<00:00,  1.34it/s]\n"
     ]
    }
   ],
   "source": [
    "for _ in trange(20000):\n",
    "    step = len(metrics['train_loss']) + 1\n",
    "    batch_ix = np.random.randint(len(train_inp), size=32)\n",
    "    feed_dict = {\n",
    "        inp: inp_voc.to_matrix(train_inp[batch_ix]),\n",
    "        out: out_voc.to_matrix(train_out[batch_ix]),\n",
    "    }\n",
    "    \n",
    "    loss_t, _ = sess.run([loss, train_step], feed_dict)\n",
    "    metrics['train_loss'].append((step, loss_t))\n",
    "    \n",
    "    if step % 100 == 0:\n",
    "        metrics['dev_bleu'].append((step, evaluate(model, dev_inp, dev_out)))\n",
    "        \n",
    "        clear_output(True)\n",
    "        plt.figure(figsize=(12,4))\n",
    "        for i, (name, history) in enumerate(sorted(metrics.items())):\n",
    "            plt.subplot(1, len(metrics), i + 1)\n",
    "            plt.title(name)\n",
    "            plt.plot(*zip(*history))\n",
    "            plt.grid()\n",
    "        plt.show()\n",
    "        print(\"Mean loss=%.3f\" % np.mean(metrics['train_loss'][-10:], axis=0)[1], flush=True)\n",
    "        \n",
    "# Note: it's okay if bleu oscillates up and down as long as it gets better on average over long term (e.g. 5k batches)"
   ]
  },
  {
   "cell_type": "code",
   "execution_count": 17,
   "metadata": {},
   "outputs": [
    {
     "ename": "AssertionError",
     "evalue": "We kind of need a higher bleu BLEU from you. Kind of right now.",
     "output_type": "error",
     "traceback": [
      "\u001b[0;31m---------------------------------------------------------------------------\u001b[0m",
      "\u001b[0;31mAssertionError\u001b[0m                            Traceback (most recent call last)",
      "\u001b[0;32m<ipython-input-17-8811ea344e54>\u001b[0m in \u001b[0;36m<module>\u001b[0;34m()\u001b[0m\n\u001b[0;32m----> 1\u001b[0;31m \u001b[0;32massert\u001b[0m \u001b[0mnp\u001b[0m\u001b[0;34m.\u001b[0m\u001b[0mmean\u001b[0m\u001b[0;34m(\u001b[0m\u001b[0mmetrics\u001b[0m\u001b[0;34m[\u001b[0m\u001b[0;34m'dev_bleu'\u001b[0m\u001b[0;34m]\u001b[0m\u001b[0;34m[\u001b[0m\u001b[0;34m-\u001b[0m\u001b[0;36m10\u001b[0m\u001b[0;34m:\u001b[0m\u001b[0;34m]\u001b[0m\u001b[0;34m,\u001b[0m \u001b[0maxis\u001b[0m\u001b[0;34m=\u001b[0m\u001b[0;36m0\u001b[0m\u001b[0;34m)\u001b[0m\u001b[0;34m[\u001b[0m\u001b[0;36m1\u001b[0m\u001b[0;34m]\u001b[0m \u001b[0;34m>\u001b[0m \u001b[0;36m30\u001b[0m\u001b[0;34m,\u001b[0m \u001b[0;34m\"We kind of need a higher bleu BLEU from you. Kind of right now.\"\u001b[0m\u001b[0;34m\u001b[0m\u001b[0;34m\u001b[0m\u001b[0m\n\u001b[0m",
      "\u001b[0;31mAssertionError\u001b[0m: We kind of need a higher bleu BLEU from you. Kind of right now."
     ]
    }
   ],
   "source": [
    "assert np.mean(metrics['dev_bleu'][-10:], axis=0)[1] > 30, \"We kind of need a higher bleu BLEU from you. Kind of right now.\""
   ]
  },
  {
   "cell_type": "code",
   "execution_count": null,
   "metadata": {},
   "outputs": [],
   "source": [
    "#print translations of some random dev lines\n",
    "<YOUR CODE>"
   ]
  },
  {
   "cell_type": "markdown",
   "metadata": {},
   "source": [
    "### Domain adaptation with KL penalty (2.5 pts)\n",
    "\n",
    "The problem with fine-tuning is that model can stray too far from the original parameters and forget useful information. One way to mitigate this problem is to use KL penalty:\n",
    "\n",
    "$$ Loss = (1 - \\lambda) \\cdot L_{xent} + \\lambda \\cdot {1 \\over N} \\underset {x, y_t} \\sum KL(P_{teacher}(y_t|x, y_0, ..., y_{t-1}) || P_{student}(y_t|x, y_0, ..., y_{t-1}))$$"
   ]
  },
  {
   "cell_type": "code",
   "execution_count": null,
   "metadata": {},
   "outputs": [],
   "source": [
    "tf.reset_default_graph()\n",
    "sess = tf.InteractiveSession()\n",
    "\n",
    "model = utils.Model('mod', inp_voc, out_voc)\n",
    "utils.load(tf.trainable_variables(), 'model-pretrained.npz')\n",
    "\n",
    "teacher = utils.Model('teacher', inp_voc, out_voc)\n",
    "\n",
    "teacher_ckpt = np.load('model-pretrained.npz')\n",
    "teacher_ckpt = { name.replace('mod/', 'teacher/'): teacher_ckpt[name] for name in teacher_ckpt}\n",
    "np.savez('teacher.npz', **teacher_ckpt)\n",
    "utils.load(tf.trainable_variables(), 'teacher.npz')"
   ]
  },
  {
   "cell_type": "code",
   "execution_count": null,
   "metadata": {},
   "outputs": [],
   "source": [
    "\n",
    "def compute_loss_with_kl(model, teacher, inp, out, lambda_coeff=0.25, **flags):\n",
    "    \"\"\"\n",
    "    Compute loss (float32 scalar) as in the formula above\n",
    "    :param inp: input tokens matrix, int32[batch, time]\n",
    "    :param out: reference tokens matrix, int32[batch, time]\n",
    "    :param lambda_coeff: lambda from the formula above.\n",
    "    \n",
    "    use lambda_coeff from outer scope\n",
    "    \"\"\"\n",
    "    \n",
    "    loss = <YOUR CODE>\n",
    "    \n",
    "    return loss"
   ]
  },
  {
   "cell_type": "code",
   "execution_count": null,
   "metadata": {},
   "outputs": [],
   "source": [
    "### Do it yourself: create training step operations and \n",
    "# feel free to copy the code from simple fine-tuning\n",
    "<YOUR CODE>"
   ]
  },
  {
   "cell_type": "code",
   "execution_count": null,
   "metadata": {},
   "outputs": [],
   "source": [
    "<YOUR CODE: training loop>"
   ]
  },
  {
   "cell_type": "code",
   "execution_count": null,
   "metadata": {},
   "outputs": [],
   "source": [
    "### Do it yourself: estimate the final quality\n",
    "# feel free to reuse the code from simple fine-tuning\n",
    "<YOUR CODE>"
   ]
  },
  {
   "cell_type": "markdown",
   "metadata": {},
   "source": [
    "### Bonus tasks:\n",
    "Both tasks start at 3 points for basic solution and a ton more if you do something as awesome as the stuff from the lecture.\n",
    "\n",
    "1. __Domain adaptation with unlabeled data:__\n",
    " * In machine translation, it's relatively easy to obtain unparallel data. For the hotels task, there's almost 10x as large a corpora available if you \n",
    " * Download the full data [here](https://yadi.sk/d/zrYuTKQ63S33m3)\n",
    " * The dataset was originally provided by [Tilde](https://www.tilde.com/). Huge thanks to them! :)\n",
    " * The goal is simple: improve the model using the extra data. You can use proxy labels, pre-train as language model or do literally anything else.\n",
    " * Using extra out-of-domain data, whether parallel or not, is also encouraged. Here's [statmt](http://www.statmt.org/) with parallel corpora section at the bottom.\n",
    "\n",
    " \n",
    "2. __Beam search:__\n",
    " * While it's not related to domain adaption, beam search is a good general way to improve model inference.\n",
    " * The key idea of beam search if to consider not top-1 but top-K hypotheses at each step\n",
    " * In the example below, k=4\n",
    " * Whenever a hypothesis in top-K is finished (with a `_EOS_`), record it and remember it's score.\n",
    " * Iterate until all hypotheses are already worse than the best finished hypo."
   ]
  },
  {
   "cell_type": "code",
   "execution_count": null,
   "metadata": {},
   "outputs": [],
   "source": [
    "!wget https://raw.githubusercontent.com/yandexdataschool/nlp_course/master/resources/beam_search.html 2> log\n",
    "from IPython.display import HTML\n",
    "# source: parlament does not support the amendment freeing tymoshenko\n",
    "HTML('./beam_search.html')"
   ]
  }
 ],
 "metadata": {
  "kernelspec": {
   "display_name": "Python 2",
   "language": "python",
   "name": "python2"
  },
  "language_info": {
   "codemirror_mode": {
    "name": "ipython",
    "version": 2
   },
   "file_extension": ".py",
   "mimetype": "text/x-python",
   "name": "python",
   "nbconvert_exporter": "python",
   "pygments_lexer": "ipython2",
   "version": "2.7.6"
  }
 },
 "nbformat": 4,
 "nbformat_minor": 1
}
