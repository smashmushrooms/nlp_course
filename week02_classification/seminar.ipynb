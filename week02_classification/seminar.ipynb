{
 "cells": [
  {
   "cell_type": "markdown",
   "metadata": {},
   "source": [
    "# Large scale text analysis with deep learning (3 points)\n",
    "\n",
    "Today we're gonna apply the newly learned tools for the task of predicting job salary.\n",
    "\n",
    "<img src=\"https://kaggle2.blob.core.windows.net/competitions/kaggle/3342/media/salary%20prediction%20engine%20v2.png\" width=400px>\n",
    "\n",
    "_Special thanks to [Oleg Vasilev](https://github.com/Omrigan/) for the core assignment idea._"
   ]
  },
  {
   "cell_type": "code",
   "execution_count": 1,
   "metadata": {},
   "outputs": [],
   "source": [
    "import numpy as np\n",
    "import pandas as pd\n",
    "import matplotlib.pyplot as plt\n",
    "%matplotlib inline"
   ]
  },
  {
   "cell_type": "markdown",
   "metadata": {},
   "source": [
    "### About the challenge\n",
    "For starters, let's download and unpack the data from [here](https://www.dropbox.com/s/5msc5ix7ndyba10/Train_rev1.csv.tar.gz?dl=0). \n",
    "\n",
    "You can also get it from [yadisk url](https://yadi.sk/d/vVEOWPFY3NruT7) the competition [page](https://www.kaggle.com/c/job-salary-prediction/data) (pick `Train_rev1.*`)."
   ]
  },
  {
   "cell_type": "code",
   "execution_count": 2,
   "metadata": {},
   "outputs": [
    {
     "name": "stdout",
     "output_type": "stream",
     "text": [
      " comments.tsv\t        README.md\t Train_rev1.csv.tar.gz\r\n",
      " homework_part1.ipynb   seminar.ipynb\t'Train_rev1.csv.tar.gz?dl=1'\r\n",
      " homework_part2.ipynb   Train_rev1.csv\r\n"
     ]
    }
   ],
   "source": [
    "!ls"
   ]
  },
  {
   "cell_type": "code",
   "execution_count": 3,
   "metadata": {},
   "outputs": [
    {
     "name": "stdout",
     "output_type": "stream",
     "text": [
      "--2018-10-01 01:10:55--  https://www.dropbox.com/s/5msc5ix7ndyba10/Train_rev1.csv.tar.gz\n",
      "Resolving www.dropbox.com (www.dropbox.com)... 162.125.66.1, 2620:100:6022:1::a27d:4201\n",
      "Connecting to www.dropbox.com (www.dropbox.com)|162.125.66.1|:443... connected.\n",
      "HTTP request sent, awaiting response... 301 Moved Permanently\n",
      "Location: /s/raw/5msc5ix7ndyba10/Train_rev1.csv.tar.gz [following]\n",
      "--2018-10-01 01:10:56--  https://www.dropbox.com/s/raw/5msc5ix7ndyba10/Train_rev1.csv.tar.gz\n",
      "Reusing existing connection to www.dropbox.com:443.\n",
      "HTTP request sent, awaiting response... 302 Found\n",
      "Location: https://uc7d7466d1e7e124ef70154fe975.dl.dropboxusercontent.com/cd/0/inline/AR3B_YWhYKPeozv3mXKna7xeHt78w8XITu03QhR863IjpU1tHUvnhHp5QxA9T1uMXxZ7himvHTW52M_5CSLUbK3OEgmO_7QH-bRbFqzIjL89JwzuHbAAQ9sPYu91XDKogfVnB2Oc29whc8YBBodm__w4gw0R5O6iOCQjy8uNjz-erlQWrKU0l0X2DXh8YCzJXHU/file [following]\n",
      "--2018-10-01 01:10:56--  https://uc7d7466d1e7e124ef70154fe975.dl.dropboxusercontent.com/cd/0/inline/AR3B_YWhYKPeozv3mXKna7xeHt78w8XITu03QhR863IjpU1tHUvnhHp5QxA9T1uMXxZ7himvHTW52M_5CSLUbK3OEgmO_7QH-bRbFqzIjL89JwzuHbAAQ9sPYu91XDKogfVnB2Oc29whc8YBBodm__w4gw0R5O6iOCQjy8uNjz-erlQWrKU0l0X2DXh8YCzJXHU/file\n",
      "Resolving uc7d7466d1e7e124ef70154fe975.dl.dropboxusercontent.com (uc7d7466d1e7e124ef70154fe975.dl.dropboxusercontent.com)... 162.125.66.6, 2620:100:6022:6::a27d:4206\n",
      "Connecting to uc7d7466d1e7e124ef70154fe975.dl.dropboxusercontent.com (uc7d7466d1e7e124ef70154fe975.dl.dropboxusercontent.com)|162.125.66.6|:443... connected.\n",
      "HTTP request sent, awaiting response... 302 FOUND\n",
      "Location: /cd/0/inline2/AR3h4Rr6G3ut5z_ge5mCWmt1Z7i-uC6d65eZSAm3ikfP3WowH5GLbfKAXEtnwjUn63X2gsxJO7CJJGMioEKh0d1ue7sV3feAi_JvZuvb3PQniTCGAYj9vgIObo0gpAsewhxBgzZGc1s--Nygl7UQZJYF5WxkXa8mrOuMvjdn1gzWL6G-SNayoGdk68NsVBmXff8qcBvojlZ3zqMnhM9cfrTqJ8fm6J3sFe0NgHatg01osLwolLvINgifzG-BPv7A9Gd2KzqB8hTkSPTfXWAI8Mh2pi2dZ-oRkjzBb4OW0HBmGrLCF2AH9X99DW0VqhW-wXyhtbZNaezXHGJP66CYnwi1xhl9ubjFpW7dvFzDlVcxtMANYpTeWEj1dnZnurPdKz08e_LNQIsmnGEgtPVeFqQjebbImDeIsyZYt7I0EB4LcSfDwVtF2LdJFP30hllsT7w/file [following]\n",
      "--2018-10-01 01:10:57--  https://uc7d7466d1e7e124ef70154fe975.dl.dropboxusercontent.com/cd/0/inline2/AR3h4Rr6G3ut5z_ge5mCWmt1Z7i-uC6d65eZSAm3ikfP3WowH5GLbfKAXEtnwjUn63X2gsxJO7CJJGMioEKh0d1ue7sV3feAi_JvZuvb3PQniTCGAYj9vgIObo0gpAsewhxBgzZGc1s--Nygl7UQZJYF5WxkXa8mrOuMvjdn1gzWL6G-SNayoGdk68NsVBmXff8qcBvojlZ3zqMnhM9cfrTqJ8fm6J3sFe0NgHatg01osLwolLvINgifzG-BPv7A9Gd2KzqB8hTkSPTfXWAI8Mh2pi2dZ-oRkjzBb4OW0HBmGrLCF2AH9X99DW0VqhW-wXyhtbZNaezXHGJP66CYnwi1xhl9ubjFpW7dvFzDlVcxtMANYpTeWEj1dnZnurPdKz08e_LNQIsmnGEgtPVeFqQjebbImDeIsyZYt7I0EB4LcSfDwVtF2LdJFP30hllsT7w/file\n",
      "Reusing existing connection to uc7d7466d1e7e124ef70154fe975.dl.dropboxusercontent.com:443.\n",
      "HTTP request sent, awaiting response... 200 OK\n",
      "Length: 125441781 (120M) [application/octet-stream]\n",
      "Saving to: ‘Train_rev1.csv.tar.gz.1’\n",
      "\n",
      "Train_rev1.csv.tar. 100%[===================>] 119,63M  8,05MB/s    in 16s     \n",
      "\n",
      "2018-10-01 01:11:14 (7,62 MB/s) - ‘Train_rev1.csv.tar.gz.1’ saved [125441781/125441781]\n",
      "\n",
      "Train_rev1.csv\n"
     ]
    },
    {
     "data": {
      "text/plain": [
       "(244768, 12)"
      ]
     },
     "execution_count": 3,
     "metadata": {},
     "output_type": "execute_result"
    }
   ],
   "source": [
    "!wget https://www.dropbox.com/s/5msc5ix7ndyba10/Train_rev1.csv.tar.gz\n",
    "!tar -xvzf ./Train_rev1.csv.tar.gz\n",
    "data = pd.read_csv(\"./Train_rev1.csv\", index_col=None)\n",
    "data.shape"
   ]
  },
  {
   "cell_type": "markdown",
   "metadata": {},
   "source": [
    "One problem with salary prediction is that it's oddly distributed: there are many people who are paid standard salaries and a few that get tons o money. The distribution is fat-tailed on the right side, which is inconvenient for MSE minimization.\n",
    "\n",
    "There are several techniques to combat this: using a different loss function, predicting log-target instead of raw target or even replacing targets with their percentiles among all salaries in the training set. We gonna use logarithm for now.\n",
    "\n",
    "_You can read more [in the official description](https://www.kaggle.com/c/job-salary-prediction#description)._"
   ]
  },
  {
   "cell_type": "code",
   "execution_count": 4,
   "metadata": {},
   "outputs": [
    {
     "data": {
      "image/png": "[encoded data removed]",
      "text/plain": [
       "<Figure size 576x288 with 2 Axes>"
      ]
     },
     "metadata": {
      "needs_background": "light"
     },
     "output_type": "display_data"
    }
   ],
   "source": [
    "data['Log1pSalary'] = np.log1p(data['SalaryNormalized']).astype('float32')\n",
    "\n",
    "plt.figure(figsize=[8, 4])\n",
    "plt.subplot(1, 2, 1)\n",
    "plt.hist(data[\"SalaryNormalized\"], bins=20);\n",
    "\n",
    "plt.subplot(1, 2, 2)\n",
    "plt.hist(data['Log1pSalary'], bins=20);"
   ]
  },
  {
   "cell_type": "markdown",
   "metadata": {},
   "source": [
    "Our task is to predict one number, __Log1pSalary__.\n",
    "\n",
    "To do so, our model can access a number of features:\n",
    "* Free text: __`Title`__ and  __`FullDescription`__\n",
    "* Categorical: __`Category`__, __`Company`__, __`LocationNormalized`__, __`ContractType`__, and __`ContractTime`__."
   ]
  },
  {
   "cell_type": "code",
   "execution_count": 5,
   "metadata": {},
   "outputs": [
    {
     "data": {
      "text/html": [
       "<div>\n",
       "<style scoped>\n",
       "    .dataframe tbody tr th:only-of-type {\n",
       "        vertical-align: middle;\n",
       "    }\n",
       "\n",
       "    .dataframe tbody tr th {\n",
       "        vertical-align: top;\n",
       "    }\n",
       "\n",
       "    .dataframe thead th {\n",
       "        text-align: right;\n",
       "    }\n",
       "</style>\n",
       "<table border=\"1\" class=\"dataframe\">\n",
       "  <thead>\n",
       "    <tr style=\"text-align: right;\">\n",
       "      <th></th>\n",
       "      <th>Id</th>\n",
       "      <th>Title</th>\n",
       "      <th>FullDescription</th>\n",
       "      <th>LocationRaw</th>\n",
       "      <th>LocationNormalized</th>\n",
       "      <th>ContractType</th>\n",
       "      <th>ContractTime</th>\n",
       "      <th>Company</th>\n",
       "      <th>Category</th>\n",
       "      <th>SalaryRaw</th>\n",
       "      <th>SalaryNormalized</th>\n",
       "      <th>SourceName</th>\n",
       "      <th>Log1pSalary</th>\n",
       "    </tr>\n",
       "  </thead>\n",
       "  <tbody>\n",
       "    <tr>\n",
       "      <th>225017</th>\n",
       "      <td>72437716</td>\n",
       "      <td>Sales Manager</td>\n",
       "      <td>Eden Scott s client is a reputable hotel group...</td>\n",
       "      <td>Derby, Derbyshire, UK, Derbyshire</td>\n",
       "      <td>Derby</td>\n",
       "      <td>NaN</td>\n",
       "      <td>NaN</td>\n",
       "      <td>Eden Scott</td>\n",
       "      <td>Hospitality &amp; Catering Jobs</td>\n",
       "      <td>From 25,000 to 28,000 per annum dependent on e...</td>\n",
       "      <td>26500</td>\n",
       "      <td>jobs.catererandhotelkeeper.com</td>\n",
       "      <td>10.184937</td>\n",
       "    </tr>\n",
       "    <tr>\n",
       "      <th>204470</th>\n",
       "      <td>71965771</td>\n",
       "      <td>Quality Control Manager</td>\n",
       "      <td>Quality Control Manager Ref: **** An internati...</td>\n",
       "      <td>UK</td>\n",
       "      <td>UK</td>\n",
       "      <td>NaN</td>\n",
       "      <td>NaN</td>\n",
       "      <td>SCI Recruitment for Scientists</td>\n",
       "      <td>Scientific &amp; QA Jobs</td>\n",
       "      <td>40,000+</td>\n",
       "      <td>40000</td>\n",
       "      <td>access-sciencejobs.co.uk</td>\n",
       "      <td>10.596660</td>\n",
       "    </tr>\n",
       "    <tr>\n",
       "      <th>151863</th>\n",
       "      <td>70770403</td>\n",
       "      <td>iOS Developer Cambridge ****k</td>\n",
       "      <td>iOS Developer Cambridge ****k An exciting oppo...</td>\n",
       "      <td>Cambridge, Cambridgeshire</td>\n",
       "      <td>Cambridge</td>\n",
       "      <td>NaN</td>\n",
       "      <td>permanent</td>\n",
       "      <td>Greywood Associates Ltd</td>\n",
       "      <td>IT Jobs</td>\n",
       "      <td>30000 - 40000/annum Benefits</td>\n",
       "      <td>35000</td>\n",
       "      <td>cv-library.co.uk</td>\n",
       "      <td>10.463132</td>\n",
       "    </tr>\n",
       "  </tbody>\n",
       "</table>\n",
       "</div>"
      ],
      "text/plain": [
       "              Id                          Title  \\\n",
       "225017  72437716                  Sales Manager   \n",
       "204470  71965771        Quality Control Manager   \n",
       "151863  70770403  iOS Developer Cambridge ****k   \n",
       "\n",
       "                                          FullDescription  \\\n",
       "225017  Eden Scott s client is a reputable hotel group...   \n",
       "204470  Quality Control Manager Ref: **** An internati...   \n",
       "151863  iOS Developer Cambridge ****k An exciting oppo...   \n",
       "\n",
       "                              LocationRaw LocationNormalized ContractType  \\\n",
       "225017  Derby, Derbyshire, UK, Derbyshire              Derby          NaN   \n",
       "204470                                 UK                 UK          NaN   \n",
       "151863          Cambridge, Cambridgeshire          Cambridge          NaN   \n",
       "\n",
       "       ContractTime                         Company  \\\n",
       "225017          NaN                      Eden Scott   \n",
       "204470          NaN  SCI Recruitment for Scientists   \n",
       "151863    permanent         Greywood Associates Ltd   \n",
       "\n",
       "                           Category  \\\n",
       "225017  Hospitality & Catering Jobs   \n",
       "204470         Scientific & QA Jobs   \n",
       "151863                      IT Jobs   \n",
       "\n",
       "                                                SalaryRaw  SalaryNormalized  \\\n",
       "225017  From 25,000 to 28,000 per annum dependent on e...             26500   \n",
       "204470                                            40,000+             40000   \n",
       "151863                       30000 - 40000/annum Benefits             35000   \n",
       "\n",
       "                            SourceName  Log1pSalary  \n",
       "225017  jobs.catererandhotelkeeper.com    10.184937  \n",
       "204470        access-sciencejobs.co.uk    10.596660  \n",
       "151863                cv-library.co.uk    10.463132  "
      ]
     },
     "execution_count": 5,
     "metadata": {},
     "output_type": "execute_result"
    }
   ],
   "source": [
    "text_columns = [\"Title\", \"FullDescription\"]\n",
    "categorical_columns = [\"Category\", \"Company\", \"LocationNormalized\", \"ContractType\", \"ContractTime\"]\n",
    "target_column = \"Log1pSalary\"\n",
    "\n",
    "data[categorical_columns] = data[categorical_columns].fillna('NaN') # cast missing values to string \"NaN\"\n",
    "\n",
    "data.sample(3)"
   ]
  },
  {
   "cell_type": "markdown",
   "metadata": {},
   "source": [
    "### Preprocessing text data\n",
    "\n",
    "Just like last week, applying NLP to a problem begins from tokenization: splitting raw text into sequences of tokens (words, punctuation, etc).\n",
    "\n",
    "__Your task__ is to lowercase and tokenize all texts under `Title` and `FullDescription` columns. Store the tokenized data as a __space-separated__ string of tokens for performance reasons.\n",
    "\n",
    "It's okay to use nltk tokenizers. Assertions were designed for WordPunctTokenizer, slight deviations are okay."
   ]
  },
  {
   "cell_type": "code",
   "execution_count": 6,
   "metadata": {},
   "outputs": [
    {
     "name": "stdout",
     "output_type": "stream",
     "text": [
      "Raw text:\n",
      "2         Mathematical Modeller / Simulation Analyst / O...\n",
      "100002    A successful and high achieving specialist sch...\n",
      "200002    Web Designer  HTML, CSS, JavaScript, Photoshop...\n",
      "Name: FullDescription, dtype: object\n"
     ]
    }
   ],
   "source": [
    "print(\"Raw text:\")\n",
    "print(data[\"FullDescription\"][2::100000])"
   ]
  },
  {
   "cell_type": "code",
   "execution_count": 7,
   "metadata": {},
   "outputs": [],
   "source": [
    "import nltk\n",
    "tokenizer = nltk.tokenize.WordPunctTokenizer()\n",
    "\n",
    "data[\"FullDescription\"] = data[\"FullDescription\"].astype(str).apply(\n",
    "    lambda x: ' '.join(tokenizer.tokenize(x.lower())), 1)\n",
    "data[\"Title\"] = data[\"Title\"].astype(str).apply(\n",
    "    lambda x: ' '.join(tokenizer.tokenize(x.lower())), 1)"
   ]
  },
  {
   "cell_type": "markdown",
   "metadata": {},
   "source": [
    "Now we can assume that our text is a space-separated list of tokens:"
   ]
  },
  {
   "cell_type": "code",
   "execution_count": 8,
   "metadata": {},
   "outputs": [
    {
     "name": "stdout",
     "output_type": "stream",
     "text": [
      "Tokenized:\n",
      "2         mathematical modeller / simulation analyst / o...\n",
      "100002    a successful and high achieving specialist sch...\n",
      "200002    web designer html , css , javascript , photosh...\n",
      "Name: FullDescription, dtype: object\n"
     ]
    }
   ],
   "source": [
    "print(\"Tokenized:\")\n",
    "print(data[\"FullDescription\"][2::100000])\n",
    "assert data[\"FullDescription\"][2][:50] == 'mathematical modeller / simulation analyst / opera'\n",
    "assert data[\"Title\"][54321] == 'international digital account manager ( german )'"
   ]
  },
  {
   "cell_type": "markdown",
   "metadata": {},
   "source": [
    "Not all words are equally useful. Some of them are typos or rare words that are only present a few times. \n",
    "\n",
    "Let's count how many times is each word present in the data so that we can build a \"white list\" of known words."
   ]
  },
  {
   "cell_type": "code",
   "execution_count": 9,
   "metadata": {},
   "outputs": [],
   "source": [
    "# Count how many times does each token occur in both \"Title\" and \"FullDescription\" in total\n",
    "# build a dictionary { token -> it's count }\n",
    "from collections import Counter\n",
    "\n",
    "tokens = []\n",
    "for title in data[\"Title\"]:\n",
    "    tokens += title.split()\n",
    "for title in data[\"FullDescription\"]:\n",
    "    tokens += title.split()\n",
    "    \n",
    "token_counts = Counter(tokens)\n",
    "\n",
    "# hint: you may or may not want to use collections.Counter"
   ]
  },
  {
   "cell_type": "code",
   "execution_count": 10,
   "metadata": {},
   "outputs": [
    {
     "name": "stdout",
     "output_type": "stream",
     "text": [
      "Total unique tokens : 202704\n",
      "('and', 2657388)\n",
      "('.', 2523216)\n",
      "(',', 2318606)\n",
      "('the', 2080994)\n",
      "('to', 2019884)\n",
      "...\n",
      "('stephanietraveltraderecruitmnt', 1)\n",
      "('ruabon', 1)\n",
      "('lowehays', 1)\n",
      "Correct!\n"
     ]
    }
   ],
   "source": [
    "print(\"Total unique tokens :\", len(token_counts))\n",
    "print('\\n'.join(map(str, token_counts.most_common(n=5))))\n",
    "print('...')\n",
    "print('\\n'.join(map(str, token_counts.most_common()[-3:])))\n",
    "\n",
    "assert token_counts.most_common(1)[0][1] in  range(2600000, 2700000)\n",
    "assert len(token_counts) in range(200000, 210000)\n",
    "print('Correct!')"
   ]
  },
  {
   "cell_type": "code",
   "execution_count": 11,
   "metadata": {},
   "outputs": [
    {
     "data": {
      "image/png": "[encoded data removed]",
      "text/plain": [
       "<Figure size 432x288 with 1 Axes>"
      ]
     },
     "metadata": {
      "needs_background": "light"
     },
     "output_type": "display_data"
    }
   ],
   "source": [
    "# Let's see how many words are there for each count\n",
    "plt.hist(list(token_counts.values()), range=[0, 10**4], bins=50, log=True)\n",
    "plt.xlabel(\"Word counts\");"
   ]
  },
  {
   "cell_type": "markdown",
   "metadata": {},
   "source": [
    "Now filter tokens a list of all tokens that occur at least 10 times."
   ]
  },
  {
   "cell_type": "code",
   "execution_count": 12,
   "metadata": {},
   "outputs": [],
   "source": [
    "min_count = 10\n",
    "\n",
    "# tokens from token_counts keys that had at least min_count occurrences throughout the dataset\n",
    "tokens = [token for token, count in token_counts.items() if count >= min_count]"
   ]
  },
  {
   "cell_type": "code",
   "execution_count": 13,
   "metadata": {},
   "outputs": [
    {
     "name": "stdout",
     "output_type": "stream",
     "text": [
      "Vocabulary size: 34158\n",
      "Correct!\n"
     ]
    }
   ],
   "source": [
    "# Add a special tokens for unknown and empty words\n",
    "UNK, PAD = \"UNK\", \"PAD\"\n",
    "tokens = [UNK, PAD] + sorted(tokens)\n",
    "print(\"Vocabulary size:\", len(tokens))\n",
    "\n",
    "assert type(tokens) == list\n",
    "assert len(tokens) in range(32000, 35000)\n",
    "assert 'me' in tokens\n",
    "assert UNK in tokens\n",
    "print(\"Correct!\")"
   ]
  },
  {
   "cell_type": "markdown",
   "metadata": {},
   "source": [
    "Build an inverse token index: a dictionary from token(string) to it's index in `tokens` (int)"
   ]
  },
  {
   "cell_type": "code",
   "execution_count": 14,
   "metadata": {},
   "outputs": [],
   "source": [
    "token_to_id = {token: id for id, token in enumerate(tokens)}"
   ]
  },
  {
   "cell_type": "code",
   "execution_count": 15,
   "metadata": {},
   "outputs": [
    {
     "name": "stdout",
     "output_type": "stream",
     "text": [
      "Correct!\n"
     ]
    }
   ],
   "source": [
    "assert isinstance(token_to_id, dict)\n",
    "assert len(token_to_id) == len(tokens)\n",
    "for tok in tokens:\n",
    "    assert tokens[token_to_id[tok]] == tok\n",
    "\n",
    "print(\"Correct!\")"
   ]
  },
  {
   "cell_type": "markdown",
   "metadata": {},
   "source": [
    "And finally, let's use the vocabulary you've built to map text lines into neural network-digestible matrices."
   ]
  },
  {
   "cell_type": "code",
   "execution_count": 16,
   "metadata": {},
   "outputs": [],
   "source": [
    "UNK_IX, PAD_IX = map(token_to_id.get, [UNK, PAD])\n",
    "\n",
    "def as_matrix(sequences, max_len=None):\n",
    "    \"\"\" Convert a list of tokens into a matrix with padding \"\"\"\n",
    "    if isinstance(sequences[0], str):\n",
    "        sequences = list(map(str.split, sequences))\n",
    "        \n",
    "    max_len = min(max(map(len, sequences)), max_len or float('inf'))\n",
    "    \n",
    "    matrix = np.full((len(sequences), max_len), np.int32(PAD_IX))\n",
    "    for i,seq in enumerate(sequences):\n",
    "        row_ix = [token_to_id.get(word, UNK_IX) for word in seq[:max_len]]\n",
    "        matrix[i, :len(row_ix)] = row_ix\n",
    "    \n",
    "    return matrix"
   ]
  },
  {
   "cell_type": "code",
   "execution_count": 17,
   "metadata": {},
   "outputs": [
    {
     "name": "stdout",
     "output_type": "stream",
     "text": [
      "Lines:\n",
      "engineering systems analyst\n",
      "hr assistant\n",
      "senior ec & i engineer\n",
      "\n",
      "Matrix:\n",
      "[[10807 30161  2166     1     1]\n",
      " [15020  2844     1     1     1]\n",
      " [27645 10201    16 15215 10804]]\n"
     ]
    }
   ],
   "source": [
    "print(\"Lines:\")\n",
    "print('\\n'.join(data[\"Title\"][::100000].values), end='\\n\\n')\n",
    "print(\"Matrix:\")\n",
    "print(as_matrix(data[\"Title\"][::100000]))"
   ]
  },
  {
   "cell_type": "markdown",
   "metadata": {},
   "source": [
    "Now let's  encode the categirical data we have.\n",
    "\n",
    "As usual, we shall use one-hot encoding for simplicity. Kudos if you implement more advanced encodings: tf-idf, pseudo-time-series, etc."
   ]
  },
  {
   "cell_type": "code",
   "execution_count": 18,
   "metadata": {},
   "outputs": [
    {
     "data": {
      "text/plain": [
       "DictVectorizer(dtype=<class 'numpy.float32'>, separator='=', sort=True,\n",
       "        sparse=False)"
      ]
     },
     "execution_count": 18,
     "metadata": {},
     "output_type": "execute_result"
    }
   ],
   "source": [
    "from sklearn.feature_extraction import DictVectorizer\n",
    "\n",
    "# we only consider top-1k most frequent companies to minimize memory usage\n",
    "top_companies, top_counts = zip(*Counter(data['Company']).most_common(1000))\n",
    "recognized_companies = set(top_companies)\n",
    "data[\"Company\"] = data[\"Company\"].apply(lambda comp: comp if comp in recognized_companies else \"Other\")\n",
    "\n",
    "categorical_vectorizer = DictVectorizer(dtype=np.float32, sparse=False)\n",
    "categorical_vectorizer.fit(data[categorical_columns].apply(dict, axis=1))"
   ]
  },
  {
   "cell_type": "markdown",
   "metadata": {},
   "source": [
    "### The deep learning part\n",
    "\n",
    "Once we've learned to tokenize the data, let's design a machine learning experiment.\n",
    "\n",
    "As before, we won't focus too much on validation, opting for a simple train-test split.\n",
    "\n",
    "__To be completely rigorous,__ we've comitted a small crime here: we used the whole data for tokenization and vocabulary building. A more strict way would be to do that part on training set only. You may want to do that and measure the magnitude of changes."
   ]
  },
  {
   "cell_type": "code",
   "execution_count": 19,
   "metadata": {},
   "outputs": [
    {
     "name": "stdout",
     "output_type": "stream",
     "text": [
      "Train size =  195814\n",
      "Validation size =  48954\n"
     ]
    }
   ],
   "source": [
    "from sklearn.model_selection import train_test_split\n",
    "\n",
    "data_train, data_val = train_test_split(data, test_size=0.2, random_state=42)\n",
    "data_train.index = range(len(data_train))\n",
    "data_val.index = range(len(data_val))\n",
    "\n",
    "print(\"Train size = \", len(data_train))\n",
    "print(\"Validation size = \", len(data_val))"
   ]
  },
  {
   "cell_type": "code",
   "execution_count": 20,
   "metadata": {},
   "outputs": [],
   "source": [
    "def make_batch(data, max_len=None, word_dropout=0):\n",
    "    \"\"\"\n",
    "    Creates a keras-friendly dict from the batch data.\n",
    "    :param word_dropout: replaces token index with UNK_IX with this probability\n",
    "    :returns: a dict with {'title' : int64[batch, title_max_len]\n",
    "    \"\"\"\n",
    "    batch = {}\n",
    "    batch[\"Title\"] = as_matrix(data[\"Title\"].values, max_len)\n",
    "    batch[\"FullDescription\"] = as_matrix(data[\"FullDescription\"].values, max_len)\n",
    "    batch['Categorical'] = categorical_vectorizer.transform(data[categorical_columns].apply(dict, axis=1))\n",
    "    \n",
    "    if word_dropout != 0:\n",
    "        batch[\"FullDescription\"] = apply_word_dropout(batch[\"FullDescription\"], 1. - word_dropout)\n",
    "    \n",
    "    if target_column in data.columns:\n",
    "        batch[target_column] = data[target_column].values\n",
    "    \n",
    "    return batch\n",
    "\n",
    "def apply_word_dropout(matrix, keep_prop, replace_with=UNK_IX, pad_ix=PAD_IX,):\n",
    "    dropout_mask = np.random.choice(2, np.shape(matrix), p=[keep_prop, 1 - keep_prop])\n",
    "    dropout_mask &= matrix != pad_ix\n",
    "    return np.choose(dropout_mask, [matrix, np.full_like(matrix, replace_with)])"
   ]
  },
  {
   "cell_type": "code",
   "execution_count": 21,
   "metadata": {},
   "outputs": [
    {
     "data": {
      "text/plain": [
       "{'Title': array([[27645, 29893, 33674,     1,     1,     1,     1],\n",
       "        [29239,   197, 19175, 20042, 15554, 23162,  4051],\n",
       "        [10609, 30412, 17746,    33,  8705, 29157,    65]], dtype=int32),\n",
       " 'FullDescription': array([[27645, 29893, 33674, 32939,   982, 27645, 29893, 33674, 16451,\n",
       "         32939],\n",
       "        [29239,   197, 19175, 20042, 15554, 23162,  4051, 25511,   907,\n",
       "            82],\n",
       "        [30746, 21956, 20601,  6409, 16451,  8165, 27493,   982, 30412,\n",
       "         17746]], dtype=int32),\n",
       " 'Categorical': array([[0., 0., 0., ..., 0., 0., 0.],\n",
       "        [0., 0., 0., ..., 0., 0., 0.],\n",
       "        [0., 0., 0., ..., 0., 0., 0.]], dtype=float32),\n",
       " 'Log1pSalary': array([ 9.71154 , 10.463132, 10.71444 ], dtype=float32)}"
      ]
     },
     "execution_count": 21,
     "metadata": {},
     "output_type": "execute_result"
    }
   ],
   "source": [
    "make_batch(data_train[:3], max_len=10)"
   ]
  },
  {
   "cell_type": "markdown",
   "metadata": {},
   "source": [
    "#### Architecture\n",
    "\n",
    "Our basic model consists of three branches:\n",
    "* Title encoder\n",
    "* Description encoder\n",
    "* Categorical features encoder\n",
    "\n",
    "We will then feed all 3 branches into one common network that predicts salary.\n",
    "\n",
    "<img src=\"https://github.com/yandexdataschool/nlp_course/raw/master/resources/w2_conv_arch.png\" width=600px>"
   ]
  },
  {
   "cell_type": "markdown",
   "metadata": {},
   "source": [
    "This clearly doesn't fit into keras' __Sequential__ interface. To build such a network, one will have to use __[Keras Functional API](https://keras.io/models/model/)__."
   ]
  },
  {
   "cell_type": "code",
   "execution_count": 22,
   "metadata": {},
   "outputs": [
    {
     "name": "stderr",
     "output_type": "stream",
     "text": [
      "Using TensorFlow backend.\n"
     ]
    }
   ],
   "source": [
    "import keras\n",
    "import keras.layers as L"
   ]
  },
  {
   "cell_type": "code",
   "execution_count": 23,
   "metadata": {},
   "outputs": [],
   "source": [
    "def build_model(n_tokens=len(tokens), n_cat_features=len(categorical_vectorizer.vocabulary_), hid_size=64):\n",
    "    \"\"\" Build a model that maps three data sources to a single linear output: predicted log1p(salary) \"\"\"\n",
    "    \n",
    "    l_title = L.Input(shape=[None], name=\"Title\")\n",
    "    l_descr = L.Input(shape=[None], name=\"FullDescription\")\n",
    "    l_categ = L.Input(shape=[n_cat_features], name=\"Categorical\")\n",
    "    \n",
    "    # Build your monster!\n",
    "    \n",
    "    emb = L.Embedding(n_tokens, 2 * hid_size)\n",
    "    \n",
    "    l_title_emb = emb(l_title)\n",
    "    l_descr_emb = emb(l_descr)\n",
    "    \n",
    "    l_title_conv = L.Convolution1D(hid_size, kernel_size=2, activation='relu')(l_title_emb)\n",
    "    l_descr_conv = L.Convolution1D(hid_size, kernel_size=5, activation='relu')(l_descr_emb)\n",
    "    \n",
    "    l_title_out = L.GlobalMaxPool1D()(l_title_conv)\n",
    "    l_descr_out = L.GlobalMaxPool1D()(l_descr_conv)\n",
    "    \n",
    "    l_categ_out = L.Dense(hid_size, activation='relu')(l_categ)\n",
    "    \n",
    "    l_combined = L.Concatenate()([l_title_out, l_descr_out, l_categ_out])\n",
    "    l_dense_clf = L.Dense(hid_size, activation='relu')(l_combined)\n",
    "    \n",
    "    output_layer = L.Dense(1)(l_dense_clf)\n",
    "    # end of your code\n",
    "    \n",
    "    model = keras.models.Model(inputs=[l_title, l_descr, l_categ], outputs=[output_layer])\n",
    "    model.compile('adam', 'mean_squared_error', metrics=['mean_absolute_error'])\n",
    "    return model\n",
    "    "
   ]
  },
  {
   "cell_type": "code",
   "execution_count": 24,
   "metadata": {},
   "outputs": [
    {
     "name": "stdout",
     "output_type": "stream",
     "text": [
      "__________________________________________________________________________________________________\n",
      "Layer (type)                    Output Shape         Param #     Connected to                     \n",
      "==================================================================================================\n",
      "Title (InputLayer)              (None, None)         0                                            \n",
      "__________________________________________________________________________________________________\n",
      "FullDescription (InputLayer)    (None, None)         0                                            \n",
      "__________________________________________________________________________________________________\n",
      "embedding_1 (Embedding)         (None, None, 128)    4372224     Title[0][0]                      \n",
      "                                                                 FullDescription[0][0]            \n",
      "__________________________________________________________________________________________________\n",
      "conv1d_1 (Conv1D)               (None, None, 64)     16448       embedding_1[0][0]                \n",
      "__________________________________________________________________________________________________\n",
      "conv1d_2 (Conv1D)               (None, None, 64)     41024       embedding_1[1][0]                \n",
      "__________________________________________________________________________________________________\n",
      "Categorical (InputLayer)        (None, 3768)         0                                            \n",
      "__________________________________________________________________________________________________\n",
      "global_max_pooling1d_1 (GlobalM (None, 64)           0           conv1d_1[0][0]                   \n",
      "__________________________________________________________________________________________________\n",
      "global_max_pooling1d_2 (GlobalM (None, 64)           0           conv1d_2[0][0]                   \n",
      "__________________________________________________________________________________________________\n",
      "dense_1 (Dense)                 (None, 64)           241216      Categorical[0][0]                \n",
      "__________________________________________________________________________________________________\n",
      "concatenate_1 (Concatenate)     (None, 192)          0           global_max_pooling1d_1[0][0]     \n",
      "                                                                 global_max_pooling1d_2[0][0]     \n",
      "                                                                 dense_1[0][0]                    \n",
      "__________________________________________________________________________________________________\n",
      "dense_2 (Dense)                 (None, 64)           12352       concatenate_1[0][0]              \n",
      "__________________________________________________________________________________________________\n",
      "dense_3 (Dense)                 (None, 1)            65          dense_2[0][0]                    \n",
      "==================================================================================================\n",
      "Total params: 4,683,329\n",
      "Trainable params: 4,683,329\n",
      "Non-trainable params: 0\n",
      "__________________________________________________________________________________________________\n"
     ]
    }
   ],
   "source": [
    "model = build_model()\n",
    "model.summary()\n",
    "\n",
    "dummy_pred = model.predict(make_batch(data_train[:100]))\n",
    "dummy_loss = model.train_on_batch(make_batch(data_train[:100]), data_train['Log1pSalary'][:100])[0]\n",
    "assert dummy_pred.shape == (100, 1)\n",
    "assert len(np.unique(dummy_pred)) > 20, \"model returns suspiciously few unique outputs. Check your initialization\"\n",
    "assert np.ndim(dummy_loss) == 0 and 0. <= dummy_loss <= 250., \"make sure you minimize MSE\""
   ]
  },
  {
   "cell_type": "markdown",
   "metadata": {},
   "source": [
    "#### Training and evaluation\n",
    "\n",
    "As usual, we gonna feed our monster with random minibatches of data. \n",
    "\n",
    "As we train, we want to monitor not only loss function, which is computed in log-space, but also the actual error measured in dollars."
   ]
  },
  {
   "cell_type": "code",
   "execution_count": 25,
   "metadata": {},
   "outputs": [],
   "source": [
    "def iterate_minibatches(data, batch_size=256, shuffle=True, cycle=False, **kwargs):\n",
    "    \"\"\" iterates minibatches of data in random order \"\"\"\n",
    "    while True:\n",
    "        indices = np.arange(len(data))\n",
    "        if shuffle:\n",
    "            indices = np.random.permutation(indices)\n",
    "\n",
    "        for start in range(0, len(indices), batch_size):\n",
    "            batch = make_batch(data.iloc[indices[start : start + batch_size]], **kwargs)\n",
    "            target = batch.pop(target_column)\n",
    "            yield batch, target\n",
    "        \n",
    "        if not cycle: break"
   ]
  },
  {
   "cell_type": "markdown",
   "metadata": {},
   "source": [
    "### Model training\n",
    "\n",
    "We can now fit our model the usual minibatch way. The interesting part is that we train on an infinite stream of minibatches, produced by `iterate_minibatches` function."
   ]
  },
  {
   "cell_type": "code",
   "execution_count": 26,
   "metadata": {},
   "outputs": [
    {
     "name": "stdout",
     "output_type": "stream",
     "text": [
      "Epoch 1/10\n",
      "100/100 [==============================] - 18s 181ms/step - loss: 18.8409 - mean_absolute_error: 2.7406 - val_loss: 0.3369 - val_mean_absolute_error: 0.4453\n",
      "Epoch 2/10\n",
      "100/100 [==============================] - 15s 148ms/step - loss: 0.2508 - mean_absolute_error: 0.3843 - val_loss: 0.2576 - val_mean_absolute_error: 0.3857\n",
      "Epoch 3/10\n",
      "100/100 [==============================] - 15s 146ms/step - loss: 0.1840 - mean_absolute_error: 0.3262 - val_loss: 0.1905 - val_mean_absolute_error: 0.3313\n",
      "Epoch 4/10\n",
      "100/100 [==============================] - 13s 131ms/step - loss: 0.1506 - mean_absolute_error: 0.2923 - val_loss: 0.1706 - val_mean_absolute_error: 0.3150\n",
      "Epoch 5/10\n",
      "100/100 [==============================] - 13s 129ms/step - loss: 0.1283 - mean_absolute_error: 0.2694 - val_loss: 0.1302 - val_mean_absolute_error: 0.2712\n",
      "Epoch 6/10\n",
      "100/100 [==============================] - 14s 139ms/step - loss: 0.1141 - mean_absolute_error: 0.2538 - val_loss: 0.1176 - val_mean_absolute_error: 0.2568\n",
      "Epoch 7/10\n",
      "100/100 [==============================] - 12s 124ms/step - loss: 0.1056 - mean_absolute_error: 0.2441 - val_loss: 0.1053 - val_mean_absolute_error: 0.2427\n",
      "Epoch 8/10\n",
      "100/100 [==============================] - 12s 118ms/step - loss: 0.0947 - mean_absolute_error: 0.2289 - val_loss: 0.1010 - val_mean_absolute_error: 0.2381\n",
      "Epoch 9/10\n",
      "100/100 [==============================] - 11s 105ms/step - loss: 0.0848 - mean_absolute_error: 0.2176 - val_loss: 0.0955 - val_mean_absolute_error: 0.2310\n",
      "Epoch 10/10\n",
      "100/100 [==============================] - 10s 105ms/step - loss: 0.0836 - mean_absolute_error: 0.2155 - val_loss: 0.0880 - val_mean_absolute_error: 0.2210\n"
     ]
    },
    {
     "data": {
      "text/plain": [
       "<keras.callbacks.History at 0x7f8c90e43400>"
      ]
     },
     "execution_count": 26,
     "metadata": {},
     "output_type": "execute_result"
    }
   ],
   "source": [
    "batch_size = 256\n",
    "epochs = 10            # definitely too small\n",
    "steps_per_epoch = 100  # for full pass over data: (len(data_train) - 1) // batch_size + 1\n",
    "\n",
    "model = build_model()\n",
    "\n",
    "model.fit_generator(iterate_minibatches(data_train, batch_size, cycle=True, word_dropout=0.05), \n",
    "                    epochs=epochs, steps_per_epoch=steps_per_epoch,\n",
    "                    \n",
    "                    validation_data=iterate_minibatches(data_val, batch_size, cycle=True),\n",
    "                    validation_steps=data_val.shape[0] // batch_size\n",
    "                   )"
   ]
  },
  {
   "cell_type": "code",
   "execution_count": 27,
   "metadata": {},
   "outputs": [
    {
     "name": "stdout",
     "output_type": "stream",
     "text": [
      "Train results:\n",
      "Mean square error: 0.07717\n",
      "Mean absolute error: 0.20602\n",
      "Val results:\n",
      "Mean square error: 0.08813\n",
      "Mean absolute error: 0.22085\n"
     ]
    }
   ],
   "source": [
    "def print_metrics(model, data, batch_size=batch_size, name=\"\", **kw):\n",
    "    squared_error = abs_error = num_samples = 0.0\n",
    "    for batch_x, batch_y in iterate_minibatches(data, batch_size=batch_size, shuffle=False, **kw):\n",
    "        batch_pred = model.predict(batch_x)[:, 0]\n",
    "        squared_error += np.sum(np.square(batch_pred - batch_y))\n",
    "        abs_error += np.sum(np.abs(batch_pred - batch_y))\n",
    "        num_samples += len(batch_y)\n",
    "    print(\"%s results:\" % (name or \"\"))\n",
    "    print(\"Mean square error: %.5f\" % (squared_error / num_samples))\n",
    "    print(\"Mean absolute error: %.5f\" % (abs_error / num_samples))\n",
    "    return squared_error, abs_error\n",
    "    \n",
    "print_metrics(model, data_train, name='Train')\n",
    "print_metrics(model, data_val, name='Val');"
   ]
  },
  {
   "cell_type": "markdown",
   "metadata": {},
   "source": [
    "### Bonus part: explaining model predictions\n",
    "\n",
    "It's usually a good idea to understand how your model works before you let it make actual decisions. It's simple for linear models: just see which words learned positive or negative weights. However, its much harder for neural networks that learn complex nonlinear dependencies.\n",
    "\n",
    "There are, however, some ways to look inside the black box:\n",
    "* Seeing how model responds to input perturbations\n",
    "* Finding inputs that maximize/minimize activation of some chosen neurons (_read more [on distill.pub](https://distill.pub/2018/building-blocks/)_)\n",
    "* Building local linear approximations to your neural network: [article](https://arxiv.org/abs/1602.04938), [eli5 library](https://github.com/TeamHG-Memex/eli5/tree/master/eli5/formatters)\n",
    "\n",
    "Today we gonna try the first method just because it's the simplest one."
   ]
  },
  {
   "cell_type": "code",
   "execution_count": 28,
   "metadata": {},
   "outputs": [],
   "source": [
    "def explain(model, sample, col_name='Title'):\n",
    "    \"\"\" Computes the effect each word had on model predictions \"\"\"\n",
    "    sample = dict(sample)\n",
    "    sample_col_tokens = [tokens[token_to_id.get(tok, 0)] for tok in sample[col_name].split()]\n",
    "    data_drop_one_token = pd.DataFrame([sample] * (len(sample_col_tokens) + 1))\n",
    "\n",
    "    for drop_i in range(len(sample_col_tokens)):\n",
    "        data_drop_one_token.loc[drop_i, col_name] = ' '.join(UNK if i == drop_i else tok\n",
    "                                                   for i, tok in enumerate(sample_col_tokens)) \n",
    "\n",
    "    *predictions_drop_one_token, baseline_pred = model.predict(make_batch(data_drop_one_token))[:, 0]\n",
    "    diffs = baseline_pred - predictions_drop_one_token\n",
    "    return list(zip(sample_col_tokens, diffs))"
   ]
  },
  {
   "cell_type": "code",
   "execution_count": 29,
   "metadata": {},
   "outputs": [],
   "source": [
    "from IPython.display import HTML, display_html\n",
    "\n",
    "def draw_html(tokens_and_weights, cmap=plt.get_cmap(\"bwr\"), display=True,\n",
    "              token_template=\"\"\"<span style=\"background-color: {color_hex}\">{token}</span>\"\"\",\n",
    "              font_style=\"font-size:14px;\"\n",
    "             ):\n",
    "    \n",
    "    def get_color_hex(weight):\n",
    "        rgba = cmap(1. / (1 + np.exp(weight)), bytes=True)\n",
    "        return '#%02X%02X%02X' % rgba[:3]\n",
    "    \n",
    "    tokens_html = [\n",
    "        token_template.format(token=token, color_hex=get_color_hex(weight))\n",
    "        for token, weight in tokens_and_weights\n",
    "    ]\n",
    "    \n",
    "    \n",
    "    raw_html = \"\"\"<p style=\"{}\">{}</p>\"\"\".format(font_style, ' '.join(tokens_html))\n",
    "    if display:\n",
    "        display_html(HTML(raw_html))\n",
    "        \n",
    "    return raw_html\n",
    "    "
   ]
  },
  {
   "cell_type": "code",
   "execution_count": 30,
   "metadata": {},
   "outputs": [
    {
     "data": {
      "text/html": [
       "<p style=\"font-size:20px;\"><span style=\"background-color: #9E9EFF\">sales</span> <span style=\"background-color: #3838FF\">specialist</span> <span style=\"background-color: #FFA6A6\">iv</span> <span style=\"background-color: #FFEAEA\">access</span> <span style=\"background-color: #FFE2E2\">and</span> <span style=\"background-color: #FFDADA\">infusion</span></p>"
      ]
     },
     "metadata": {},
     "output_type": "display_data"
    },
    {
     "data": {
      "text/html": [
       "<p style=\"font-size:14px;\"><span style=\"background-color: #FFFEFE\">sales</span> <span style=\"background-color: #FFFEFE\">representative</span> <span style=\"background-color: #FFFEFE\">medical</span> <span style=\"background-color: #FFFEFE\">sales</span> <span style=\"background-color: #FFFEFE\">iv</span> <span style=\"background-color: #FFFEFE\">access</span> <span style=\"background-color: #FAFAFF\">and</span> <span style=\"background-color: #FFDADA\">infusion</span> <span style=\"background-color: #FAFAFF\">an</span> <span style=\"background-color: #FFF6F6\">opportunity</span> <span style=\"background-color: #FAFAFF\">to</span> <span style=\"background-color: #FFFCFC\">work</span> <span style=\"background-color: #FEFEFF\">for</span> <span style=\"background-color: #FEFEFF\">the</span> <span style=\"background-color: #FEFEFF\">industry</span> <span style=\"background-color: #FEFEFF\">leading</span> <span style=\"background-color: #FFFAFA\">manufacturer</span> <span style=\"background-color: #FFFEFE\">of</span> <span style=\"background-color: #FFFEFE\">iv</span> <span style=\"background-color: #FFFEFE\">access</span> <span style=\"background-color: #FEFEFF\">and</span> <span style=\"background-color: #FFF6F6\">infusion</span> <span style=\"background-color: #F3F3FF\">solutions</span> <span style=\"background-color: #FEFEFF\">.</span> <span style=\"background-color: #F3F3FF\">formally</span> <span style=\"background-color: #FFFEFE\">recognised</span> <span style=\"background-color: #FFFEFE\">as</span> <span style=\"background-color: #FFF8F8\">the</span> <span style=\"background-color: #FFFEFE\">number</span> <span style=\"background-color: #FFFEFE\">****</span> <span style=\"background-color: #FFFEFE\">company</span> <span style=\"background-color: #FFFEFE\">in</span> <span style=\"background-color: #FFECEC\">this</span> <span style=\"background-color: #F0F0FF\">market</span> <span style=\"background-color: #FFF6F6\">space</span> <span style=\"background-color: #FCFCFF\">,</span> <span style=\"background-color: #FFF8F8\">our</span> <span style=\"background-color: #F2F2FF\">client</span> <span style=\"background-color: #FFEAEA\">are</span> <span style=\"background-color: #FFFEFE\">an</span> <span style=\"background-color: #FFF6F6\">ethical</span> <span style=\"background-color: #FFF0F0\">and</span> <span style=\"background-color: #FFFEFE\">dynamic</span> <span style=\"background-color: #FFFEFE\">organisation</span> <span style=\"background-color: #FFFEFE\">absolutely</span> <span style=\"background-color: #FFFEFE\">committed</span> <span style=\"background-color: #FFFCFC\">to</span> <span style=\"background-color: #FFFEFE\">the</span> <span style=\"background-color: #FFFEFE\">advancement</span> <span style=\"background-color: #FFFEFE\">of</span> <span style=\"background-color: #FFFEFE\">innovative</span> <span style=\"background-color: #FFFEFE\">technologies</span> <span style=\"background-color: #FFFEFE\">.</span> <span style=\"background-color: #FFCECE\">job</span> <span style=\"background-color: #FFFEFE\">title</span> <span style=\"background-color: #FFFEFE\">:</span> <span style=\"background-color: #FFFEFE\">sales</span> <span style=\"background-color: #FFF6F6\">specialist</span> <span style=\"background-color: #FFF4F4\">iv</span> <span style=\"background-color: #FFFEFE\">access</span> <span style=\"background-color: #FFFEFE\">and</span> <span style=\"background-color: #FFFEFE\">infusion</span> <span style=\"background-color: #FFFEFE\">selling</span> <span style=\"background-color: #FFFEFE\">:</span> <span style=\"background-color: #FFECEC\">medication</span> <span style=\"background-color: #FCFCFF\">delivery</span> <span style=\"background-color: #FFF8F8\">solutions</span> <span style=\"background-color: #FEFEFF\">selling</span> <span style=\"background-color: #F6F6FF\">to</span> <span style=\"background-color: #EEEEFF\">:</span> <span style=\"background-color: #FFFCFC\">iv</span> <span style=\"background-color: #F8F8FF\">teams</span> <span style=\"background-color: #ECECFF\">,</span> <span style=\"background-color: #FFF2F2\">infection</span> <span style=\"background-color: #FFFEFE\">control</span> <span style=\"background-color: #FEFEFF\">,</span> <span style=\"background-color: #F8F8FF\">lead</span> <span style=\"background-color: #FFF6F6\">intensive</span> <span style=\"background-color: #FFE8E8\">care</span> <span style=\"background-color: #FFF0F0\">nurse</span> <span style=\"background-color: #FFFEFE\">specialists</span> <span style=\"background-color: #FFFEFE\">,</span> <span style=\"background-color: #FFFEFE\">ward</span> <span style=\"background-color: #FFFEFE\">managers</span> <span style=\"background-color: #FFFEFE\">territory</span> <span style=\"background-color: #FFFEFE\">:</span> <span style=\"background-color: #FFFAFA\">east</span> <span style=\"background-color: #FFFCFC\">midlands</span> <span style=\"background-color: #F2F2FF\">location</span> <span style=\"background-color: #FFDADA\">:</span> <span style=\"background-color: #FFFEFE\">east</span> <span style=\"background-color: #FFF2F2\">midlands</span> <span style=\"background-color: #FCFCFF\">package</span> <span style=\"background-color: #FFFCFC\">:</span> <span style=\"background-color: #FFEEEE\">basic</span> <span style=\"background-color: #FFF0F0\">:</span> <span style=\"background-color: #FFE6E6\">****</span> <span style=\"background-color: #D3D3FF\">k</span> <span style=\"background-color: #FFF4F4\">****</span> <span style=\"background-color: #8A8AFF\">k</span> <span style=\"background-color: #E0E0FF\">,</span> <span style=\"background-color: #FAFAFF\">uncapped</span> <span style=\"background-color: #FFFEFE\">bonus</span> <span style=\"background-color: #FFFEFE\">in</span> <span style=\"background-color: #FFFAFA\">addition</span> <span style=\"background-color: #FFF8F8\">,</span> <span style=\"background-color: #FFFAFA\">full</span> <span style=\"background-color: #FFFEFE\">corporate</span> <span style=\"background-color: #FFEAEA\">benefits</span> <span style=\"background-color: #FFFEFE\">company</span> <span style=\"background-color: #FFF2F2\">information</span> <span style=\"background-color: #FFFEFE\">hugely</span> <span style=\"background-color: #FFFEFE\">ethical</span> <span style=\"background-color: #FEFEFF\">and</span> <span style=\"background-color: #FFFCFC\">professional</span> <span style=\"background-color: #FEFEFF\">global</span> <span style=\"background-color: #FFF4F4\">organisation</span> <span style=\"background-color: #FCFCFF\">extremely</span> <span style=\"background-color: #E8E8FF\">well</span> <span style=\"background-color: #FFEAEA\">established</span> <span style=\"background-color: #FCFCFF\">in</span> <span style=\"background-color: #FFF2F2\">the</span> <span style=\"background-color: #FFF6F6\">uk</span> <span style=\"background-color: #FFFCFC\">the</span> <span style=\"background-color: #FFFEFE\">market</span> <span style=\"background-color: #FFFEFE\">leader</span> <span style=\"background-color: #FFDEDE\">across</span> <span style=\"background-color: #FFF2F2\">all</span> <span style=\"background-color: #FFFEFE\">of</span> <span style=\"background-color: #FFFCFC\">their</span> <span style=\"background-color: #FFEAEA\">core</span> <span style=\"background-color: #FFFEFE\">business</span> <span style=\"background-color: #FFFEFE\">areas</span> <span style=\"background-color: #FFFAFA\">focus</span> <span style=\"background-color: #FFE8E8\">on</span> <span style=\"background-color: #FFFEFE\">providing</span> <span style=\"background-color: #FFFCFC\">cutting</span> <span style=\"background-color: #FFF0F0\">edge</span> <span style=\"background-color: #FFEEEE\">solutions</span> <span style=\"background-color: #FFFEFE\">along</span> <span style=\"background-color: #FFFEFE\">with</span> <span style=\"background-color: #FFFEFE\">outstanding</span> <span style=\"background-color: #FFFEFE\">service</span> <span style=\"background-color: #FFFEFE\">and</span> <span style=\"background-color: #FFF8F8\">support</span> <span style=\"background-color: #FFFEFE\">a</span> <span style=\"background-color: #FFFEFE\">business</span> <span style=\"background-color: #FFF8F8\">that</span> <span style=\"background-color: #FFFEFE\">retain</span> <span style=\"background-color: #FFFEFE\">talented</span> <span style=\"background-color: #FFFEFE\">personnel</span> <span style=\"background-color: #FFF4F4\">by</span> <span style=\"background-color: #FFD2D2\">offering</span> <span style=\"background-color: #FFFAFA\">a</span> <span style=\"background-color: #FEFEFF\">strong</span> <span style=\"background-color: #FCFCFF\">platform</span> <span style=\"background-color: #FFFEFE\">for</span> <span style=\"background-color: #FFE6E6\">career</span> <span style=\"background-color: #F8F8FF\">development</span> <span style=\"background-color: #FFF4F4\">sales</span> <span style=\"background-color: #FFFEFE\">specialist</span> <span style=\"background-color: #FFFEFE\">iv</span> <span style=\"background-color: #FFFEFE\">access</span> <span style=\"background-color: #FFFEFE\">and</span> <span style=\"background-color: #FFFEFE\">infusion</span> <span style=\"background-color: #FFFAFA\">you</span> <span style=\"background-color: #FFFEFE\">must</span> <span style=\"background-color: #FFFEFE\">have</span> <span style=\"background-color: #FFFEFE\">/</span> <span style=\"background-color: #FFFEFE\">be</span> <span style=\"background-color: #FFE6E6\">the</span> <span style=\"background-color: #FFFEFE\">following</span> <span style=\"background-color: #EEEEFF\">at</span> <span style=\"background-color: #EEEEFF\">least</span> <span style=\"background-color: #FFFAFA\">2</span> <span style=\"background-color: #EEEEFF\">years</span> <span style=\"background-color: #FCFCFF\">medical</span> <span style=\"background-color: #FFE8E8\">device</span> <span style=\"background-color: #FFECEC\">sales</span> <span style=\"background-color: #FAFAFF\">experience</span> <span style=\"background-color: #FFF0F0\">.</span> <span style=\"background-color: #FFF8F8\">candidates</span> <span style=\"background-color: #FEFEFF\">who</span> <span style=\"background-color: #FFF4F4\">have</span> <span style=\"background-color: #FFF2F2\">sold</span> <span style=\"background-color: #FFF8F8\">disposables</span> <span style=\"background-color: #FFFEFE\">/</span> <span style=\"background-color: #FFF6F6\">consumables</span> <span style=\"background-color: #FFFEFE\">or</span> <span style=\"background-color: #FFFEFE\">similar</span> <span style=\"background-color: #FFFEFE\">into</span> <span style=\"background-color: #FFFEFE\">hospitals</span> <span style=\"background-color: #FFF8F8\">would</span> <span style=\"background-color: #FFFEFE\">be</span> <span style=\"background-color: #FFE2E2\">of</span> <span style=\"background-color: #FFEEEE\">particular</span> <span style=\"background-color: #FFFAFA\">interest</span> <span style=\"background-color: #FFFAFA\">.</span> <span style=\"background-color: #FFFCFC\">candidates</span> <span style=\"background-color: #FFFCFC\">must</span> <span style=\"background-color: #FFFEFE\">have</span> <span style=\"background-color: #FFDCDC\">sold</span> <span style=\"background-color: #FFFEFE\">into</span> <span style=\"background-color: #FFFEFE\">hospitals</span> <span style=\"background-color: #FFF2F2\">demonstrable</span> <span style=\"background-color: #FFEEEE\">performance</span> <span style=\"background-color: #FFFEFE\">and</span> <span style=\"background-color: #FFFEFE\">achievements</span> <span style=\"background-color: #FFFEFE\">so</span> <span style=\"background-color: #FFFEFE\">far</span> <span style=\"background-color: #FFFEFE\">personable</span> <span style=\"background-color: #FFFEFE\">,</span> <span style=\"background-color: #FFFEFE\">adaptable</span> <span style=\"background-color: #FFFEFE\">and</span> <span style=\"background-color: #FFFEFE\">willing</span> <span style=\"background-color: #FFFEFE\">to</span> <span style=\"background-color: #FFFEFE\">learn</span> <span style=\"background-color: #FFFEFE\">keen</span> <span style=\"background-color: #FFFEFE\">and</span> <span style=\"background-color: #FFFEFE\">eager</span> <span style=\"background-color: #FFFEFE\">to</span> <span style=\"background-color: #FFDCDC\">be</span> <span style=\"background-color: #FFF6F6\">a</span> <span style=\"background-color: #FFF6F6\">success</span> <span style=\"background-color: #FFF6F6\">candidates</span> <span style=\"background-color: #F8F8FF\">must</span> <span style=\"background-color: #FFF8F8\">have</span> <span style=\"background-color: #FFE2E2\">a</span> <span style=\"background-color: #FFFCFC\">degree</span> <span style=\"background-color: #FFFEFE\">or</span> <span style=\"background-color: #FFFEFE\">at</span> <span style=\"background-color: #FFFEFE\">least</span> <span style=\"background-color: #FFFEFE\">be</span> <span style=\"background-color: #FFDEDE\">able</span> <span style=\"background-color: #FFFEFE\">to</span> <span style=\"background-color: #FFF8F8\">show</span> <span style=\"background-color: #FFFEFE\">a</span> <span style=\"background-color: #FFFEFE\">strong</span> <span style=\"background-color: #FFFEFE\">ability</span> <span style=\"background-color: #FFFEFE\">to</span> <span style=\"background-color: #FFFCFC\">learn</span> <span style=\"background-color: #FFFEFE\">role</span> <span style=\"background-color: #FCFCFF\">information</span> <span style=\"background-color: #FCFCFF\">managing</span> <span style=\"background-color: #FFEAEA\">the</span> <span style=\"background-color: #FFE6E6\">east</span> <span style=\"background-color: #FFFAFA\">midlands</span> <span style=\"background-color: #FFE2E2\">region</span> <span style=\"background-color: #FFF6F6\">selling</span> <span style=\"background-color: #FFFCFC\">across</span> <span style=\"background-color: #FFEEEE\">the</span> <span style=\"background-color: #FFF8F8\">company</span> <span style=\"background-color: #FFFAFA\">'</span> <span style=\"background-color: #FFF2F2\">s</span> <span style=\"background-color: #FFFEFE\">range</span> <span style=\"background-color: #FFFEFE\">of</span> <span style=\"background-color: #FFFEFE\">iv</span> <span style=\"background-color: #FFFEFE\">and</span> <span style=\"background-color: #FFE2E2\">infusion</span> <span style=\"background-color: #FFF2F2\">solutions</span> <span style=\"background-color: #FFC3C3\">portfolio</span> <span style=\"background-color: #FCFCFF\">selling</span> <span style=\"background-color: #FFFAFA\">into</span> <span style=\"background-color: #FFF8F8\">lead</span> <span style=\"background-color: #FFE6E6\">intensive</span> <span style=\"background-color: #FFD2D2\">care</span> <span style=\"background-color: #FFE4E4\">nurse</span> <span style=\"background-color: #FFFEFE\">specialists</span> <span style=\"background-color: #FFFEFE\">,</span> <span style=\"background-color: #FFFEFE\">ward</span> <span style=\"background-color: #FFFEFE\">managers</span> <span style=\"background-color: #FFFEFE\">,</span> <span style=\"background-color: #FFFAFA\">iv</span> <span style=\"background-color: #FFFEFE\">teams</span> <span style=\"background-color: #FAFAFF\">,</span> <span style=\"background-color: #FFE0E0\">infection</span> <span style=\"background-color: #FAFAFF\">control</span> <span style=\"background-color: #F3F3FF\">teams</span> <span style=\"background-color: #F3F3FF\">,</span> <span style=\"background-color: #F8F8FF\">procurement</span> <span style=\"background-color: #FFEEEE\">sales</span> <span style=\"background-color: #FAFAFF\">specialist</span> <span style=\"background-color: #FFFEFE\">iv</span> <span style=\"background-color: #FFFEFE\">access</span> <span style=\"background-color: #FFFEFE\">and</span> <span style=\"background-color: #FFF0F0\">infusion</span> <span style=\"background-color: #FEFEFF\">candidates</span> <span style=\"background-color: #FEFEFF\">must</span> <span style=\"background-color: #FEFEFF\">be</span> <span style=\"background-color: #FFD3D3\">eligible</span> <span style=\"background-color: #FFF8F8\">to</span> <span style=\"background-color: #FFFAFA\">work</span> <span style=\"background-color: #FFFEFE\">and</span> <span style=\"background-color: #FCFCFF\">live</span> <span style=\"background-color: #FCFCFF\">in</span> <span style=\"background-color: #FFEEEE\">the</span> <span style=\"background-color: #FFEAEA\">uk</span> <span style=\"background-color: #FCFCFF\">.</span> <span style=\"background-color: #FAFAFF\">please</span> <span style=\"background-color: #FCFCFF\">contact</span> <span style=\"background-color: #FFD3D3\">allan</span> <span style=\"background-color: #CECEFF\">waller</span> <span style=\"background-color: #D2D2FF\">on</span> <span style=\"background-color: #FFF2F2\">****</span> <span style=\"background-color: #ECECFF\">****</span> <span style=\"background-color: #FAFAFF\">****</span> <span style=\"background-color: #F6F6FF\">or</span> <span style=\"background-color: #FEFEFF\">please</span> <span style=\"background-color: #F3F3FF\">hit</span> <span style=\"background-color: #F3F3FF\">the</span> <span style=\"background-color: #FFFCFC\">apply</span> <span style=\"background-color: #FAFAFF\">button</span> <span style=\"background-color: #F2F2FF\">.</span> <span style=\"background-color: #E3E3FF\">this</span> <span style=\"background-color: #F2F2FF\">job</span> <span style=\"background-color: #ECECFF\">was</span> <span style=\"background-color: #FFD6D6\">originally</span> <span style=\"background-color: #F0F0FF\">posted</span> <span style=\"background-color: #EEEEFF\">as</span> <span style=\"background-color: #EAEAFF\">www</span> <span style=\"background-color: #FFFAFA\">.</span> <span style=\"background-color: #FFF0F0\">salestarget</span> <span style=\"background-color: #E8E8FF\">.</span> <span style=\"background-color: #F2F2FF\">co</span> <span style=\"background-color: #FFDEDE\">.</span> <span style=\"background-color: #C6C6FF\">uk</span> <span style=\"background-color: #F6F6FF\">/</span> <span style=\"background-color: #FFF4F4\">jobseeking</span> <span style=\"background-color: #DADAFF\">/</span> <span style=\"background-color: #FFFEFE\">UNK</span> <span style=\"background-color: #FFFEFE\">****</span></p>"
      ]
     },
     "metadata": {},
     "output_type": "display_data"
    }
   ],
   "source": [
    "i = 36605\n",
    "tokens_and_weights = explain(model, data.loc[i], \"Title\")\n",
    "draw_html([(tok, weight * 5) for tok, weight in tokens_and_weights], font_style='font-size:20px;');\n",
    "\n",
    "tokens_and_weights = explain(model, data.loc[i], \"FullDescription\")\n",
    "draw_html([(tok, weight * 10) for tok, weight in tokens_and_weights]);"
   ]
  },
  {
   "cell_type": "code",
   "execution_count": 31,
   "metadata": {},
   "outputs": [
    {
     "data": {
      "text/html": [
       "<p style=\"font-size:20px;\"><span style=\"background-color: #FAFAFF\">cleaning</span> <span style=\"background-color: #E6E6FF\">operative</span></p>"
      ]
     },
     "metadata": {},
     "output_type": "display_data"
    },
    {
     "data": {
      "text/html": [
       "<p style=\"font-size:14px;\"><span style=\"background-color: #F3F3FF\">12</span> <span style=\"background-color: #FFDCDC\">.</span> <span style=\"background-color: #E2E2FF\">5</span> <span style=\"background-color: #FFC6C6\">hours</span> <span style=\"background-color: #FFDEDE\">per</span> <span style=\"background-color: #DADAFF\">week</span> <span style=\"background-color: #FFFCFC\">monday</span> <span style=\"background-color: #FFF8F8\">friday</span> <span style=\"background-color: #FFEAEA\">9am</span> <span style=\"background-color: #FFDADA\">11</span> <span style=\"background-color: #FCFCFF\">.</span> <span style=\"background-color: #FFC0C0\">30am</span> <span style=\"background-color: #FFD3D3\">duties</span> <span style=\"background-color: #EAEAFF\">to</span> <span style=\"background-color: #FFD6D6\">include</span> <span style=\"background-color: #FFAAAA\">sweeping</span> <span style=\"background-color: #FFD0D0\">,</span> <span style=\"background-color: #F0F0FF\">mopping</span> <span style=\"background-color: #BEBEFF\">,</span> <span style=\"background-color: #FFCCCC\">vacuuming</span> <span style=\"background-color: #EEEEFF\">,</span> <span style=\"background-color: #FFB0B0\">buffing</span> <span style=\"background-color: #FFE6E6\">,</span> <span style=\"background-color: #FFA8A8\">cleaning</span> <span style=\"background-color: #FFBABA\">staff</span> <span style=\"background-color: #FFFAFA\">toilets</span> <span style=\"background-color: #FEFEFF\">and</span> <span style=\"background-color: #FF8A8A\">rest</span> <span style=\"background-color: #FFCACA\">room</span> <span style=\"background-color: #F2F2FF\">.</span> <span style=\"background-color: #E8E8FF\">must</span> <span style=\"background-color: #FFD8D8\">be</span> <span style=\"background-color: #FFD2D2\">able</span> <span style=\"background-color: #FFE2E2\">to</span> <span style=\"background-color: #FFC6C6\">read</span> <span style=\"background-color: #FFDEDE\">as</span> <span style=\"background-color: #FFECEC\">they</span> <span style=\"background-color: #F6F6FF\">will</span> <span style=\"background-color: #FFD6D6\">be</span> <span style=\"background-color: #FFAAAA\">using</span> <span style=\"background-color: #FFFEFE\">UNK</span> <span style=\"background-color: #FFCCCC\">which</span> <span style=\"background-color: #FFC8C8\">need</span> <span style=\"background-color: #FFFEFE\">UNK</span> <span style=\"background-color: #FFD3D3\">as</span> <span style=\"background-color: #FFD6D6\">per</span> <span style=\"background-color: #FFD8D8\">instructions</span> <span style=\"background-color: #FFD6D6\">on</span> <span style=\"background-color: #FFF2F2\">the</span> <span style=\"background-color: #FFE4E4\">containers</span> <span style=\"background-color: #FFFEFE\">.</span> <span style=\"background-color: #FFC3C3\">sucessfull</span> <span style=\"background-color: #FFEAEA\">applicants</span> <span style=\"background-color: #FFF8F8\">will</span> <span style=\"background-color: #FFFCFC\">be</span> <span style=\"background-color: #FFC0C0\">trained</span> <span style=\"background-color: #FFE8E8\">on</span> <span style=\"background-color: #FFF2F2\">all</span> <span style=\"background-color: #FFFEFE\">electrical</span> <span style=\"background-color: #FFACAC\">appliances</span> <span style=\"background-color: #F2F2FF\">and</span> <span style=\"background-color: #FFFEFE\">UNK</span> <span style=\"background-color: #E3E3FF\">of</span> <span style=\"background-color: #FFCCCC\">cleaning</span> <span style=\"background-color: #FFF4F4\">materials</span> <span style=\"background-color: #E3E3FF\">.</span></p>"
      ]
     },
     "metadata": {},
     "output_type": "display_data"
    }
   ],
   "source": [
    "i = 12077\n",
    "tokens_and_weights = explain(model, data.loc[i], \"Title\")\n",
    "draw_html([(tok, weight * 5) for tok, weight in tokens_and_weights], font_style='font-size:20px;');\n",
    "\n",
    "tokens_and_weights = explain(model, data.loc[i], \"FullDescription\")\n",
    "draw_html([(tok, weight * 10) for tok, weight in tokens_and_weights]);"
   ]
  },
  {
   "cell_type": "code",
   "execution_count": 32,
   "metadata": {},
   "outputs": [
    {
     "name": "stdout",
     "output_type": "stream",
     "text": [
      "Index: 117532\n",
      "Salary (gbp): 3063.803\n"
     ]
    },
    {
     "data": {
      "text/html": [
       "<p style=\"font-size:20px;\"><span style=\"background-color: #A6A6FF\">mechanical</span> <span style=\"background-color: #5454FF\">project</span> <span style=\"background-color: #9696FF\">manager</span></p>"
      ]
     },
     "metadata": {},
     "output_type": "display_data"
    },
    {
     "data": {
      "text/html": [
       "<p style=\"font-size:14px;\"><span style=\"background-color: #DEDEFF\">6</span> <span style=\"background-color: #E3E3FF\">month</span> <span style=\"background-color: #C3C3FF\">contract</span> <span style=\"background-color: #EEEEFF\">for</span> <span style=\"background-color: #FEFEFF\">a</span> <span style=\"background-color: #FFE6E6\">proven</span> <span style=\"background-color: #FFF2F2\">mechanical</span> <span style=\"background-color: #FFE6E6\">project</span> <span style=\"background-color: #FFD8D8\">manager</span> <span style=\"background-color: #FFE2E2\">may</span> <span style=\"background-color: #FFFEFE\">lead</span> <span style=\"background-color: #FFDEDE\">to</span> <span style=\"background-color: #FFECEC\">a</span> <span style=\"background-color: #FFD8D8\">permanent</span> <span style=\"background-color: #FFEEEE\">position</span> <span style=\"background-color: #FFD3D3\">.</span> <span style=\"background-color: #FFE6E6\">a</span> <span style=\"background-color: #FFDCDC\">leading</span> <span style=\"background-color: #EAEAFF\">contractor</span> <span style=\"background-color: #FFF0F0\">has</span> <span style=\"background-color: #FFDEDE\">an</span> <span style=\"background-color: #FFD3D3\">immediate</span> <span style=\"background-color: #FFCECE\">requirement</span> <span style=\"background-color: #FEFEFF\">for</span> <span style=\"background-color: #FFE0E0\">a</span> <span style=\"background-color: #FFD8D8\">mechanical</span> <span style=\"background-color: #FFECEC\">project</span> <span style=\"background-color: #FFFCFC\">manager</span> <span style=\"background-color: #FEFEFF\">for</span> <span style=\"background-color: #F0F0FF\">a</span> <span style=\"background-color: #FFFEFE\">large</span> <span style=\"background-color: #FFF4F4\">new</span> <span style=\"background-color: #FFDEDE\">build</span> <span style=\"background-color: #FFFEFE\">apartment</span> <span style=\"background-color: #F6F6FF\">complex</span> <span style=\"background-color: #FFDCDC\">.</span> <span style=\"background-color: #FFD0D0\">this</span> <span style=\"background-color: #F0F0FF\">contractor</span> <span style=\"background-color: #FFB3B3\">are</span> <span style=\"background-color: #FFEAEA\">one</span> <span style=\"background-color: #FFE2E2\">of</span> <span style=\"background-color: #FFEEEE\">the</span> <span style=\"background-color: #FFE2E2\">leading</span> <span style=\"background-color: #FFFEFE\">regional</span> <span style=\"background-color: #FFF8F8\">building</span> <span style=\"background-color: #FFFCFC\">services</span> <span style=\"background-color: #FFFEFE\">contractors</span> <span style=\"background-color: #FFD3D3\">and</span> <span style=\"background-color: #FFFEFE\">they</span> <span style=\"background-color: #FFFEFE\">are</span> <span style=\"background-color: #FFFAFA\">actively</span> <span style=\"background-color: #F6F6FF\">targeting</span> <span style=\"background-color: #FEFEFF\">projects</span> <span style=\"background-color: #F0F0FF\">in</span> <span style=\"background-color: #F0F0FF\">the</span> <span style=\"background-color: #F2F2FF\">southern</span> <span style=\"background-color: #FFF2F2\">region</span> <span style=\"background-color: #FFE8E8\">.</span> <span style=\"background-color: #FFEEEE\">they</span> <span style=\"background-color: #FFFEFE\">have</span> <span style=\"background-color: #FFC6C6\">won</span> <span style=\"background-color: #FFFEFE\">a</span> <span style=\"background-color: #FFFCFC\">number</span> <span style=\"background-color: #F3F3FF\">of</span> <span style=\"background-color: #FFF8F8\">projects</span> <span style=\"background-color: #FFEEEE\">within</span> <span style=\"background-color: #FFECEC\">the</span> <span style=\"background-color: #FFF0F0\">last</span> <span style=\"background-color: #FFFEFE\">12</span> <span style=\"background-color: #FFFEFE\">months</span> <span style=\"background-color: #FFFEFE\">.</span> <span style=\"background-color: #FFFEFE\">as</span> <span style=\"background-color: #FFFEFE\">the</span> <span style=\"background-color: #FFFEFE\">mechanical</span> <span style=\"background-color: #FFFEFE\">project</span> <span style=\"background-color: #FFD3D3\">manager</span> <span style=\"background-color: #FFFEFE\">you</span> <span style=\"background-color: #FFFEFE\">will</span> <span style=\"background-color: #FFFEFE\">be</span> <span style=\"background-color: #FFCCCC\">responsible</span> <span style=\"background-color: #FFF8F8\">for</span> <span style=\"background-color: #FFFEFE\">managing</span> <span style=\"background-color: #FFFEFE\">all</span> <span style=\"background-color: #FFFEFE\">mechanical</span> <span style=\"background-color: #FFE0E0\">aspects</span> <span style=\"background-color: #FFE8E8\">on</span> <span style=\"background-color: #FFFEFE\">this</span> <span style=\"background-color: #F6F6FF\">project</span> <span style=\"background-color: #FFE8E8\">.</span> <span style=\"background-color: #FFFAFA\">you</span> <span style=\"background-color: #EAEAFF\">will</span> <span style=\"background-color: #FFF8F8\">be</span> <span style=\"background-color: #FFC2C2\">responsible</span> <span style=\"background-color: #FFFEFE\">for</span> <span style=\"background-color: #FFF8F8\">overseeing</span> <span style=\"background-color: #FFFEFE\">all</span> <span style=\"background-color: #FFFEFE\">subcontractors</span> <span style=\"background-color: #FFFEFE\">and</span> <span style=\"background-color: #FFFEFE\">for</span> <span style=\"background-color: #FFFAFA\">ensuring</span> <span style=\"background-color: #FFFEFE\">that</span> <span style=\"background-color: #FFFEFE\">projects</span> <span style=\"background-color: #FFFEFE\">are</span> <span style=\"background-color: #FFFEFE\">completed</span> <span style=\"background-color: #FFFEFE\">within</span> <span style=\"background-color: #FFFEFE\">the</span> <span style=\"background-color: #FFFEFE\">designated</span> <span style=\"background-color: #FFF2F2\">timescale</span> <span style=\"background-color: #FFFEFE\">.</span> <span style=\"background-color: #FFF0F0\">you</span> <span style=\"background-color: #FFFEFE\">must</span> <span style=\"background-color: #FFF8F8\">have</span> <span style=\"background-color: #FFE2E2\">a</span> <span style=\"background-color: #FFCECE\">working</span> <span style=\"background-color: #FFEEEE\">knowledge</span> <span style=\"background-color: #FCFCFF\">of</span> <span style=\"background-color: #FFEEEE\">pipework</span> <span style=\"background-color: #FFE8E8\">,</span> <span style=\"background-color: #F6F6FF\">heating</span> <span style=\"background-color: #FAFAFF\">,</span> <span style=\"background-color: #FFECEC\">plumbing</span> <span style=\"background-color: #FFF8F8\">,</span> <span style=\"background-color: #FFE6E6\">and</span> <span style=\"background-color: #F8F8FF\">hvac</span> <span style=\"background-color: #FFFAFA\">.</span> <span style=\"background-color: #FFF4F4\">the</span> <span style=\"background-color: #FAFAFF\">mechanical</span> <span style=\"background-color: #FFF2F2\">project</span> <span style=\"background-color: #FFF0F0\">manager</span> <span style=\"background-color: #FFFAFA\">will</span> <span style=\"background-color: #FFFAFA\">have</span> <span style=\"background-color: #FFDCDC\">a</span> <span style=\"background-color: #FFECEC\">proven</span> <span style=\"background-color: #FFFAFA\">track</span> <span style=\"background-color: #EEEEFF\">record</span> <span style=\"background-color: #FFD6D6\">within</span> <span style=\"background-color: #FFDEDE\">the</span> <span style=\"background-color: #F2F2FF\">building</span> <span style=\"background-color: #FFFEFE\">services</span> <span style=\"background-color: #FFFAFA\">sector</span> <span style=\"background-color: #FFF0F0\">.</span> <span style=\"background-color: #FFFCFC\">all</span> <span style=\"background-color: #FFFEFE\">applicants</span> <span style=\"background-color: #FFFCFC\">will</span> <span style=\"background-color: #FAFAFF\">be</span> <span style=\"background-color: #FFBABA\">educated</span> <span style=\"background-color: #FAFAFF\">to</span> <span style=\"background-color: #FFFAFA\">hnc</span> <span style=\"background-color: #FCFCFF\">or</span> <span style=\"background-color: #FFFEFE\">equivalent</span> <span style=\"background-color: #FFD3D3\">level</span> <span style=\"background-color: #FFFAFA\">in</span> <span style=\"background-color: #FFFEFE\">a</span> <span style=\"background-color: #FFFAFA\">related</span> <span style=\"background-color: #FFFEFE\">discipline</span> <span style=\"background-color: #FFFEFE\">.</span> <span style=\"background-color: #FFEAEA\">this</span> <span style=\"background-color: #FFFEFE\">is</span> <span style=\"background-color: #FFEEEE\">an</span> <span style=\"background-color: #FFE4E4\">immediate</span> <span style=\"background-color: #FFFAFA\">requirement</span> <span style=\"background-color: #FFFEFE\">apply</span> <span style=\"background-color: #FFECEC\">now</span> <span style=\"background-color: #FFE0E0\">if</span> <span style=\"background-color: #FFF6F6\">you</span> <span style=\"background-color: #FFF4F4\">meet</span> <span style=\"background-color: #FFFEFE\">the</span> <span style=\"background-color: #FFFCFC\">above</span> <span style=\"background-color: #FFFEFE\">criteria</span> <span style=\"background-color: #FFFEFE\">.</span> <span style=\"background-color: #FFF2F2\">fusion</span> <span style=\"background-color: #FFFCFC\">people</span> <span style=\"background-color: #FFFCFC\">are</span> <span style=\"background-color: #FFFAFA\">committed</span> <span style=\"background-color: #FEFEFF\">to</span> <span style=\"background-color: #FFFAFA\">promoting</span> <span style=\"background-color: #FEFEFF\">equal</span> <span style=\"background-color: #FFF8F8\">opportunities</span> <span style=\"background-color: #FFFEFE\">to</span> <span style=\"background-color: #FCFCFF\">people</span> <span style=\"background-color: #FAFAFF\">regardless</span> <span style=\"background-color: #CCCCFF\">of</span> <span style=\"background-color: #FFF4F4\">age</span> <span style=\"background-color: #ECECFF\">,</span> <span style=\"background-color: #D3D3FF\">gender</span> <span style=\"background-color: #D0D0FF\">,</span> <span style=\"background-color: #F2F2FF\">religion</span> <span style=\"background-color: #F0F0FF\">,</span> <span style=\"background-color: #FFFEFE\">belief</span> <span style=\"background-color: #FFFEFE\">,</span> <span style=\"background-color: #FFFEFE\">race</span> <span style=\"background-color: #FFFEFE\">,</span> <span style=\"background-color: #FFFEFE\">sexuality</span> <span style=\"background-color: #F2F2FF\">or</span> <span style=\"background-color: #FFF4F4\">disability</span> <span style=\"background-color: #EAEAFF\">.</span> <span style=\"background-color: #FFECEC\">we</span> <span style=\"background-color: #EAEAFF\">operate</span> <span style=\"background-color: #FFE4E4\">as</span> <span style=\"background-color: #FFF6F6\">an</span> <span style=\"background-color: #FFF4F4\">employment</span> <span style=\"background-color: #FCFCFF\">agency</span> <span style=\"background-color: #FFFEFE\">and</span> <span style=\"background-color: #FFEEEE\">employment</span> <span style=\"background-color: #ECECFF\">business</span> <span style=\"background-color: #FAFAFF\">.</span> <span style=\"background-color: #D6D6FF\">this</span> <span style=\"background-color: #DCDCFF\">job</span> <span style=\"background-color: #E3E3FF\">was</span> <span style=\"background-color: #FFD6D6\">originally</span> <span style=\"background-color: #E3E3FF\">posted</span> <span style=\"background-color: #EEEEFF\">as</span> <span style=\"background-color: #E6E6FF\">www</span> <span style=\"background-color: #FEFEFF\">.</span> <span style=\"background-color: #FFF4F4\">totaljobs</span> <span style=\"background-color: #FFFEFE\">.</span> <span style=\"background-color: #FEFEFF\">com</span> <span style=\"background-color: #FFFCFC\">/</span> <span style=\"background-color: #FFFEFE\">jobseeking</span> <span style=\"background-color: #FEFEFF\">/</span> <span style=\"background-color: #FFDADA\">mechanicalprojectmanager_job</span> <span style=\"background-color: #FFFEFE\">****</span></p>"
      ]
     },
     "metadata": {},
     "output_type": "display_data"
    }
   ],
   "source": [
    "i = np.random.randint(len(data))\n",
    "print(\"Index:\", i)\n",
    "print(\"Salary (gbp):\", np.expm1(model.predict(make_batch(data.iloc[i: i+1]))[0, 0]))\n",
    "\n",
    "tokens_and_weights = explain(model, data.loc[i], \"Title\")\n",
    "draw_html([(tok, weight * 5) for tok, weight in tokens_and_weights], font_style='font-size:20px;');\n",
    "\n",
    "tokens_and_weights = explain(model, data.loc[i], \"FullDescription\")\n",
    "draw_html([(tok, weight * 10) for tok, weight in tokens_and_weights]);"
   ]
  },
  {
   "cell_type": "markdown",
   "metadata": {},
   "source": [
    "__Terrible start-up idea #1962:__ make a tool that automaticaly rephrases your job description (or CV) to meet salary expectations :)"
   ]
  }
 ],
 "metadata": {
  "kernelspec": {
   "display_name": "Python 3",
   "language": "python",
   "name": "python3"
  },
  "language_info": {
   "codemirror_mode": {
    "name": "ipython",
    "version": 3
   },
   "file_extension": ".py",
   "mimetype": "text/x-python",
   "name": "python",
   "nbconvert_exporter": "python",
   "pygments_lexer": "ipython3",
   "version": "3.6.6"
  }
 },
 "nbformat": 4,
 "nbformat_minor": 2
}
