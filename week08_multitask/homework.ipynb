{
 "cells": [
  {
   "cell_type": "markdown",
   "metadata": {},
   "source": [
    "# Homework: Multi-task Learning & Domain Adaptation\n",
    "##  Named Entity Recognition\n",
    "\n",
    "Today we're gonna solve the problem of named entity recognition. Here's what it does in one picture:\n",
    "![img](https://commons.bmstu.wiki/images/0/00/NER1.png)\n",
    "[image source](https://bit.ly/2Pmg7L2)\n",
    "\n",
    "\n",
    "For each word, in a sentence, your model should predict a named entity class:\n"
   ]
  },
  {
   "cell_type": "code",
   "execution_count": 1,
   "metadata": {},
   "outputs": [],
   "source": [
    "import numpy as np\n",
    "import tensorflow as tf\n",
    "tf.reset_default_graph()\n",
    "sess = tf.InteractiveSession()"
   ]
  },
  {
   "cell_type": "markdown",
   "metadata": {},
   "source": [
    "## Data\n",
    "\n",
    "### Train set\n",
    "\n",
    "Our model will train on a [Groningen Meaning Bank corpus](https://www.kaggle.com/abhinavwalia95/entity-annotated-corpus).\n",
    "\n",
    "Each word of every sentence is labelled with named entity class and a part-of-speech tag.\n",
    "\n",
    "### Source domain testset\n",
    "\n",
    "Our train set consists from texts from different news sources. Therefore as source-domain testset we will use data from [CoNLL-2003 Shared Task](https://github.com/Franck-Dernoncourt/NeuroNER/blob/master/data/conll2003/en). More information about the task can be found [here](https://www.clips.uantwerpen.be/conll2003/ner/).\n",
    "\n",
    "### Target domain (in-domain) data\n",
    "\n",
    "As target-domain data we will use data from [WNUT17 Emerging and Rare entity recognition task](http://noisy-text.github.io/2017/emerging-rare-entities.html). This shared task focuses on identifying unusual, previously-unseen entities in the context of emerging discussions. The data were mined from mined from Twitter, Reddit,\n",
    "YouTube and StackExchange. Results of different competitors of the task were published [here](https://noisy-text.github.io/2017/pdf/WNUT18.pdf).\n",
    "\n",
    "### Named entity classes\n",
    "\n",
    "* PER - _person_: names of people (e.g. Alexander S. Pushkin)\n",
    "* ORG - _organization_: names of corporations (e.g. Yandex), names of non-profit organizations (e.g. UNICEF)\n",
    "Google).\n",
    "* LOC - _location_ : e.g. Russia\n",
    "* MISC - _miscellaneous_ : other named entities including names of products (e.g. iPhone) and creative works (e.g. Bohemian Rhapsody)\n",
    "\n",
    "### Evaluation metrics\n",
    "\n",
    "As evaluation metrics we will F1 measure on exact matched NEs. It means that partially overlapped enitities of same class are considered as mismatch.\n",
    "For example, LOC entities below is partially overlapped. And it is a mismatch:\n",
    "\n",
    "__O, B-LOC, I-LOC, O__\n",
    "\n",
    "__O, B-LOC, I-LOC, I-LOC__\n",
    "\n",
    "Details can be found in the code of _conlleval.py_\n",
    "\n",
    "### Data format\n",
    "\n",
    "The format of all dataset follows popular [IOB format](https://en.wikipedia.org/wiki/Inside–outside–beginning_(tagging)). The B- prefix before a tag indicates that the tag is the beginning of a chunk, and an I- prefix before a tag indicates that the tag is inside a chunk. The B- tag is used only when a tag is followed by a tag of the same type without O tokens between them. An O tag indicates that a token belongs to no chunk.\n",
    "\n",
    "The named entity labels include:\n",
    "* __B-LOC__ - location - first token\n",
    "* __I-LOC__ - location - subsequent tokens\n",
    "* __B-ORG__ - organization - first token\n",
    "* __O__ - not a named entity\n",
    "\n",
    "Take a look for yourself:"
   ]
  },
  {
   "cell_type": "code",
   "execution_count": 2,
   "metadata": {
    "scrolled": true
   },
   "outputs": [
    {
     "name": "stdout",
     "output_type": "stream",
     "text": [
      "--2018-12-01 16:02:06--  https://www.dropbox.com/s/xobyz6jgovvz3dm/kaggle-train.conll?dl=1\n",
      "Resolving www.dropbox.com (www.dropbox.com)... 162.125.66.1, 2620:100:6022:1::a27d:4201\n",
      "Connecting to www.dropbox.com (www.dropbox.com)|162.125.66.1|:443... connected.\n",
      "HTTP request sent, awaiting response... 301 Moved Permanently\n",
      "Location: /s/dl/xobyz6jgovvz3dm/kaggle-train.conll [following]\n",
      "--2018-12-01 16:02:07--  https://www.dropbox.com/s/dl/xobyz6jgovvz3dm/kaggle-train.conll\n",
      "Reusing existing connection to www.dropbox.com:443.\n",
      "HTTP request sent, awaiting response... 302 Found\n",
      "Location: https://uc3aa4649da522fce9ca87622205.dl.dropboxusercontent.com/cd/0/get/AWo-cx3bzXFCJ-gcK86zwvF7xUu8IfRQHKbOPGJMDGvTey1uq2-LEIW1qYRWkGeifeWuIMu0lai1QOFAZTmHw5VOXb6FORpadKGIri0Mz9l8QXWZghJupBmJTkPvuWfDGStFiDuObsEvIASt22ci68J9frDFyYSsIFwvobxTO6kCoQe64RKQQtykLa0X-8UKZrQ/file?dl=1 [following]\n",
      "--2018-12-01 16:02:07--  https://uc3aa4649da522fce9ca87622205.dl.dropboxusercontent.com/cd/0/get/AWo-cx3bzXFCJ-gcK86zwvF7xUu8IfRQHKbOPGJMDGvTey1uq2-LEIW1qYRWkGeifeWuIMu0lai1QOFAZTmHw5VOXb6FORpadKGIri0Mz9l8QXWZghJupBmJTkPvuWfDGStFiDuObsEvIASt22ci68J9frDFyYSsIFwvobxTO6kCoQe64RKQQtykLa0X-8UKZrQ/file?dl=1\n",
      "Resolving uc3aa4649da522fce9ca87622205.dl.dropboxusercontent.com (uc3aa4649da522fce9ca87622205.dl.dropboxusercontent.com)... 162.125.66.6, 2620:100:6022:6::a27d:4206\n",
      "Connecting to uc3aa4649da522fce9ca87622205.dl.dropboxusercontent.com (uc3aa4649da522fce9ca87622205.dl.dropboxusercontent.com)|162.125.66.6|:443... connected.\n",
      "HTTP request sent, awaiting response... 200 OK\n",
      "Length: 12200095 (12M) [application/binary]\n",
      "Saving to: ‘kaggle-train.conll’\n",
      "\n",
      "kaggle-train.conll  100%[===================>]  11.63M  3.61MB/s    in 3.3s    \n",
      "\n",
      "2018-12-01 16:02:11 (3.50 MB/s) - ‘kaggle-train.conll’ saved [12200095/12200095]\n",
      "\n",
      "--2018-12-01 16:02:11--  https://www.dropbox.com/s/1l8b9iy78cglrw3/source-domain-test.conll?dl=1\n",
      "Resolving www.dropbox.com (www.dropbox.com)... 162.125.66.1, 2620:100:6022:1::a27d:4201\n",
      "Connecting to www.dropbox.com (www.dropbox.com)|162.125.66.1|:443... connected.\n",
      "HTTP request sent, awaiting response... 301 Moved Permanently\n",
      "Location: /s/dl/1l8b9iy78cglrw3/source-domain-test.conll [following]\n",
      "--2018-12-01 16:02:12--  https://www.dropbox.com/s/dl/1l8b9iy78cglrw3/source-domain-test.conll\n",
      "Reusing existing connection to www.dropbox.com:443.\n",
      "HTTP request sent, awaiting response... 302 Found\n",
      "Location: https://uca1b522a965a92414ed3d428abd.dl.dropboxusercontent.com/cd/0/get/AWorAdU8_SVD8Kv3N8b_K60nd3DgO_YzsOBNR1QKwMq-GfgRoARySN9NwF58yXZ13btyXHfAOHF5XTx6bQYWwx1Rcxalse-CySgW6ePstIk7vsmgkywUR4HGxxR7bfd-YxxVWEP1_YZ8A-Nc-pFNho_B3RQbc43Aa4DB7UmP20Jsh-xqi3xGigu9EajcWK_RMS4/file?dl=1 [following]\n",
      "--2018-12-01 16:02:12--  https://uca1b522a965a92414ed3d428abd.dl.dropboxusercontent.com/cd/0/get/AWorAdU8_SVD8Kv3N8b_K60nd3DgO_YzsOBNR1QKwMq-GfgRoARySN9NwF58yXZ13btyXHfAOHF5XTx6bQYWwx1Rcxalse-CySgW6ePstIk7vsmgkywUR4HGxxR7bfd-YxxVWEP1_YZ8A-Nc-pFNho_B3RQbc43Aa4DB7UmP20Jsh-xqi3xGigu9EajcWK_RMS4/file?dl=1\n",
      "Resolving uca1b522a965a92414ed3d428abd.dl.dropboxusercontent.com (uca1b522a965a92414ed3d428abd.dl.dropboxusercontent.com)... 162.125.66.6, 2620:100:6022:6::a27d:4206\n",
      "Connecting to uca1b522a965a92414ed3d428abd.dl.dropboxusercontent.com (uca1b522a965a92414ed3d428abd.dl.dropboxusercontent.com)|162.125.66.6|:443... connected.\n",
      "HTTP request sent, awaiting response... 200 OK\n",
      "Length: 526358 (514K) [application/binary]\n",
      "Saving to: ‘source-domain-test.conll’\n",
      "\n",
      "source-domain-test. 100%[===================>] 514.02K  2.13MB/s    in 0.2s    \n",
      "\n",
      "2018-12-01 16:02:13 (2.13 MB/s) - ‘source-domain-test.conll’ saved [526358/526358]\n",
      "\n",
      "--2018-12-01 16:02:13--  https://www.dropbox.com/s/oxfkdy23ux5hfz5/target-domain-test.conll?dl=1\n",
      "Resolving www.dropbox.com (www.dropbox.com)... 162.125.66.1, 2620:100:6022:1::a27d:4201\n",
      "Connecting to www.dropbox.com (www.dropbox.com)|162.125.66.1|:443... connected.\n",
      "HTTP request sent, awaiting response... 301 Moved Permanently\n",
      "Location: /s/dl/oxfkdy23ux5hfz5/target-domain-test.conll [following]\n",
      "--2018-12-01 16:02:13--  https://www.dropbox.com/s/dl/oxfkdy23ux5hfz5/target-domain-test.conll\n",
      "Reusing existing connection to www.dropbox.com:443.\n",
      "HTTP request sent, awaiting response... 302 Found\n",
      "Location: https://uc7281fb3aad0d4b5f9233442cb2.dl.dropboxusercontent.com/cd/0/get/AWrqoaHC8iWtqwQMsFXF7Y5covpZGYw0sCDP2MkMSd0e7nznNZxxRePJ_Zk4Dok9UPKAsIL4So8UGNMuKxYQCQlZmLtyA_ZdtDQtM1UWWAD2x-X0EBtN56k-Pvchbs5nF0xfpyr5lDoo_IF2hPAOoUu3nPATIwMw6NtnROGPmyTMqy4Uua-u3dp3wdLDAYUHkF4/file?dl=1 [following]\n",
      "--2018-12-01 16:02:14--  https://uc7281fb3aad0d4b5f9233442cb2.dl.dropboxusercontent.com/cd/0/get/AWrqoaHC8iWtqwQMsFXF7Y5covpZGYw0sCDP2MkMSd0e7nznNZxxRePJ_Zk4Dok9UPKAsIL4So8UGNMuKxYQCQlZmLtyA_ZdtDQtM1UWWAD2x-X0EBtN56k-Pvchbs5nF0xfpyr5lDoo_IF2hPAOoUu3nPATIwMw6NtnROGPmyTMqy4Uua-u3dp3wdLDAYUHkF4/file?dl=1\n",
      "Resolving uc7281fb3aad0d4b5f9233442cb2.dl.dropboxusercontent.com (uc7281fb3aad0d4b5f9233442cb2.dl.dropboxusercontent.com)... 162.125.66.6, 2620:100:6022:6::a27d:4206\n",
      "Connecting to uc7281fb3aad0d4b5f9233442cb2.dl.dropboxusercontent.com (uc7281fb3aad0d4b5f9233442cb2.dl.dropboxusercontent.com)|162.125.66.6|:443... connected.\n",
      "HTTP request sent, awaiting response... 200 OK\n",
      "Length: 183185 (179K) [application/binary]\n",
      "Saving to: ‘target-domain-test.conll’\n",
      "\n",
      "target-domain-test. 100%[===================>] 178.89K  --.-KB/s    in 0.1s    \n",
      "\n",
      "2018-12-01 16:02:14 (1.22 MB/s) - ‘target-domain-test.conll’ saved [183185/183185]\n",
      "\n",
      "--2018-12-01 16:02:15--  https://www.dropbox.com/s/ysdrotjdfljydbr/target-domain-monolingual.conll?dl=1\n",
      "Resolving www.dropbox.com (www.dropbox.com)... 162.125.66.1, 2620:100:6022:1::a27d:4201\n",
      "Connecting to www.dropbox.com (www.dropbox.com)|162.125.66.1|:443... connected.\n",
      "HTTP request sent, awaiting response... 301 Moved Permanently\n",
      "Location: /s/dl/ysdrotjdfljydbr/target-domain-monolingual.conll [following]\n",
      "--2018-12-01 16:02:15--  https://www.dropbox.com/s/dl/ysdrotjdfljydbr/target-domain-monolingual.conll\n",
      "Reusing existing connection to www.dropbox.com:443.\n",
      "HTTP request sent, awaiting response... 302 Found\n",
      "Location: https://ucdb5e2de1cc09ea510eb5390fe2.dl.dropboxusercontent.com/cd/0/get/AWqhfIWNeWFycSxo5vHDETnihoAqmodxAaA1JBPBFU328SpGkOkyGaqKSaDhRcUiXha-PNAlrvUIDy-Q70qGw8-__qjKGd62KtI_wZZKJpcMlyDEWHHJs30nJoTC1C2Ee-1HCqT0InJJdo3_dnzTWd9P5M22JwdzsNdt63f4WsWQQuEMz874ehtXiFTVNVQdpEc/file?dl=1 [following]\n",
      "--2018-12-01 16:02:15--  https://ucdb5e2de1cc09ea510eb5390fe2.dl.dropboxusercontent.com/cd/0/get/AWqhfIWNeWFycSxo5vHDETnihoAqmodxAaA1JBPBFU328SpGkOkyGaqKSaDhRcUiXha-PNAlrvUIDy-Q70qGw8-__qjKGd62KtI_wZZKJpcMlyDEWHHJs30nJoTC1C2Ee-1HCqT0InJJdo3_dnzTWd9P5M22JwdzsNdt63f4WsWQQuEMz874ehtXiFTVNVQdpEc/file?dl=1\n",
      "Resolving ucdb5e2de1cc09ea510eb5390fe2.dl.dropboxusercontent.com (ucdb5e2de1cc09ea510eb5390fe2.dl.dropboxusercontent.com)... 162.125.66.6, 2620:100:6022:6::a27d:4206\n",
      "Connecting to ucdb5e2de1cc09ea510eb5390fe2.dl.dropboxusercontent.com (ucdb5e2de1cc09ea510eb5390fe2.dl.dropboxusercontent.com)|162.125.66.6|:443... connected.\n",
      "HTTP request sent, awaiting response... 200 OK\n",
      "Length: 338533 (331K) [application/binary]\n",
      "Saving to: ‘target-domain-monolingual.conll’\n",
      "\n",
      "target-domain-monol 100%[===================>] 330.60K  1.82MB/s    in 0.2s    \n",
      "\n",
      "2018-12-01 16:02:16 (1.82 MB/s) - ‘target-domain-monolingual.conll’ saved [338533/338533]\n",
      "\n"
     ]
    }
   ],
   "source": [
    "# Train:\n",
    "!wget https://www.dropbox.com/s/xobyz6jgovvz3dm/kaggle-train.conll?dl=1 -O kaggle-train.conll\n",
    "\n",
    "# Source domain testset:\n",
    "!wget https://www.dropbox.com/s/1l8b9iy78cglrw3/source-domain-test.conll?dl=1 -O source-domain-test.conll\n",
    "\n",
    "# Target domain testset:\n",
    "!wget https://www.dropbox.com/s/oxfkdy23ux5hfz5/target-domain-test.conll?dl=1 -O target-domain-test.conll\n",
    "    \n",
    "# Target domain monolingual data:\n",
    "!wget https://www.dropbox.com/s/ysdrotjdfljydbr/target-domain-monolingual.conll?dl=1 -O target-domain-monolingual.conll\n"
   ]
  },
  {
   "cell_type": "code",
   "execution_count": 2,
   "metadata": {},
   "outputs": [
    {
     "data": {
      "text/plain": [
       "{'word': 'the 17 countries now eligible for world bank debt relief are benin , bolivia , burkina faso , ethiopia , ghana , guyana , honduras , madagascar , mali , mozambique , nicaragua , niger , rwanda , senegal , tanzania , uganda and zambia .',\n",
       " 'pos': 'DT CD NNS RB JJ IN NNP NNP NN NN VBP NNP , NNP , NNP NNP , NNP , NNP , NNP , NNP , NNP , NNP , NNP , NNP , NNP , NNP , NNP , NNP , NNP CC NNP .',\n",
       " 'ne': 'O O O O O O B-ORG I-ORG O O O B-LOC O B-LOC O B-LOC I-LOC O B-LOC O B-LOC O B-LOC O B-LOC O B-LOC O B-LOC O B-LOC O B-LOC O B-LOC O B-LOC O B-LOC O B-LOC O B-LOC O B-LOC O'}"
      ]
     },
     "execution_count": 2,
     "metadata": {},
     "output_type": "execute_result"
    }
   ],
   "source": [
    "from conlleval import evaluate\n",
    "from utils import read_conll\n",
    "data = read_conll('./kaggle-train.conll', lower_words=True)\n",
    "\n",
    "data[333]"
   ]
  },
  {
   "cell_type": "code",
   "execution_count": 3,
   "metadata": {},
   "outputs": [],
   "source": [
    "test_outdomain_data = read_conll('./source-domain-test.conll', lower_words=True)\n",
    "test_indomain_data = read_conll('./target-domain-test.conll', column_names=['word', 'ne'], lower_words=True)\n",
    "monolingual_indomain_data = read_conll('./target-domain-monolingual.conll', column_names=['word'], lower_words=True)"
   ]
  },
  {
   "cell_type": "code",
   "execution_count": 4,
   "metadata": {},
   "outputs": [
    {
     "name": "stdout",
     "output_type": "stream",
     "text": [
      "train: 35967, dev: 11989\n"
     ]
    }
   ],
   "source": [
    "from sklearn.model_selection import train_test_split\n",
    "train_data, dev_data = train_test_split(data, test_size=0.25, random_state=42)\n",
    "print(\"train: {}, dev: {}\".format(len(train_data), len(dev_data)))"
   ]
  },
  {
   "cell_type": "code",
   "execution_count": 5,
   "metadata": {},
   "outputs": [],
   "source": [
    "from utils import Vocab\n",
    "vocabs = {\n",
    "    key: Vocab.from_lines([row[key] for row in train_data])\n",
    "    for key in ['word', 'pos', 'ne']\n",
    "}\n",
    "\n",
    "def prepare_batch(data):\n",
    "    keys = data[0].keys()\n",
    "    return {\n",
    "        key: vocabs[key].to_matrix(row[key] for row in data)\n",
    "        for key in keys\n",
    "    }"
   ]
  },
  {
   "cell_type": "code",
   "execution_count": 6,
   "metadata": {},
   "outputs": [
    {
     "name": "stdout",
     "output_type": "stream",
     "text": [
      "{'word': 'well , it could happen !', 'pos': 'RB , PRP MD VB .', 'ne': 'O O O O O O'}\n",
      "{'word': 'sudan denies the claim .', 'pos': 'NNP VBZ DT NN .', 'ne': 'B-LOC O O O O'}\n"
     ]
    },
    {
     "data": {
      "text/plain": [
       "{'word': array([[27512,   289, 13824,  7061, 12084,     2],\n",
       "        [24626,  7884, 25433,  6090,   292,     0]], dtype=int32),\n",
       " 'pos': array([[26,  4, 24, 17, 33,  5],\n",
       "        [19, 38, 10, 18,  5,  0]], dtype=int32),\n",
       " 'ne': array([[10, 10, 10, 10, 10, 10],\n",
       "        [ 2, 10, 10, 10, 10,  0]], dtype=int32)}"
      ]
     },
     "execution_count": 6,
     "metadata": {},
     "output_type": "execute_result"
    }
   ],
   "source": [
    "dummy_rows = sorted(data, key=lambda row: len(row['word']))[100:102]\n",
    "print(dummy_rows[0])\n",
    "print(dummy_rows[1])\n",
    "prepare_batch(dummy_rows)"
   ]
  },
  {
   "cell_type": "markdown",
   "metadata": {},
   "source": [
    "## Baseline: single-task model (1.5 points)\n",
    "\n",
    "![img](https://github.com/yandexdataschool/nlp_course/raw/master/resources/gorynich_ne.png)\n",
    "\n",
    "Let's start with a straightforward model that does named entity recognition.\n",
    "\n",
    "\n",
    "The image will make sense later :)"
   ]
  },
  {
   "cell_type": "code",
   "execution_count": 7,
   "metadata": {},
   "outputs": [
    {
     "name": "stderr",
     "output_type": "stream",
     "text": [
      "Using TensorFlow backend.\n"
     ]
    }
   ],
   "source": [
    "import keras, keras.layers as L"
   ]
  },
  {
   "cell_type": "code",
   "execution_count": 8,
   "metadata": {},
   "outputs": [],
   "source": [
    "class SimpleModel:\n",
    "    def __init__(self, name, emb_size=128, hid_size=128):\n",
    "        \"\"\"\n",
    "        A model that predicts named entity class for each word\n",
    "        We recommend the following model:\n",
    "        * Embedding\n",
    "        * Bi-directional LSTM\n",
    "        * Linear layer to predict logits\n",
    "        \"\"\"\n",
    "        \n",
    "        # define layers\n",
    "        self.emb = L.Embedding(len(vocabs['word']), emb_size)\n",
    "        self.hid = L.Bidirectional(L.LSTM(hid_size // 2, return_sequences=True))\n",
    "        self.logits = L.Dense(len(vocabs['ne']))\n",
    "    \n",
    "    def __call__(self, input_ix):\n",
    "        \"\"\"\n",
    "        Compute logits for named entity recognition\n",
    "        :param input_ix: a matrix of token indices, int32[batch_size, seq_length]\n",
    "        \"\"\"\n",
    "\n",
    "        return {'ne': self.logits(self.hid(self.emb(input_ix)))}"
   ]
  },
  {
   "cell_type": "code",
   "execution_count": 9,
   "metadata": {},
   "outputs": [],
   "source": [
    "model = SimpleModel('mod1')\n",
    "\n",
    "\n",
    "\n",
    "dummy_ix = tf.constant(prepare_batch(train_data[:3])['word'])\n",
    "dummy_out = model(dummy_ix)\n",
    "\n",
    "sess.run(tf.global_variables_initializer())\n",
    "dummy_logits = sess.run(dummy_out['ne'])\n",
    "\n",
    "assert dummy_logits.shape == (3, dummy_ix.shape[1], len(vocabs['ne']))\n",
    "assert dummy_logits.min() < 0 and dummy_logits.max() > 0, \"you ~may~ have added nonlinearity after logits.\"\\\n",
    "                                                          \"Make sure they're just a linear layer\""
   ]
  },
  {
   "cell_type": "code",
   "execution_count": 10,
   "metadata": {},
   "outputs": [],
   "source": [
    "from utils import infer_mask\n",
    "\n",
    "class trainer:\n",
    "    \"\"\" A bunch of tensorflow operations used for model training \"\"\"\n",
    "    \n",
    "    ph = {\n",
    "        'word': tf.placeholder('int32', [None, None], name='input_tokens'),\n",
    "        'ne': tf.placeholder('int32', [None, None], name='named_entities'),\n",
    "    }\n",
    "\n",
    "    logits = model(ph['word'])\n",
    "    mask = infer_mask(ph['word'])\n",
    "    \n",
    "    loss = -tf.nn.log_softmax(logits['ne'], -1) * tf.one_hot(ph['ne'], len(vocabs['ne']))\n",
    "    loss = tf.reduce_sum(loss * mask[:, :, None]) / tf.reduce_sum(mask)\n",
    "\n",
    "    step = tf.train.AdamOptimizer().minimize(loss)"
   ]
  },
  {
   "cell_type": "markdown",
   "metadata": {},
   "source": [
    "### Training loop\n",
    "\n",
    "Nothin' special: sample random batches and perform SGD steps"
   ]
  },
  {
   "cell_type": "code",
   "execution_count": 11,
   "metadata": {},
   "outputs": [],
   "source": [
    "def iterate_minibatches(data, batch_size=128, shuffle=True, cycle=False, max_batches=None):\n",
    "    indices = np.arange(len(data))\n",
    "    total_batches = 0\n",
    "    while True:\n",
    "        if shuffle: indices = np.random.permutation(indices)\n",
    "        for start_i in range(0, len(data), batch_size):\n",
    "            batch_ix = indices[start_i: start_i + batch_size]\n",
    "            yield prepare_batch(data[batch_ix])\n",
    "            total_batches += 1\n",
    "            if max_batches and total_batches >= max_batches:\n",
    "                return\n",
    "        if not cycle: break\n",
    "            \n",
    "\n",
    "def compute_error_rate(trainer, data, batch_size=128, key='ne'):\n",
    "    numerator = denominator = 0.0\n",
    "    for batch in iterate_minibatches(data, batch_size, shuffle=False, cycle=False):\n",
    "        batch_ne_logits, batch_mask = sess.run([trainer.logits[key], trainer.mask], \n",
    "                                               {trainer.ph['word']: batch['word']})\n",
    "        numerator += np.sum((batch[key] == batch_ne_logits.argmax(-1)) * batch_mask)\n",
    "        denominator += batch_mask.sum()\n",
    "    return (1.0 - numerator / denominator) * 100\n",
    "\n",
    "def decode_greedy(trainer, data, vocabs, batch_size=128, key='ne'):\n",
    "    result = []\n",
    "    for batch in iterate_minibatches(data, batch_size, shuffle=False, cycle=False):\n",
    "        batch_logits = sess.run(trainer.logits[key], \n",
    "                                {trainer.ph['word']: batch['word']})\n",
    "        result.extend(vocabs[key].to_lines(batch_logits.argmax(-1)))\n",
    "    return result\n",
    "\n",
    "def compute_stats(trainer, data, vocabs, batch_size=128, key='ne', verbose=False):\n",
    "    pred_seqs = decode_greedy(trainer, data, vocabs, batch_size, key)\n",
    "    true_seqs = [r[key] for r in data]\n",
    "    precision, recall, f1 = evaluate(true_seqs, pred_seqs, verbose)\n",
    "    return precision, recall, f1\n",
    "    "
   ]
  },
  {
   "cell_type": "code",
   "execution_count": 12,
   "metadata": {},
   "outputs": [],
   "source": [
    "class StatsHistory:\n",
    "    def __init__(self):\n",
    "        self.precision = []\n",
    "        self.recall = []\n",
    "        self.f1 = []"
   ]
  },
  {
   "cell_type": "code",
   "execution_count": 13,
   "metadata": {},
   "outputs": [],
   "source": [
    "from tqdm import tqdm\n",
    "from IPython.display import clear_output\n",
    "import matplotlib.pyplot as plt\n",
    "%matplotlib inline\n",
    "eval_every = 100\n",
    "\n",
    "loss_history = []\n",
    "dev_stats_history = StatsHistory()\n",
    "indomain_stats_history = StatsHistory()\n",
    "outdomain_stats_history = StatsHistory()\n",
    "\n",
    "sess.run(tf.global_variables_initializer())"
   ]
  },
  {
   "cell_type": "code",
   "execution_count": 14,
   "metadata": {},
   "outputs": [
    {
     "data": {
      "text/plain": [
       "11989"
      ]
     },
     "execution_count": 14,
     "metadata": {},
     "output_type": "execute_result"
    }
   ],
   "source": [
    "len(dev_data)"
   ]
  },
  {
   "cell_type": "code",
   "execution_count": 15,
   "metadata": {
    "scrolled": false
   },
   "outputs": [
    {
     "name": "stdout",
     "output_type": "stream",
     "text": [
      "processed 46394 tokens with 5644 phrases; found: 4575 phrases; correct: 1952.\n",
      "accuracy:  37.96%; (non-O)\n",
      "accuracy:  87.01%; precision:  42.67%; recall:  34.59%; FB1:  38.20\n",
      "              LOC: precision:  54.39%; recall:  69.83%; FB1:  61.15  2140\n",
      "             MISC: precision:  12.50%; recall:   0.29%; FB1:   0.56  16\n",
      "              ORG: precision:  34.16%; recall:  17.41%; FB1:  23.06  846\n",
      "              PER: precision:  31.60%; recall:  30.75%; FB1:  31.17  1573\n",
      "processed 23394 tokens with 992 phrases; found: 897 phrases; correct: 138.\n",
      "accuracy:  13.97%; (non-O)\n",
      "accuracy:  91.43%; precision:  15.38%; recall:  13.91%; FB1:  14.61\n",
      "              LOC: precision:  35.71%; recall:  36.29%; FB1:  36.00  126\n",
      "             MISC: precision:   0.00%; recall:   0.00%; FB1:   0.00  4\n",
      "              ORG: precision:   6.22%; recall:   5.96%; FB1:   6.09  209\n",
      "              PER: precision:  14.34%; recall:  22.47%; FB1:  17.51  558\n"
     ]
    },
    {
     "data": {
      "image/png": "[encoded data removed]",
      "text/plain": [
       "<Figure size 864x432 with 2 Axes>"
      ]
     },
     "metadata": {},
     "output_type": "display_data"
    },
    {
     "name": "stderr",
     "output_type": "stream",
     "text": [
      "100%|██████████| 2500/2500 [15:41<00:00,  2.66it/s]\n"
     ]
    }
   ],
   "source": [
    "for batch in tqdm(iterate_minibatches(train_data, cycle=True, max_batches=2500), total=2500):\n",
    "    loss_t, _ = sess.run([trainer.loss, trainer.step],\n",
    "                         {trainer.ph[key]: batch[key] for key in trainer.ph})\n",
    "    loss_history.append(loss_t)\n",
    "    \n",
    "    if len(loss_history) % eval_every == 0:\n",
    "        precision, recall, f1 = compute_stats(trainer, dev_data, vocabs, verbose=True)\n",
    "        dev_stats_history.precision.append(precision)\n",
    "        dev_stats_history.recall.append(recall)\n",
    "        dev_stats_history.f1.append(f1)\n",
    "        \n",
    "        clear_output(True)\n",
    "        \n",
    "        _, _, f1 = compute_stats(trainer, test_outdomain_data, vocabs, verbose=True)\n",
    "        outdomain_stats_history.f1.append(f1)\n",
    "        \n",
    "        _, _, f1 = compute_stats(trainer, test_indomain_data, vocabs, verbose=True)\n",
    "        indomain_stats_history.f1.append(f1)\n",
    "\n",
    "        plt.figure(figsize=[12, 6])\n",
    "        plt.subplot(1, 2, 1)\n",
    "        plt.plot(loss_history)\n",
    "        plt.title('train loss'), plt.grid()\n",
    "        plt.subplot(1, 2, 2)\n",
    "        \n",
    "        plt.plot(np.arange(1, len(dev_stats_history.f1) + 1) * eval_every, dev_stats_history.f1, label=\"dev f1\")\n",
    "        plt.plot(np.arange(1, len(outdomain_stats_history.f1) + 1) * eval_every, outdomain_stats_history.f1, label=\"outdomain f1\")\n",
    "        plt.plot(np.arange(1, len(indomain_stats_history.f1) + 1) * eval_every, indomain_stats_history.f1, label=\"indomain f1\")\n",
    "\n",
    "        plt.legend()\n",
    "        plt.title('dev stats %'), plt.grid()\n",
    "        plt.show()"
   ]
  },
  {
   "cell_type": "code",
   "execution_count": 16,
   "metadata": {},
   "outputs": [
    {
     "name": "stdout",
     "output_type": "stream",
     "text": [
      "Best dev f1 = 77.559% \n",
      "Best in-domain f1 = 15.238% \n",
      "Best out-of-domain f1 = 38.563%\n"
     ]
    }
   ],
   "source": [
    "print(\"Best dev f1 = %.3f%%\" % max(dev_stats_history.f1),\n",
    "      \"\\nBest in-domain f1 = %.3f%%\" % max(indomain_stats_history.f1),\n",
    "      \"\\nBest out-of-domain f1 = %.3f%%\" % max(outdomain_stats_history.f1))\n",
    "assert max(dev_stats_history.f1) > 75, \"you can do better\""
   ]
  },
  {
   "cell_type": "markdown",
   "metadata": {},
   "source": [
    "# Multitask model: NER + POS (1.5 points)\n",
    "\n",
    "Our data contains not only named entity labels, but also part-of-speech tags. Those problems are similar in nature, making it a good candidate for multi-tasking. With any luck, ouyr model will become better at named entity recognition by learning for POS-tagging.\n",
    "\n",
    "![model2](https://github.com/yandexdataschool/nlp_course/raw/master/resources/gorynich_2.png)"
   ]
  },
  {
   "cell_type": "code",
   "execution_count": 17,
   "metadata": {},
   "outputs": [],
   "source": [
    "import keras, keras.layers as L\n",
    "\n",
    "class MultitaskModel:\n",
    "    def __init__(self, name, emb_size=128, hid_size=128):\n",
    "        \"\"\" \n",
    "        Equivalent to the SimpleModel above, but with two \n",
    "        linear \"heads\": one for \"ne\" logits and another for \"pos\".\n",
    "        Both heads should grow from the same intermediate \"body\" layer\n",
    "        \"\"\"\n",
    "        self.emb = L.Embedding(len(vocabs['word']), emb_size)\n",
    "        self.hid = L.Bidirectional(L.LSTM(hid_size // 2, return_sequences=True))\n",
    "        self.ner_logits = L.Dense(len(vocabs['ne']))\n",
    "        self.pos_logits = L.Dense(len(vocabs['pos']))\n",
    "\n",
    "    \n",
    "    def __call__(self, input_ix):\n",
    "        \"\"\"\n",
    "        Compute logits for named entity recognition\n",
    "        \"\"\"\n",
    "        emb = self.emb(input_ix)\n",
    "        hid = self.hid(emb)\n",
    "        ner_logits = self.ner_logits(hid)\n",
    "        pos_logits = self.pos_logits(hid)\n",
    "        return {'ne': ner_logits, 'pos': pos_logits}"
   ]
  },
  {
   "cell_type": "code",
   "execution_count": 18,
   "metadata": {},
   "outputs": [],
   "source": [
    "model = MultitaskModel('mod2')\n",
    "\n",
    "dummy_ix = tf.constant(prepare_batch(train_data[:3])['word'])\n",
    "dummy_out = model(dummy_ix)\n",
    "assert 'ne' in dummy_out and 'pos' in dummy_out\n",
    "\n",
    "sess.run(tf.global_variables_initializer())\n",
    "\n",
    "for key, logits in sess.run(dummy_out).items():\n",
    "    assert logits.shape == (3, dummy_ix.shape[1], len(vocabs[key]))"
   ]
  },
  {
   "cell_type": "code",
   "execution_count": 19,
   "metadata": {},
   "outputs": [],
   "source": [
    "from utils import infer_mask\n",
    "\n",
    "class multitask_trainer:\n",
    "    \"\"\" A trainer that computes losses for both NER and POS tasks and adds them together. \"\"\"    \n",
    "    ph = {\n",
    "        'word': tf.placeholder('int32', [None, None], name='input_tokens'),\n",
    "        'ne': tf.placeholder('int32', [None, None], name='named_entities'),\n",
    "        'pos': tf.placeholder('int32', [None, None], name='part_of_speech_tags'),\n",
    "    }\n",
    "\n",
    "    logits = model(ph['word'])\n",
    "    mask = infer_mask(ph['word'])\n",
    "    \n",
    "    # Compute loss for NER. Feel free to reuse the code from original trainer\n",
    "    ner_loss = -tf.nn.log_softmax(logits['ne'], -1) * tf.one_hot(ph['ne'], len(vocabs['ne']))\n",
    "    ner_loss = tf.reduce_sum(ner_loss * mask[:, :, None]) / tf.reduce_sum(mask)\n",
    "\n",
    "    # Compute the same kind of loss for POS.  (key: 'pos')\n",
    "    pos_loss = -tf.nn.log_softmax(logits['pos'], -1) * tf.one_hot(ph['pos'], len(vocabs['pos']))\n",
    "    pos_loss = tf.reduce_sum(pos_loss * mask[:, :, None]) / tf.reduce_sum(mask)\n",
    "    \n",
    "    # The total loss is just a sum of two losses.\n",
    "    # Note: you can use weighted combination of losses to squeeze a few more %%\n",
    "    loss = ner_loss + pos_loss\n",
    "    step = tf.train.AdamOptimizer().minimize(loss)"
   ]
  },
  {
   "cell_type": "code",
   "execution_count": 20,
   "metadata": {},
   "outputs": [],
   "source": [
    "dummy_batch = prepare_batch(train_data[:3])\n",
    "ner_loss, pos_loss = sess.run([multitask_trainer.ner_loss, multitask_trainer.pos_loss], \n",
    "                              {multitask_trainer.ph[key]: dummy_batch[key] for key in multitask_trainer.ph})\n",
    "\n",
    "assert ner_loss > 0 and np.shape(ner_loss) == (), \"loss must be a positive scalar\"\n",
    "assert pos_loss > 0 and np.shape(pos_loss) == (), \"loss must be a positive scalar\""
   ]
  },
  {
   "cell_type": "code",
   "execution_count": 21,
   "metadata": {},
   "outputs": [],
   "source": [
    "from tqdm import tqdm\n",
    "from IPython.display import clear_output\n",
    "import matplotlib.pyplot as plt\n",
    "%matplotlib inline\n",
    "\n",
    "loss_history = []\n",
    "dev_stats_history = StatsHistory()\n",
    "indomain_stats_history = StatsHistory()\n",
    "outdomain_stats_history = StatsHistory()\n",
    "\n",
    "sess.run(tf.global_variables_initializer())"
   ]
  },
  {
   "cell_type": "code",
   "execution_count": 22,
   "metadata": {},
   "outputs": [
    {
     "name": "stdout",
     "output_type": "stream",
     "text": [
      "processed 46394 tokens with 5644 phrases; found: 4221 phrases; correct: 1862.\n",
      "accuracy:  36.82%; (non-O)\n",
      "accuracy:  87.58%; precision:  44.11%; recall:  32.99%; FB1:  37.75\n",
      "              LOC: precision:  55.56%; recall:  68.39%; FB1:  61.31  2052\n",
      "             MISC: precision:  11.11%; recall:   0.14%; FB1:   0.28  9\n",
      "              ORG: precision:  26.80%; recall:  16.63%; FB1:  20.52  1030\n",
      "              PER: precision:  39.38%; recall:  27.54%; FB1:  32.41  1130\n",
      "processed 23394 tokens with 992 phrases; found: 746 phrases; correct: 128.\n",
      "accuracy:  13.15%; (non-O)\n",
      "accuracy:  91.99%; precision:  17.16%; recall:  12.90%; FB1:  14.73\n",
      "              LOC: precision:  36.11%; recall:  31.45%; FB1:  33.62  108\n",
      "             MISC: precision:   0.00%; recall:   0.00%; FB1:   0.00  5\n",
      "              ORG: precision:   5.69%; recall:   9.63%; FB1:   7.16  369\n",
      "              PER: precision:  25.76%; recall:  19.10%; FB1:  21.94  264\n"
     ]
    },
    {
     "data": {
      "image/png": "[encoded data removed]",
      "text/plain": [
       "<Figure size 864x432 with 2 Axes>"
      ]
     },
     "metadata": {},
     "output_type": "display_data"
    },
    {
     "name": "stderr",
     "output_type": "stream",
     "text": [
      "100%|██████████| 2500/2500 [16:01<00:00,  2.60it/s]\n"
     ]
    }
   ],
   "source": [
    "for batch in tqdm(iterate_minibatches(train_data, cycle=True, max_batches=2500), total=2500):\n",
    "    loss_t, _ = sess.run([multitask_trainer.loss, multitask_trainer.step], \n",
    "                         {multitask_trainer.ph[key]: batch[key] for key in multitask_trainer.ph})\n",
    "    loss_history.append(loss_t)\n",
    "    \n",
    "    if len(loss_history) % 100 == 0:\n",
    "        precision, recall, f1 = compute_stats(multitask_trainer, dev_data, vocabs, verbose=True)\n",
    "        dev_stats_history.precision.append(precision)\n",
    "        dev_stats_history.recall.append(recall)\n",
    "        dev_stats_history.f1.append(f1)\n",
    "        \n",
    "        clear_output(True)\n",
    "        \n",
    "        _, _, f1 = compute_stats(multitask_trainer, test_outdomain_data, vocabs, verbose=True)\n",
    "        outdomain_stats_history.f1.append(f1)\n",
    "        \n",
    "        _, _, f1 = compute_stats(multitask_trainer, test_indomain_data, vocabs, verbose=True)\n",
    "        indomain_stats_history.f1.append(f1)\n",
    "        \n",
    "        plt.figure(figsize=[12, 6])\n",
    "        plt.subplot(1, 2, 1)\n",
    "        plt.plot(loss_history)\n",
    "        plt.title('train loss'), plt.grid()\n",
    "        plt.subplot(1, 2, 2)\n",
    "        \n",
    "        plt.plot(np.arange(1, len(dev_stats_history.f1) + 1) * eval_every, dev_stats_history.f1, label=\"dev f1\")\n",
    "        plt.plot(np.arange(1, len(outdomain_stats_history.f1) + 1) * eval_every, outdomain_stats_history.f1, label=\"outdomain f1\")\n",
    "        plt.plot(np.arange(1, len(indomain_stats_history.f1) + 1) * eval_every, indomain_stats_history.f1, label=\"indomain f1\")\n",
    "        \n",
    "        plt.title('dev stats %'), plt.grid()\n",
    "        plt.show()"
   ]
  },
  {
   "cell_type": "code",
   "execution_count": 23,
   "metadata": {},
   "outputs": [
    {
     "name": "stdout",
     "output_type": "stream",
     "text": [
      "Best dev f1 = 78.549% \n",
      "Best indomain f1 = 15.844% \n",
      "Best outdomain f1 = 38.055%\n"
     ]
    }
   ],
   "source": [
    "print(\"Best dev f1 = %.3f%%\" % max(dev_stats_history.f1),\n",
    "      \"\\nBest indomain f1 = %.3f%%\" % max(indomain_stats_history.f1),\n",
    "      \"\\nBest outdomain f1 = %.3f%%\" % max(outdomain_stats_history.f1))\n",
    "assert max(dev_stats_history.f1) > 75, \"you can do better\""
   ]
  },
  {
   "cell_type": "markdown",
   "metadata": {},
   "source": [
    "# Multitask model: NER + POS + LM (2 points)\n",
    "\n",
    "Two heads are great, but three's even better! Let's add language modeling to the task.\n",
    "\n",
    "With language models, however, there are a few complications:\n",
    "* Our data is too small for LM training. Let's use [1 billion word benchmark](http://www.statmt.org/lm-benchmark/) instead. It *may* even be a good idea to preserve cases.\n",
    "* Language models have some issues with being bidirectional. We recommend training forward and backward models separately and fusing them together. Or use the same approach as [ELMO](https://tfhub.dev/google/elmo/2).\n",
    "* The simplest scheme is to pre-train as a language model and fine-tune for NER and POS. We recommend starting from that.\n",
    "\n",
    "__IMPORTANT!__ NER/POS dataset comes pre-tokenized.  Make sure you apply {almost} the same tokenization when training language model. Alternatively, you can re-tokenize ner/pos data.\n",
    "\n",
    "\n",
    "![model3](https://github.com/yandexdataschool/nlp_course/raw/master/resources/gorynich_small.png)"
   ]
  },
  {
   "cell_type": "code",
   "execution_count": 24,
   "metadata": {},
   "outputs": [],
   "source": [
    "class MultitaskModel:\n",
    "    def __init__(self, name, emb_size=128, hid_size=128):\n",
    "        \"\"\" \n",
    "        Equivalent to the SimpleModel above, but with three\n",
    "        linear \"heads\": one for \"ne\" logits, second for \"pos\" and last for language modelling.\n",
    "        Both heads should grow from the same intermediate \"body\" layer\n",
    "        \"\"\"\n",
    "        # define layers:\n",
    "        self.emb = L.Embedding(len(vocabs['word']), emb_size)\n",
    "        self.hid = L.Bidirectional(L.LSTM(hid_size // 2, return_sequences=True))\n",
    "        self.ne_logits = L.Dense(len(vocabs['ne']))\n",
    "        self.pos_logits = L.Dense(len(vocabs['pos']))\n",
    "        self.lm_logits = L.Dense(len(vocabs['word']))\n",
    "        \n",
    "\n",
    "    def __call__(self, input_ix):\n",
    "        \"\"\"\n",
    "        Compute logits for named entity recognition\n",
    "        \"\"\"\n",
    "        emb = self.emb(input_ix)\n",
    "        hid = self.hid(emb)\n",
    "        ner_logits = self.ne_logits(hid)\n",
    "        pos_logits = self.pos_logits(hid)\n",
    "        lm_logits = self.lm_logits(hid)\n",
    "        \n",
    "        return {'ne': ner_logits, 'pos': pos_logits, 'lm': lm_logits}"
   ]
  },
  {
   "cell_type": "code",
   "execution_count": 25,
   "metadata": {},
   "outputs": [],
   "source": [
    "model = MultitaskModel('mod3')\n",
    "\n",
    "dummy_ix = tf.constant(prepare_batch(train_data[:3])['word'])\n",
    "dummy_out = model(dummy_ix)\n",
    "assert 'ne' in dummy_out and 'pos' in dummy_out and 'lm' in dummy_out\n",
    "\n",
    "sess.run(tf.global_variables_initializer())"
   ]
  },
  {
   "cell_type": "markdown",
   "metadata": {},
   "source": [
    "Different schemes for multitask learning with Language Model component.\n",
    "\n",
    "You can try at least two of them:\n",
    "* Pretrain network using monolingual data as Language Model and then train model as NER and POS tagger.\n",
    "* Train network alternately: one step on NER and POS tasks, one step on LM tasks. \n"
   ]
  },
  {
   "cell_type": "code",
   "execution_count": 27,
   "metadata": {},
   "outputs": [],
   "source": [
    "from utils import infer_mask\n",
    "import os\n",
    "\n",
    "\n",
    "class multitask_trainer:\n",
    "    \"\"\" A trainer that computes losses for both NER, POS and LM tasks and adds them together. \"\"\"\n",
    "    ph = {\n",
    "        'word': tf.placeholder('int32', [None, None], name='input_tokens'),\n",
    "        'ne': tf.placeholder('int32', [None, None], name='named_entities'),\n",
    "        'pos': tf.placeholder('int32', [None, None], name='part_of_speech_tags'),\n",
    "        'lm': tf.placeholder('int32', [None, None], name='output_tokens'),\n",
    "    }\n",
    "\n",
    "    logits = model(ph['word'])\n",
    "    mask = infer_mask(ph['word'])\n",
    "\n",
    "    # Compute loss for NER. Feel free to reuse the code from original trainer\n",
    "    ner_loss = -tf.nn.log_softmax(logits['ne'], -1) * tf.one_hot(ph['ne'], len(vocabs['ne']))\n",
    "    ner_loss = tf.reduce_sum(ner_loss * mask[:, :, None]) / tf.reduce_sum(mask)\n",
    "\n",
    "    # Compute the same kind of loss for POS.  (key: 'pos')\n",
    "    pos_loss = -tf.nn.log_softmax(logits['pos'], -1) * tf.one_hot(ph['pos'], len(vocabs['pos']))\n",
    "    pos_loss = tf.reduce_sum(pos_loss * mask[:, :, None]) / tf.reduce_sum(mask)\n",
    "\n",
    "    # Compute the same kind of loss for LM.\n",
    "\n",
    "    lm_loss = -tf.nn.log_softmax(logits['lm'], -1) * tf.one_hot(ph['lm'], len(vocabs['word']))\n",
    "    lm_loss = tf.reduce_sum(lm_loss * mask[:, :, None]) / tf.reduce_sum(mask)\n",
    "\n",
    "    loss = ner_loss + pos_loss\n",
    "    step = tf.train.AdamOptimizer().minimize(loss)\n",
    "    lm_step = tf.train.AdamOptimizer().minimize(lm_loss)"
   ]
  },
  {
   "cell_type": "code",
   "execution_count": 36,
   "metadata": {},
   "outputs": [],
   "source": [
    "from tqdm import tqdm, tqdm_notebook\n",
    "from IPython.display import clear_output\n",
    "import matplotlib.pyplot as plt\n",
    "%matplotlib inline\n",
    "\n",
    "loss_history = []\n",
    "dev_stats_history = StatsHistory()\n",
    "indomain_stats_history = StatsHistory()\n",
    "outdomain_stats_history = StatsHistory()\n",
    "\n",
    "sess.run(tf.global_variables_initializer())"
   ]
  },
  {
   "cell_type": "code",
   "execution_count": 37,
   "metadata": {},
   "outputs": [],
   "source": [
    "lm_train_data, lm_dev_data = train_test_split(monolingual_indomain_data, test_size=0.25, random_state=42)"
   ]
  },
  {
   "cell_type": "code",
   "execution_count": 38,
   "metadata": {
    "scrolled": false
   },
   "outputs": [
    {
     "data": {
      "image/png": "[encoded data removed]",
      "text/plain": [
       "<Figure size 864x432 with 1 Axes>"
      ]
     },
     "metadata": {},
     "output_type": "display_data"
    },
    {
     "name": "stderr",
     "output_type": "stream",
     "text": [
      "100%|██████████| 5000/5000 [19:08<00:00,  4.35it/s]\n"
     ]
    }
   ],
   "source": [
    "for batch in tqdm(iterate_minibatches(lm_train_data, cycle=True, max_batches=5000), total=5000):\n",
    "    params = {\n",
    "        multitask_trainer.ph['word']: batch['word'],\n",
    "        multitask_trainer.ph['lm']: batch['word']\n",
    "    }\n",
    "    loss_t, _ = sess.run([multitask_trainer.lm_loss, multitask_trainer.lm_step], params)\n",
    "    loss_history.append(loss_t)\n",
    "    \n",
    "    if len(loss_history) % 100 == 0:\n",
    "        clear_output(True)\n",
    "        plt.figure(figsize=[12, 6])\n",
    "        plt.subplot(1, 2, 1)\n",
    "        plt.plot(loss_history)\n",
    "        plt.title('train loss'), plt.grid()\n",
    "\n",
    "        plt.show()"
   ]
  },
  {
   "cell_type": "code",
   "execution_count": 41,
   "metadata": {},
   "outputs": [],
   "source": [
    "loss_history = []"
   ]
  },
  {
   "cell_type": "code",
   "execution_count": 46,
   "metadata": {},
   "outputs": [
    {
     "name": "stdout",
     "output_type": "stream",
     "text": [
      "processed 46394 tokens with 5644 phrases; found: 3864 phrases; correct: 1668.\n",
      "accuracy:  32.33%; (non-O)\n",
      "accuracy:  87.39%; precision:  43.17%; recall:  29.55%; FB1:  35.09\n",
      "              LOC: precision:  55.48%; recall:  67.43%; FB1:  60.87  2026\n",
      "             MISC: precision:  12.50%; recall:   0.14%; FB1:   0.28  8\n",
      "              ORG: precision:  30.63%; recall:  19.10%; FB1:  23.53  1035\n",
      "              PER: precision:  28.43%; recall:  13.99%; FB1:  18.75  795\n",
      "processed 23394 tokens with 992 phrases; found: 439 phrases; correct: 102.\n",
      "accuracy:   9.86%; (non-O)\n",
      "accuracy:  93.34%; precision:  23.23%; recall:  10.28%; FB1:  14.26\n",
      "              LOC: precision:  40.00%; recall:  33.87%; FB1:  36.68  105\n",
      "             MISC: precision:   0.00%; recall:   0.00%; FB1:   0.00  4\n",
      "              ORG: precision:   7.21%; recall:   6.88%; FB1:   7.04  208\n",
      "              PER: precision:  36.89%; recall:  12.64%; FB1:  18.83  122\n"
     ]
    },
    {
     "data": {
      "image/png": "[encoded data removed]",
      "text/plain": [
       "<Figure size 864x432 with 2 Axes>"
      ]
     },
     "metadata": {},
     "output_type": "display_data"
    },
    {
     "name": "stderr",
     "output_type": "stream",
     "text": [
      "100%|██████████| 2500/2500 [15:36<00:00,  2.67it/s]\n"
     ]
    }
   ],
   "source": [
    "for batch in tqdm(iterate_minibatches(train_data, cycle=True, max_batches=2500), total=2500):\n",
    "    loss_t, _ = sess.run([multitask_trainer.loss, multitask_trainer.step], \n",
    "                             {multitask_trainer.ph[key]: batch[key] for key in multitask_trainer.ph if key != 'lm'})\n",
    "    loss_history.append(loss_t)\n",
    "    \n",
    "    if len(loss_history) % 100 == 0:\n",
    "        precision, recall, f1 = compute_stats(multitask_trainer, dev_data, vocabs, verbose=True)\n",
    "        dev_stats_history.precision.append(precision)\n",
    "        dev_stats_history.recall.append(recall)\n",
    "        dev_stats_history.f1.append(f1)\n",
    "        \n",
    "        clear_output(True)\n",
    "        \n",
    "        _, _, f1 = compute_stats(multitask_trainer, test_outdomain_data, vocabs, verbose=True)\n",
    "        outdomain_stats_history.f1.append(f1)\n",
    "        \n",
    "        _, _, f1 = compute_stats(multitask_trainer, test_indomain_data, vocabs, verbose=True)\n",
    "        indomain_stats_history.f1.append(f1)\n",
    "        \n",
    "        plt.figure(figsize=[12, 6])\n",
    "        plt.subplot(1, 2, 1)\n",
    "        plt.plot(loss_history)\n",
    "        plt.title('train loss'), plt.grid()\n",
    "        plt.subplot(1, 2, 2)\n",
    "        \n",
    "        plt.plot(np.arange(1, len(dev_stats_history.f1) + 1) * eval_every, dev_stats_history.f1, label=\"dev f1\")\n",
    "        plt.plot(np.arange(1, len(outdomain_stats_history.f1) + 1) * eval_every, outdomain_stats_history.f1, label=\"outdomain f1\")\n",
    "        plt.plot(np.arange(1, len(indomain_stats_history.f1) + 1) * eval_every, indomain_stats_history.f1, label=\"indomain f1\")\n",
    "        \n",
    "        plt.title('dev stats %'), plt.grid()\n",
    "        plt.show()"
   ]
  },
  {
   "cell_type": "markdown",
   "metadata": {},
   "source": [
    "Очень хотелось сделать все по-нормальному и заморозить предобученные части модели на несколько первых эпох, но я не смог совладать с чистым tf и сдался. Плато на графиках получилось случайно из-за бага в визуализации, оставленного в результате тщетных попыток сделать что-то вроде trainable=False, после чего была перезапущена клетка :( Сдвиг по итерациям малость портит вид и вгоняет в недоумение, но общий тренд понятен."
   ]
  },
  {
   "cell_type": "code",
   "execution_count": 47,
   "metadata": {},
   "outputs": [
    {
     "name": "stdout",
     "output_type": "stream",
     "text": [
      "Best dev f1 = 77.797% \n",
      "Best indomain f1 = 15.316% \n",
      "Best outdomain f1 = 36.167%\n"
     ]
    }
   ],
   "source": [
    "print(\"Best dev f1 = %.3f%%\" % max(dev_stats_history.f1),\n",
    "      \"\\nBest indomain f1 = %.3f%%\" % max(indomain_stats_history.f1),\n",
    "      \"\\nBest outdomain f1 = %.3f%%\" % max(outdomain_stats_history.f1))\n",
    "assert max(dev_stats_history.f1) > 75, \"you can do better\""
   ]
  },
  {
   "cell_type": "markdown",
   "metadata": {},
   "source": [
    "# Structured prediction for NEs (2 points)\n",
    "\n",
    "![lstm_crf_ner](https://github.com/yandexdataschool/nlp_course/raw/master/resources/lstm_crf_ner.png)\n",
    "\n",
    "[_Picture from  Lample et al._](https://arxiv.org/abs/1603.01360)\n",
    "\n",
    "A setup with seq2seq and cross-entropy loss for tagging is not so good. Because in the case tagging there is an important constraint: input and output sequence have same length, and the number of output token types is much less than the number of input token types.\n",
    "\n",
    "To use this constraint effectively it is good idea to try structured [CRF loss](https://github.com/tensorflow/tensorflow/tree/master/tensorflow/contrib/crf) for NER (and POS)\n",
    "\n",
    "\n",
    "A good example of TensorFlow implementation of NER NN with CRF loss can be found in the [blogpost](https://guillaumegenthial.github.io/sequence-tagging-with-tensorflow.html)"
   ]
  },
  {
   "cell_type": "code",
   "execution_count": null,
   "metadata": {},
   "outputs": [],
   "source": [
    "from utils import infer_length\n",
    "\n",
    "class multitask_trainer:\n",
    "    \"\"\" A trainer that computes losses for both NER, POS and LM tasks and adds them together. \"\"\"\n",
    "    ph = {\n",
    "        'word': tf.placeholder('int32', [None, None], name='input_tokens'),\n",
    "        'ne': tf.placeholder('int32', [None, None], name='named_entities'),\n",
    "        'pos': tf.placeholder('int32', [None, None], name='part_of_speech_tags'),\n",
    "        'lm': tf.placeholder('int32', [None, None], name='output_tokens'),\n",
    "    }\n",
    "\n",
    "    logits = model(ph['word'])\n",
    "    mask = infer_mask(ph['word'])\n",
    "\n",
    "    # Compute loss for NER. Feel free to reuse the code from original trainer\n",
    "    ner_loss = -tf.nn.log_softmax(logits['ne'], -1) * tf.one_hot(ph['ne'], len(vocabs['ne']))\n",
    "    ner_loss = tf.reduce_sum(ner_loss * mask[:, :, None]) / tf.reduce_sum(mask)\n",
    "    \n",
    "    log_likelihood, transition_params = tf.contrib.crf.crf_log_likelihood(\n",
    "        logits['ne'], ph['ne'], infer_length(ph['ne']))\n",
    "\n",
    "    ner_loss = tf.reduce_mean(-log_likelihood)\n",
    "\n",
    "    # Compute the same kind of loss for POS.  (key: 'pos')\n",
    "    pos_loss = -tf.nn.log_softmax(logits['pos'], -1) * tf.one_hot(ph['pos'], len(vocabs['pos']))\n",
    "    pos_loss = tf.reduce_sum(pos_loss * mask[:, :, None]) / tf.reduce_sum(mask)\n",
    "    \n",
    "    log_likelihood, transition_params = tf.contrib.crf.crf_log_likelihood(\n",
    "        logits['pos'], ph['pos'], infer_length(ph['pos']))\n",
    "\n",
    "    pos_loss = tf.reduce_mean(-log_likelihood)\n",
    "\n",
    "    # Compute the same kind of loss for LM.\n",
    "\n",
    "    lm_loss = -tf.nn.log_softmax(logits['lm'], -1) * tf.one_hot(ph['lm'], len(vocabs['word']))\n",
    "    lm_loss = tf.reduce_sum(lm_loss * mask[:, :, None]) / tf.reduce_sum(mask)\n",
    "\n",
    "    loss = ner_loss + pos_loss\n",
    "    step = tf.train.AdamOptimizer().minimize(loss)\n",
    "    lm_step = tf.train.AdamOptimizer().minimize(lm_loss)"
   ]
  },
  {
   "cell_type": "markdown",
   "metadata": {},
   "source": [
    "## Dealing with letter case and rare entities (1 points)\n",
    "\n",
    "![lstm_crf_ner](https://github.com/yandexdataschool/nlp_course/raw/master/resources/word_and_char_embedding_concat.png)\n",
    "\n",
    "[_Picture from  Lample et al._](https://arxiv.org/abs/1603.01360)\n",
    "\n",
    "First, in European languages (both English and Russian) personal names, companies, geographical names are capitalized traditionally. Thus the letter case carries a powerful signal for named entities recognition. So it is good to utilize it.\n",
    "\n",
    "Second, most of named entities are rare words. In testsets (both from source and target distributions) they are replaced by _UNK_. To deal with OOV words you can try different approaches (feel free!). For example:\n",
    "\n",
    "* You can use additional character-level recurrent layers to obtain character-aware word embeddings (see scheme on the picture above)\n",
    "* You can use pretrained embeddings with character ngram information ([FastText](https://github.com/facebookresearch/fastText/blob/master/pretrained-vectors.md))\n",
    "* You can split words by subword units using [BPE](https://arxiv.org/abs/1508.07909)"
   ]
  },
  {
   "cell_type": "markdown",
   "metadata": {},
   "source": [
    "## Domain adaptation via proxy-labels (2 points)"
   ]
  },
  {
   "cell_type": "markdown",
   "metadata": {},
   "source": [
    "As you can see above the quality of NER on the target domain (internet comments) is much worse than on the source domain (news). This is not surprising.\n",
    "\n",
    "To overcome the problem we offer you to implement any kind of proxy-label method. A good overview on this kind of methods can be found [here](https://arxiv.org/abs/1804.09530)\n",
    "\n",
    "__ATTENTION!!!__ For proxy-labeling use monolingual target-domain dataset (not testset!).\n",
    "\n",
    "Good luck!"
   ]
  },
  {
   "cell_type": "code",
   "execution_count": null,
   "metadata": {},
   "outputs": [],
   "source": []
  }
 ],
 "metadata": {
  "kernelspec": {
   "display_name": "Python 2",
   "language": "python",
   "name": "python2"
  },
  "language_info": {
   "codemirror_mode": {
    "name": "ipython",
    "version": 2
   },
   "file_extension": ".py",
   "mimetype": "text/x-python",
   "name": "python",
   "nbconvert_exporter": "python",
   "pygments_lexer": "ipython2",
   "version": "2.7.6"
  },
  "toc": {
   "base_numbering": 1,
   "nav_menu": {},
   "number_sections": true,
   "sideBar": true,
   "skip_h1_title": false,
   "title_cell": "Table of Contents",
   "title_sidebar": "Contents",
   "toc_cell": false,
   "toc_position": {},
   "toc_section_display": true,
   "toc_window_display": false
  }
 },
 "nbformat": 4,
 "nbformat_minor": 2
}
